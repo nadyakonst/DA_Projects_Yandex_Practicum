{
 "cells": [
  {
   "cell_type": "markdown",
   "metadata": {},
   "source": [
    "# A/B-тестирование платёжной воронки\n",
    "\n",
    "В проекте представлен анализ результатов A/B-теста пользователей новой платёжной воронки сайта интернет-магазина на основании данных о регистрациях, действиях, групп пользователей и маркетинговых активностях. <br>\n",
    "<br>\n",
    "<b> Задачи проекта: </b> <br>\n",
    "- провести оценку результатов A/B-теста на соответствие Техническому заданию<br>\n",
    "- оценить, достаточно ли кол-во участников теста для достижения статистической значимости различий групп <br>\n",
    "- проанализировать результаты конверсии по воронке продаж у групп теста <br>\n",
    "- оценить статистическую значимость различий в долях конверсии у групп теста<br>"
   ]
  },
  {
   "cell_type": "markdown",
   "metadata": {},
   "source": [
    "<b>Содержание проекта:</b><br>\n",
    "1. Общая информация<br>\n",
    "2. Предобработка<br>\n",
    "3. Исследовательский анализ<br>\n",
    "4. Анализ результатов А/В-теста <br>\n",
    "5. Анализ статистической значимости <br>\n",
    "6. Общий вывод<br>"
   ]
  },
  {
   "cell_type": "markdown",
   "metadata": {},
   "source": [
    "### Общая информация"
   ]
  },
  {
   "cell_type": "code",
   "execution_count": 1,
   "metadata": {},
   "outputs": [],
   "source": [
    "# загрузка необходимых библиотек\n",
    "import pandas as pd\n",
    "import numpy as np\n",
    "from datetime import datetime as dt\n",
    "from scipy import stats as st\n",
    "import math as mth\n",
    "import matplotlib.pyplot as plt\n",
    "from plotly import graph_objects as go\n",
    "from plotly.subplots import make_subplots"
   ]
  },
  {
   "cell_type": "markdown",
   "metadata": {},
   "source": [
    "<b>  Техническое задание А/В-теста: </b> <br>\n",
    "- Название теста: `recommender_system_test`;<br>\n",
    "- группы: А — контрольная, B — новая платёжная воронка;<br>\n",
    "- дата запуска: 2020-12-07;<br>\n",
    "- дата остановки набора новых пользователей: 2020-12-21;<br>\n",
    "- дата остановки: 2021-01-04;<br>\n",
    "- аудитория: 15% новых пользователей из региона EU;<br>\n",
    "- назначение теста: тестирование изменений, связанных с внедрением улучшенной рекомендательной системы;<br>\n",
    "- ожидаемое количество участников теста: 6000.<br>\n",
    "- ожидаемый эффект: за 14 дней с момента регистрации пользователи покажут улучшение каждой метрики не менее, чем на 10%:<br>\n",
    "    - конверсии в просмотр карточек товаров — событие `product_page`<br>\n",
    "    - просмотры корзины — `product_cart`<br>\n",
    "    - покупки — `purchase`"
   ]
  },
  {
   "cell_type": "markdown",
   "metadata": {},
   "source": [
    "<b>  Описание данных: </b> <br>\n",
    "<br>\n",
    "`users.csv` — пользователи, зарегистрировавшиеся с 7 по 21 декабря 2020 года:<br>\n",
    "- `user_id` — идентификатор пользователя;<br>\n",
    "- `first_date` — дата регистрации;<br>\n",
    "- `region` — регион пользователя;\n",
    "- `device` — устройство, с которого происходила регистрация.<br>\n",
    "<br>\n",
    "`events.csv` — действия новых пользователей в период с 7 декабря 2020 по 4 января 2021 года:.<br>\n",
    "- `user_id` — идентификатор пользователя;<br>\n",
    "- `event_dt` — дата и время события;<br>\n",
    "- `event_name` — тип события;\n",
    "- `details` — дополнительные данные о событии. Например, для покупок, <br>\n",
    "`purchase,` в этом поле хранится стоимость покупки в долларах.<br>\n",
    "<br>\n",
    "`test.csv` — таблица участников тестов:<br>\n",
    "- `user_id` — идентификатор пользователя;<br>\n",
    "- `ab_test` — название теста;<br>\n",
    "- `group` — группа пользователя.<br>"
   ]
  },
  {
   "cell_type": "code",
   "execution_count": 2,
   "metadata": {},
   "outputs": [],
   "source": [
    "# загрузка данных\n",
    "users = pd.read_csv('users.csv')\n",
    "events = pd.read_csv('events.csv')\n",
    "participants = pd.read_csv('test.csv')"
   ]
  },
  {
   "cell_type": "markdown",
   "metadata": {},
   "source": [
    "### Предобработка"
   ]
  },
  {
   "cell_type": "code",
   "execution_count": 3,
   "metadata": {},
   "outputs": [],
   "source": [
    "# анализ данных, нахождение пропусков и дубликататов в датасете marketing\n",
    "#users.info()\n",
    "#print('Кол-во пропусков:', users.isna().sum())\n",
    "#print('Кол-во дубликатов:',users.duplicated().sum())\n",
    "#events.info()\n",
    "#print('Кол-во пропусков:')\n",
    "#print(events.isna().sum())\n",
    "#print('Кол-во дубликатов:', events.duplicated().sum())\n",
    "#participants.info()\n",
    "#print('Кол-во пропусков:')\n",
    "#print(participants.isna().sum())\n",
    "#print('Кол-во дубликатов:', participants.duplicated().sum())"
   ]
  },
  {
   "cell_type": "code",
   "execution_count": 4,
   "metadata": {},
   "outputs": [],
   "source": [
    "# переименование столбца на registation_date\n",
    "users = users.rename(columns={\"first_date\": \"registation_date\"})"
   ]
  },
  {
   "cell_type": "code",
   "execution_count": 5,
   "metadata": {},
   "outputs": [],
   "source": [
    "# перевод даты в формат datetime и дату\n",
    "users['registation_date'] = pd.to_datetime(users['registation_date'], format='%Y-%m-%d').dt.date\n",
    "events['event_dt'] = pd.to_datetime(events['event_dt'], format='%Y-%m-%d %H:%M:%S')\n",
    "# создание отдельного столбца даты без времени\n",
    "events['event_date'] = events['event_dt'].dt.date"
   ]
  },
  {
   "cell_type": "markdown",
   "metadata": {},
   "source": [
    "<b>Выводы:</b> <br>\n",
    "Проведена предобработка датасета: <br>\n",
    "- проведена проверка датасета на явные дубликаты: не выявлено  <br>\n",
    "- проведена проверка датасета на пропуски: пропущенные значения выявлены для датасета events, наличие пропусков по столбцу 'details' корректно типу информации в данном столбце <br> \n",
    "- изменены типы данных на datetime <br>"
   ]
  },
  {
   "cell_type": "markdown",
   "metadata": {},
   "source": [
    "### Исследовательский анализ"
   ]
  },
  {
   "cell_type": "markdown",
   "metadata": {},
   "source": [
    "####  Анализ структуры данных"
   ]
  },
  {
   "cell_type": "code",
   "execution_count": 6,
   "metadata": {},
   "outputs": [
    {
     "name": "stdout",
     "output_type": "stream",
     "text": [
      "Регионы новых пользователей: ['EU' 'N.America' 'APAC' 'CIS']\n",
      "Устройства новых пользователей: ['PC' 'Android' 'iPhone' 'Mac']\n",
      "События новых пользователей: ['purchase' 'product_cart' 'product_page' 'login']\n",
      "Распределение участников:\n"
     ]
    },
    {
     "data": {
      "text/html": [
       "<div>\n",
       "<style scoped>\n",
       "    .dataframe tbody tr th:only-of-type {\n",
       "        vertical-align: middle;\n",
       "    }\n",
       "\n",
       "    .dataframe tbody tr th {\n",
       "        vertical-align: top;\n",
       "    }\n",
       "\n",
       "    .dataframe thead th {\n",
       "        text-align: right;\n",
       "    }\n",
       "</style>\n",
       "<table border=\"1\" class=\"dataframe\">\n",
       "  <thead>\n",
       "    <tr style=\"text-align: right;\">\n",
       "      <th>group</th>\n",
       "      <th>A</th>\n",
       "      <th>B</th>\n",
       "    </tr>\n",
       "    <tr>\n",
       "      <th>ab_test</th>\n",
       "      <th></th>\n",
       "      <th></th>\n",
       "    </tr>\n",
       "  </thead>\n",
       "  <tbody>\n",
       "    <tr>\n",
       "      <th>interface_eu_test</th>\n",
       "      <td>5831</td>\n",
       "      <td>5736</td>\n",
       "    </tr>\n",
       "    <tr>\n",
       "      <th>recommender_system_test</th>\n",
       "      <td>3824</td>\n",
       "      <td>2877</td>\n",
       "    </tr>\n",
       "  </tbody>\n",
       "</table>\n",
       "</div>"
      ],
      "text/plain": [
       "group                       A     B\n",
       "ab_test                            \n",
       "interface_eu_test        5831  5736\n",
       "recommender_system_test  3824  2877"
      ]
     },
     "metadata": {},
     "output_type": "display_data"
    }
   ],
   "source": [
    "# анализ данных по категориям, событиям и группам, представленным в датасетах\n",
    "print('Регионы новых пользователей:', users['region'].unique())\n",
    "print('Устройства новых пользователей:', users['device'].unique())\n",
    "print('События новых пользователей:',events['event_name'].unique())\n",
    "print('Распределение участников:')\n",
    "display(participants.pivot_table(index = 'ab_test', columns = 'group', values = 'user_id', aggfunc = 'nunique'))"
   ]
  },
  {
   "cell_type": "markdown",
   "metadata": {},
   "source": [
    "<b>Выводы:</b><br>\n",
    "В датасетах представленны данные:<br>\n",
    "- пользователи из 4х регионов ('EU' 'N.America' 'APAC' 'CIS')<br>\n",
    "- пользователи 4х устройств ('PC' 'Android' 'iPhone' 'Mac')<br>\n",
    "- данные собраны по 4-м событиям: покупка ('purchase'), добавление в корзину ('product_cart'), просмотр страницы товара ('product_page'), авторизация ('login')<br>\n",
    "- пользователи 2х тестов: 'interface_eu_test' и 'recommender_system_test'\n",
    "- в аудитории каждого теста есть 2 группы: 'A' и 'B'"
   ]
  },
  {
   "cell_type": "markdown",
   "metadata": {},
   "source": [
    "####  Анализ периода дат"
   ]
  },
  {
   "cell_type": "code",
   "execution_count": 7,
   "metadata": {},
   "outputs": [
    {
     "name": "stdout",
     "output_type": "stream",
     "text": [
      "Минимальная дата регистрации пользователей из EU: 2020-12-07\n",
      "Максимальная дата регистрации пользователей из EU: 2020-12-23\n"
     ]
    }
   ],
   "source": [
    "# анализ периода дат регистрации новых пользователей\n",
    "print('Минимальная дата регистрации пользователей из EU:', users['registation_date'].min())\n",
    "print('Максимальная дата регистрации пользователей из EU:', users['registation_date'].max())"
   ]
  },
  {
   "cell_type": "markdown",
   "metadata": {},
   "source": [
    "<b>Выводы:</b><br>\n",
    "В датасете new_users собраны данные о регистрации пользователей с 2020-12-07 по 2020-12-23<br>\n",
    "<br>\n",
    "По техническому заданию дата запуска теста : 2020-12-07, дата остановки набора новых пользователей: 2020-12-21<br>\n",
    "=> необходимо удалить пользователей, которые зарегистрировались после  2020-12-21"
   ]
  },
  {
   "cell_type": "code",
   "execution_count": 8,
   "metadata": {},
   "outputs": [
    {
     "name": "stdout",
     "output_type": "stream",
     "text": [
      "Кол-во удаленных пользователей: 5263\n",
      "Кол-во удаленных пользователей,%: 0.085\n"
     ]
    }
   ],
   "source": [
    "# фильтрация датасета new_users по дате (финальная дата регистрации = 2020-12-21)\n",
    "users_filtered = users[users['registation_date'] <= dt(2020, 12, 21).date()]\n",
    "print('Кол-во удаленных пользователей:', users['user_id'].nunique() - users_filtered['user_id'].nunique())\n",
    "print('Кол-во удаленных пользователей,%:', round((users['user_id'].nunique() - users_filtered['user_id'].nunique()) / users['user_id'].nunique(),3))"
   ]
  },
  {
   "cell_type": "markdown",
   "metadata": {},
   "source": [
    "<b>Выводы:</b><br>\n",
    "Из датасета users были удалены 5263 пользователя (8.5%) для соответствия Техническому заданию (дата остановки теста 2020-12-21)<br>"
   ]
  },
  {
   "cell_type": "code",
   "execution_count": 9,
   "metadata": {},
   "outputs": [
    {
     "name": "stdout",
     "output_type": "stream",
     "text": [
      "Минимальная дата : 2020-12-07\n",
      "Максимальная дата : 2020-12-30\n"
     ]
    }
   ],
   "source": [
    "# анализ периода дат событий \n",
    "print('Минимальная дата :', events['event_date'].min())\n",
    "print('Максимальная дата :', events['event_date'].max())"
   ]
  },
  {
   "cell_type": "markdown",
   "metadata": {},
   "source": [
    "<b>Выводы:</b><br>\n",
    "В датасете events собраны данные о действиях пользователей с 2020-12-07 по 2020-12-30<br>\n",
    "<br>\n",
    "По техническому заданию дата остановки А/В-теста: 2021-01-04<br>\n",
    "=> события в файле events соответствуют Техническому заданию, ничего удалять не нужно"
   ]
  },
  {
   "cell_type": "markdown",
   "metadata": {},
   "source": [
    "####  Анализ регионов"
   ]
  },
  {
   "cell_type": "code",
   "execution_count": 10,
   "metadata": {},
   "outputs": [
    {
     "name": "stdout",
     "output_type": "stream",
     "text": [
      "Кол-во новых пользователей из всех регионов, зарегистрировавшихся с 7 по 21 декабря 2020: 56470\n",
      "Кол-во новых пользователей из региона EU: 42340\n",
      "Доля новых пользователей из региона EU: 0.75\n"
     ]
    }
   ],
   "source": [
    "# анализ пользователей из региона EU\n",
    "print('Кол-во новых пользователей из всех регионов, зарегистрировавшихся с 7 по 21 декабря 2020:', users_filtered['user_id'].nunique())\n",
    "print('Кол-во новых пользователей из региона EU:', users_filtered[users_filtered['region'] == 'EU']['user_id'].nunique())\n",
    "print('Доля новых пользователей из региона EU:', round(users_filtered[users_filtered['region'] == 'EU']['user_id'].nunique() / users_filtered['user_id'].nunique(),3))"
   ]
  },
  {
   "cell_type": "markdown",
   "metadata": {},
   "source": [
    "<b>Выводы:</b><br>\n",
    "Доля пользователей из региона EU составляет 75% от всех новых пользователей, зарегистрировавшихся с 7 по 21 декабря 2020 <br>\n",
    "<br>\n",
    "По техническому заданию новые пользователи должны быть из региона EU<br>\n",
    "=> необходимо оставить пользователей только из региона EU"
   ]
  },
  {
   "cell_type": "code",
   "execution_count": 11,
   "metadata": {},
   "outputs": [],
   "source": [
    "# добавление пользователей из региона EU в отдельную переменную\n",
    "users_eu = users_filtered[users_filtered['region'] == 'EU']\n",
    "# создания файла с действиями пользователей из региона EU\n",
    "eu_events = users_eu.merge(events, on = 'user_id')"
   ]
  },
  {
   "cell_type": "markdown",
   "metadata": {},
   "source": [
    "####   Анализ участников теста </b>"
   ]
  },
  {
   "cell_type": "code",
   "execution_count": 12,
   "metadata": {},
   "outputs": [
    {
     "data": {
      "text/html": [
       "<div>\n",
       "<style scoped>\n",
       "    .dataframe tbody tr th:only-of-type {\n",
       "        vertical-align: middle;\n",
       "    }\n",
       "\n",
       "    .dataframe tbody tr th {\n",
       "        vertical-align: top;\n",
       "    }\n",
       "\n",
       "    .dataframe thead th {\n",
       "        text-align: right;\n",
       "    }\n",
       "</style>\n",
       "<table border=\"1\" class=\"dataframe\">\n",
       "  <thead>\n",
       "    <tr style=\"text-align: right;\">\n",
       "      <th>group</th>\n",
       "      <th>A</th>\n",
       "      <th>B</th>\n",
       "    </tr>\n",
       "    <tr>\n",
       "      <th>ab_test</th>\n",
       "      <th></th>\n",
       "      <th></th>\n",
       "    </tr>\n",
       "  </thead>\n",
       "  <tbody>\n",
       "    <tr>\n",
       "      <th>interface_eu_test</th>\n",
       "      <td>5342</td>\n",
       "      <td>5223</td>\n",
       "    </tr>\n",
       "    <tr>\n",
       "      <th>recommender_system_test</th>\n",
       "      <td>3634</td>\n",
       "      <td>2717</td>\n",
       "    </tr>\n",
       "  </tbody>\n",
       "</table>\n",
       "</div>"
      ],
      "text/plain": [
       "group                       A     B\n",
       "ab_test                            \n",
       "interface_eu_test        5342  5223\n",
       "recommender_system_test  3634  2717"
      ]
     },
     "metadata": {},
     "output_type": "display_data"
    },
    {
     "name": "stdout",
     "output_type": "stream",
     "text": [
      "Кол-во участников теста recommender_system_test: 6351\n",
      "Доля участников теста recommender_system_test от новых пользователей региона EU: 0.15\n"
     ]
    }
   ],
   "source": [
    "# объединение пользователей из региона EU с данными по группам теста и событиями в отдельную переменную\n",
    "users_eu_abtest = users_eu.merge(participants, on = 'user_id')\n",
    "# анализ распределения пользователей из региона EU по группам теста\n",
    "display(users_eu_abtest.pivot_table(index = 'ab_test', columns = 'group', values = 'user_id', aggfunc = 'nunique'))\n",
    "# анализ кол-ва участников теста 'recommender_system_test' от всех новых пользователей региона\n",
    "print('Кол-во участников теста recommender_system_test:', users_eu_abtest[users_eu_abtest['ab_test'] == 'recommender_system_test']['user_id'].nunique())\n",
    "print('Доля участников теста recommender_system_test от новых пользователей региона EU:', round(users_eu_abtest[users_eu_abtest['ab_test'] == 'recommender_system_test']['user_id'].nunique() / users_eu['user_id'].nunique(),3))"
   ]
  },
  {
   "cell_type": "markdown",
   "metadata": {},
   "source": [
    "<b>Выводы:</b><br>\n",
    "Для новых пользователей из региона EU были проведены 2 теста: interface_eu_test и recommender_system_test<br>\n",
    "<br>\n",
    "Кол-во участников теста recommender_system_test составляет 6351 пользователь<br>\n",
    "Доля участников теста recommender_system_test от всех новых пользователей региона EU составляет 15%<br>\n",
    "<br>\n",
    "=> Пункты Технического задания А/В-теста соблюдены:<br>\n",
    "аудитория: 15% новых пользователей из региона EU<br>\n",
    "ожидаемое количество участников теста: 6000<br>"
   ]
  },
  {
   "cell_type": "code",
   "execution_count": 13,
   "metadata": {},
   "outputs": [
    {
     "data": {
      "text/html": [
       "<div>\n",
       "<style scoped>\n",
       "    .dataframe tbody tr th:only-of-type {\n",
       "        vertical-align: middle;\n",
       "    }\n",
       "\n",
       "    .dataframe tbody tr th {\n",
       "        vertical-align: top;\n",
       "    }\n",
       "\n",
       "    .dataframe thead th {\n",
       "        text-align: right;\n",
       "    }\n",
       "</style>\n",
       "<table border=\"1\" class=\"dataframe\">\n",
       "  <thead>\n",
       "    <tr style=\"text-align: right;\">\n",
       "      <th></th>\n",
       "      <th>ab_test</th>\n",
       "    </tr>\n",
       "    <tr>\n",
       "      <th>user_id</th>\n",
       "      <th></th>\n",
       "    </tr>\n",
       "  </thead>\n",
       "  <tbody>\n",
       "    <tr>\n",
       "      <th>001064FEAAB631A1</th>\n",
       "      <td>2</td>\n",
       "    </tr>\n",
       "    <tr>\n",
       "      <th>00341D8401F0F665</th>\n",
       "      <td>2</td>\n",
       "    </tr>\n",
       "  </tbody>\n",
       "</table>\n",
       "</div>"
      ],
      "text/plain": [
       "                  ab_test\n",
       "user_id                  \n",
       "001064FEAAB631A1        2\n",
       "00341D8401F0F665        2"
      ]
     },
     "metadata": {},
     "output_type": "display_data"
    },
    {
     "name": "stdout",
     "output_type": "stream",
     "text": [
      "Кол-во пользователей, попавших в 2 теста:  1602\n"
     ]
    }
   ],
   "source": [
    "# анализ пересечения пользователей региона EU по группам тестов (пользователи попали сразу в 2х разных теста)\n",
    "test_crossing = users_eu_abtest.groupby('user_id').agg({'ab_test':'nunique'})\n",
    "test_crossing = test_crossing[test_crossing['ab_test'] > 1]\n",
    "display(test_crossing.head(2))\n",
    "print('Кол-во пользователей, попавших в 2 теста: ',len(test_crossing))"
   ]
  },
  {
   "cell_type": "markdown",
   "metadata": {},
   "source": [
    "<b>Выводы:</b><br>\n",
    "1602 новых пользователя из региона EU участвовали сразу в 2х тестах (recommender_system_test и interface_eu_test)<br>"
   ]
  },
  {
   "cell_type": "code",
   "execution_count": 14,
   "metadata": {},
   "outputs": [
    {
     "data": {
      "text/html": [
       "<div>\n",
       "<style scoped>\n",
       "    .dataframe tbody tr th:only-of-type {\n",
       "        vertical-align: middle;\n",
       "    }\n",
       "\n",
       "    .dataframe tbody tr th {\n",
       "        vertical-align: top;\n",
       "    }\n",
       "\n",
       "    .dataframe thead th {\n",
       "        text-align: right;\n",
       "    }\n",
       "</style>\n",
       "<table border=\"1\" class=\"dataframe\">\n",
       "  <thead>\n",
       "    <tr style=\"text-align: right;\">\n",
       "      <th></th>\n",
       "      <th>group_A</th>\n",
       "      <th>group_B</th>\n",
       "      <th>group_A_share</th>\n",
       "      <th>group_B_share</th>\n",
       "    </tr>\n",
       "    <tr>\n",
       "      <th>ab_test</th>\n",
       "      <th></th>\n",
       "      <th></th>\n",
       "      <th></th>\n",
       "      <th></th>\n",
       "    </tr>\n",
       "  </thead>\n",
       "  <tbody>\n",
       "    <tr>\n",
       "      <th>interface_eu_test</th>\n",
       "      <td>819</td>\n",
       "      <td>783</td>\n",
       "      <td>0.511236</td>\n",
       "      <td>0.488764</td>\n",
       "    </tr>\n",
       "    <tr>\n",
       "      <th>recommender_system_test</th>\n",
       "      <td>921</td>\n",
       "      <td>681</td>\n",
       "      <td>0.574906</td>\n",
       "      <td>0.425094</td>\n",
       "    </tr>\n",
       "  </tbody>\n",
       "</table>\n",
       "</div>"
      ],
      "text/plain": [
       "                         group_A  group_B  group_A_share  group_B_share\n",
       "ab_test                                                                \n",
       "interface_eu_test            819      783       0.511236       0.488764\n",
       "recommender_system_test      921      681       0.574906       0.425094"
      ]
     },
     "metadata": {},
     "output_type": "display_data"
    }
   ],
   "source": [
    "# анализ равномерности распределения пользователей, попавших в 2 теста, по группам\n",
    "users_2_tests = users_eu_abtest.query('user_id in @test_crossing.index')\n",
    "users_2_tests_pivot = users_2_tests.pivot_table(index = 'ab_test', columns = 'group', values = 'user_id', aggfunc = 'nunique')\n",
    "users_2_tests_pivot.columns = ['group_A', 'group_B']\n",
    "users_2_tests_pivot['group_A_share'] = users_2_tests_pivot['group_A'] / (users_2_tests_pivot['group_A']+users_2_tests_pivot['group_B'])\n",
    "users_2_tests_pivot['group_B_share'] = users_2_tests_pivot['group_B'] / (users_2_tests_pivot['group_A']+users_2_tests_pivot['group_B'])\n",
    "display(users_2_tests_pivot)"
   ]
  },
  {
   "cell_type": "markdown",
   "metadata": {},
   "source": [
    "<b>Выводы:</b><br>\n",
    "Пользователи, попавшие сразу в 2 теста, неравномерно распределены в 2х тестах в группе В (в гурппе В 49% и 43% пользователей, попавших стразу в 2 теста) <br>\n",
    "=> необходимо исключить пользователей, попавших в 2 теста, из тестов в связи с неравномерным распределением между группами<br>"
   ]
  },
  {
   "cell_type": "code",
   "execution_count": 15,
   "metadata": {},
   "outputs": [],
   "source": [
    "# удаление пользователей, попавших сразу в 2 теста - новая отдельная переменная \n",
    "new_users_eu_abtest_no_crossing = users_eu_abtest.query('user_id not in @test_crossing.index')"
   ]
  },
  {
   "cell_type": "markdown",
   "metadata": {},
   "source": [
    "<b>Выводы:</b><br>\n",
    "Были исключены пользователи, попавшие сразу в 2 теста, в кол-ве 1602 пользователя <br>"
   ]
  },
  {
   "cell_type": "markdown",
   "metadata": {},
   "source": [
    "<div class=\"alert alert-info\">\n",
    "<b>Выводы на соответствие данных Техническому заданию:</b> <br>\n",
    "<br>\n",
    "Проведен анализ данных, представленных в датасетах, на соответсивие Техническому заданию А/В-теста: <br>\n",
    "1. Дата запуска: 2020-12-07, дата остановки набора новых пользователей: 2020-12-21<br>\n",
    "=> из датасета new_users были удалены 5263 пользователя (8.5%), чьи действия были после  даты остановки теста 2020-12-21 <br>       \n",
    "2. Дата остановки теста: 2021-01-04<br> \n",
    "=> подтверждено, в файле events собраны данные о действиях пользователей с 2020-12-07 по 2020-12-30   <br>  \n",
    "3. Аудитория: 15% новых пользователей из региона EU<br>\n",
    "=> подтверждено, есть данные о 6351 новом пользователе - участнике теста recommender_system_test, что составляет 15% из 42340 новых пользователей региона EU  <br>\n",
    "4. Ожидаемое количество участников теста: 6000<br>\n",
    "=> подтверждено, есть данные о 6351 новом пользователе - участнике теста recommender_system_test<br> \n",
    "5. Дополнительно: пересечение с другими тестами <br>\n",
    "=>  1602 новых пользователя из региона EU участвовали сразу в 2х тестах: recommender_system_test и interface_eu_test => были исключны из теста recommender_system_test для корректности данных<br>"
   ]
  },
  {
   "cell_type": "markdown",
   "metadata": {},
   "source": [
    "### Анализ результатов А/В теста"
   ]
  },
  {
   "cell_type": "markdown",
   "metadata": {},
   "source": [
    "Название теста: recommender_system_test"
   ]
  },
  {
   "cell_type": "markdown",
   "metadata": {},
   "source": [
    "<b> / Кол-во участников </b>"
   ]
  },
  {
   "cell_type": "code",
   "execution_count": 16,
   "metadata": {},
   "outputs": [
    {
     "data": {
      "text/html": [
       "<div>\n",
       "<style scoped>\n",
       "    .dataframe tbody tr th:only-of-type {\n",
       "        vertical-align: middle;\n",
       "    }\n",
       "\n",
       "    .dataframe tbody tr th {\n",
       "        vertical-align: top;\n",
       "    }\n",
       "\n",
       "    .dataframe thead th {\n",
       "        text-align: right;\n",
       "    }\n",
       "</style>\n",
       "<table border=\"1\" class=\"dataframe\">\n",
       "  <thead>\n",
       "    <tr style=\"text-align: right;\">\n",
       "      <th>group</th>\n",
       "      <th>A</th>\n",
       "      <th>B</th>\n",
       "    </tr>\n",
       "    <tr>\n",
       "      <th>ab_test</th>\n",
       "      <th></th>\n",
       "      <th></th>\n",
       "    </tr>\n",
       "  </thead>\n",
       "  <tbody>\n",
       "    <tr>\n",
       "      <th>recommender_system_test</th>\n",
       "      <td>2713</td>\n",
       "      <td>2036</td>\n",
       "    </tr>\n",
       "  </tbody>\n",
       "</table>\n",
       "</div>"
      ],
      "text/plain": [
       "group                       A     B\n",
       "ab_test                            \n",
       "recommender_system_test  2713  2036"
      ]
     },
     "metadata": {},
     "output_type": "display_data"
    },
    {
     "name": "stdout",
     "output_type": "stream",
     "text": [
      "Кол-во участников теста recommender_system_test: 4749\n",
      "Проверка распределения участников теста recommender_system_test по группам А и В (пересечения): 0\n"
     ]
    }
   ],
   "source": [
    "# выделение участников теста recommender_system_test в отдельную переменную\n",
    "eu_recommender_test_users = new_users_eu_abtest_no_crossing.query('ab_test == \"recommender_system_test\"')\n",
    "display(eu_recommender_test_users.pivot_table(index = 'ab_test', columns = 'group', values = 'user_id', aggfunc = 'nunique'))\n",
    "print('Кол-во участников теста recommender_system_test:', eu_recommender_test_users['user_id'].nunique())\n",
    "print('Проверка распределения участников теста recommender_system_test по группам А и В (пересечения):',eu_recommender_test_users['user_id'].nunique() - eu_recommender_test_users[eu_recommender_test_users['group'] == 'A']['user_id'].nunique() - eu_recommender_test_users[eu_recommender_test_users['group'] == 'B']['user_id'].nunique())"
   ]
  },
  {
   "cell_type": "markdown",
   "metadata": {},
   "source": [
    "<b>Выводы:</b><br>\n",
    "Итоговое кол-во участников теста recommender_system_test стало 4749 пользователей <br>\n",
    "Пересечений по группам A и B нет <br>\n"
   ]
  },
  {
   "cell_type": "markdown",
   "metadata": {},
   "source": [
    "<div class=\"alert alert-info\">\n",
    "<b>Промежуточная оценка кол-ва участников теста :</b><br>\n",
    "Для оценки, достаточно ли данного кол-ва участников А/В-теста для нахождения статистической значимости различий групп, необходимо рассчитать конверсию в действие и проверить на калькуляторе А/В-тестов кол-во необходимых участников.<br>"
   ]
  },
  {
   "cell_type": "markdown",
   "metadata": {},
   "source": [
    "<b> / Действия участников </b>"
   ]
  },
  {
   "cell_type": "code",
   "execution_count": 17,
   "metadata": {},
   "outputs": [
    {
     "name": "stdout",
     "output_type": "stream",
     "text": [
      "Кол-во уникальных участников теста, совершивших дейтсвие: 2594\n",
      "Кол-во участников теста, которые зарегистрировались и не совершили действие: 2155\n",
      "Доля участников теста, которые зарегистрировались и не совершили действие: 0.454\n"
     ]
    }
   ],
   "source": [
    "# объединение пользователей и событий\n",
    "eu_recommender_test_events = eu_recommender_test_users.merge(events, on = 'user_id')\n",
    "# анализ кол-ва пользователей, которые зарегистрировались и не совершили дейтсвий\n",
    "print('Кол-во уникальных участников теста, совершивших дейтсвие:', eu_recommender_test_events['user_id'].nunique())\n",
    "print('Кол-во участников теста, которые зарегистрировались и не совершили действие:', eu_recommender_test_users['user_id'].nunique() - eu_recommender_test_events['user_id'].nunique())\n",
    "print('Доля участников теста, которые зарегистрировались и не совершили действие:', round ((eu_recommender_test_users['user_id'].nunique() - eu_recommender_test_events['user_id'].nunique()) / eu_recommender_test_users['user_id'].nunique(),3)) "
   ]
  },
  {
   "cell_type": "markdown",
   "metadata": {},
   "source": [
    "<b>Выводы:</b><br>\n",
    "Среди участников теста recommender_system_test 45% участников не совершили никакого действия"
   ]
  },
  {
   "cell_type": "code",
   "execution_count": 18,
   "metadata": {},
   "outputs": [
    {
     "data": {
      "text/html": [
       "<div>\n",
       "<style scoped>\n",
       "    .dataframe tbody tr th:only-of-type {\n",
       "        vertical-align: middle;\n",
       "    }\n",
       "\n",
       "    .dataframe tbody tr th {\n",
       "        vertical-align: top;\n",
       "    }\n",
       "\n",
       "    .dataframe thead th {\n",
       "        text-align: right;\n",
       "    }\n",
       "</style>\n",
       "<table border=\"1\" class=\"dataframe\">\n",
       "  <thead>\n",
       "    <tr style=\"text-align: right;\">\n",
       "      <th>group</th>\n",
       "      <th>A</th>\n",
       "      <th>B</th>\n",
       "    </tr>\n",
       "    <tr>\n",
       "      <th>ab_test</th>\n",
       "      <th></th>\n",
       "      <th></th>\n",
       "    </tr>\n",
       "  </thead>\n",
       "  <tbody>\n",
       "    <tr>\n",
       "      <th>recommender_system_test</th>\n",
       "      <td>1939</td>\n",
       "      <td>655</td>\n",
       "    </tr>\n",
       "  </tbody>\n",
       "</table>\n",
       "</div>"
      ],
      "text/plain": [
       "group                       A    B\n",
       "ab_test                           \n",
       "recommender_system_test  1939  655"
      ]
     },
     "metadata": {},
     "output_type": "display_data"
    },
    {
     "name": "stdout",
     "output_type": "stream",
     "text": [
      "Доля пользователей группы А, совершивших действие, от всех участников группы А, %: 0.715\n",
      "Доля пользователей группы В, совершивших действие, от всех участников группы В, %: 0.322\n"
     ]
    }
   ],
   "source": [
    "# распределение пользователей, совершивших действие, по группам теста\n",
    "display(eu_recommender_test_events.pivot_table(index = 'ab_test', columns = 'group', values = 'user_id', aggfunc = 'nunique'))\n",
    "print('Доля пользователей группы А, совершивших действие, от всех участников группы А, %:', round( eu_recommender_test_events.query('group == \"A\"')['user_id'].nunique() / eu_recommender_test_users.query('group == \"A\"')['user_id'].nunique(),3))\n",
    "print('Доля пользователей группы В, совершивших действие, от всех участников группы В, %:',round( eu_recommender_test_events.query('group == \"B\"')['user_id'].nunique() / eu_recommender_test_users.query('group == \"B\"')['user_id'].nunique(),3))"
   ]
  },
  {
   "cell_type": "markdown",
   "metadata": {},
   "source": [
    "<b>Выводы:</b><br>\n",
    "В группе А действие совершили 72% участников<br>\n",
    "В группе В действие совершили 32% участников<br>\n",
    "<br>\n",
    "Участники групп, совершивших действие, распределились неравномерно: группа В значительно хуже в показателях конверсии в действие <br>\n",
    "<br>\n",
    "=> Результаты конверсии участников групп в действия будут оценены далее при анализе воронки продаж (возможно, малая активность в действия не повлияла на конверсию в покупку)"
   ]
  },
  {
   "cell_type": "code",
   "execution_count": 19,
   "metadata": {},
   "outputs": [
    {
     "data": {
      "text/html": [
       "<div>\n",
       "<style scoped>\n",
       "    .dataframe tbody tr th:only-of-type {\n",
       "        vertical-align: middle;\n",
       "    }\n",
       "\n",
       "    .dataframe tbody tr th {\n",
       "        vertical-align: top;\n",
       "    }\n",
       "\n",
       "    .dataframe thead th {\n",
       "        text-align: right;\n",
       "    }\n",
       "</style>\n",
       "<table border=\"1\" class=\"dataframe\">\n",
       "  <thead>\n",
       "    <tr style=\"text-align: right;\">\n",
       "      <th></th>\n",
       "      <th>user_id</th>\n",
       "      <th>event_name</th>\n",
       "    </tr>\n",
       "  </thead>\n",
       "  <tbody>\n",
       "    <tr>\n",
       "      <th>158</th>\n",
       "      <td>1198061F6AF34B7B</td>\n",
       "      <td>28</td>\n",
       "    </tr>\n",
       "    <tr>\n",
       "      <th>156</th>\n",
       "      <td>115EBC1CA027854A</td>\n",
       "      <td>27</td>\n",
       "    </tr>\n",
       "    <tr>\n",
       "      <th>284</th>\n",
       "      <td>1BFEE479308EFF44</td>\n",
       "      <td>24</td>\n",
       "    </tr>\n",
       "  </tbody>\n",
       "</table>\n",
       "</div>"
      ],
      "text/plain": [
       "              user_id  event_name\n",
       "158  1198061F6AF34B7B          28\n",
       "156  115EBC1CA027854A          27\n",
       "284  1BFEE479308EFF44          24"
      ]
     },
     "metadata": {},
     "output_type": "display_data"
    },
    {
     "data": {
      "image/png": "[encoded data removed]",
      "text/plain": [
       "<Figure size 576x288 with 1 Axes>"
      ]
     },
     "metadata": {
      "needs_background": "light"
     },
     "output_type": "display_data"
    }
   ],
   "source": [
    "# проверка кол-в событий на пользователей на аномалии (очень активные пользователи)\n",
    "test_groups_events_by_users = eu_recommender_test_events.groupby('user_id', as_index=False).agg({'event_name': 'count'})\n",
    "display(test_groups_events_by_users.sort_values(by='event_name', ascending = False).head(3))\n",
    "# построение графика разброса значений кол-ва действий на пользователя\n",
    "x_values = pd.Series(range(0,len(test_groups_events_by_users)))\n",
    "plt.figure(figsize=(8,4))\n",
    "plt.scatter(x_values, test_groups_events_by_users['event_name'])\n",
    "plt.title('График разброса кол-ва действий на участника',y=1.02)\n",
    "plt.xlabel('Кол-во уникальных участников, совершивших действие')\n",
    "plt.ylabel('Кол-во действий на участника')\n",
    "plt.show()"
   ]
  },
  {
   "cell_type": "markdown",
   "metadata": {},
   "source": [
    "<b>Выводы:</b><br>\n",
    "При анализе кол-ва действий у самого активного пользователя 28 действий <br>\n",
    "<br>\n",
    "=> никого усключать не нужно - нет аномальных значений по кол-ву действий на пользователя <br>"
   ]
  },
  {
   "cell_type": "markdown",
   "metadata": {},
   "source": [
    "<b> / Анализ периода между регистрацией и действием </b>"
   ]
  },
  {
   "cell_type": "code",
   "execution_count": 20,
   "metadata": {},
   "outputs": [
    {
     "data": {
      "text/html": [
       "<div>\n",
       "<style scoped>\n",
       "    .dataframe tbody tr th:only-of-type {\n",
       "        vertical-align: middle;\n",
       "    }\n",
       "\n",
       "    .dataframe tbody tr th {\n",
       "        vertical-align: top;\n",
       "    }\n",
       "\n",
       "    .dataframe thead th {\n",
       "        text-align: right;\n",
       "    }\n",
       "</style>\n",
       "<table border=\"1\" class=\"dataframe\">\n",
       "  <thead>\n",
       "    <tr style=\"text-align: right;\">\n",
       "      <th></th>\n",
       "      <th>user_id</th>\n",
       "      <th>registation_date</th>\n",
       "      <th>region</th>\n",
       "      <th>device</th>\n",
       "      <th>group</th>\n",
       "      <th>ab_test</th>\n",
       "      <th>event_dt</th>\n",
       "      <th>event_name</th>\n",
       "      <th>details</th>\n",
       "      <th>event_date</th>\n",
       "      <th>days_period</th>\n",
       "    </tr>\n",
       "  </thead>\n",
       "  <tbody>\n",
       "    <tr>\n",
       "      <th>0</th>\n",
       "      <td>D72A72121175D8BE</td>\n",
       "      <td>2020-12-07</td>\n",
       "      <td>EU</td>\n",
       "      <td>PC</td>\n",
       "      <td>A</td>\n",
       "      <td>recommender_system_test</td>\n",
       "      <td>2020-12-07 21:52:10</td>\n",
       "      <td>product_page</td>\n",
       "      <td>NaN</td>\n",
       "      <td>2020-12-07</td>\n",
       "      <td>0</td>\n",
       "    </tr>\n",
       "  </tbody>\n",
       "</table>\n",
       "</div>"
      ],
      "text/plain": [
       "            user_id registation_date region device group  \\\n",
       "0  D72A72121175D8BE       2020-12-07     EU     PC     A   \n",
       "\n",
       "                   ab_test            event_dt    event_name  details  \\\n",
       "0  recommender_system_test 2020-12-07 21:52:10  product_page      NaN   \n",
       "\n",
       "   event_date  days_period  \n",
       "0  2020-12-07            0  "
      ]
     },
     "metadata": {},
     "output_type": "display_data"
    }
   ],
   "source": [
    "# добавление столбца с расчетом периода в днях между действием и датой регистрации\n",
    "eu_recommender_test_events['days_period'] = (eu_recommender_test_events['event_date'] - eu_recommender_test_events['registation_date']).dt.days\n",
    "# проверка корректности добавления \n",
    "display(eu_recommender_test_events.head(1))"
   ]
  },
  {
   "cell_type": "code",
   "execution_count": 21,
   "metadata": {},
   "outputs": [
    {
     "data": {
      "image/png": "[encoded data removed]",
      "text/plain": [
       "<Figure size 864x288 with 1 Axes>"
      ]
     },
     "metadata": {
      "needs_background": "light"
     },
     "output_type": "display_data"
    },
    {
     "data": {
      "image/png": "[encoded data removed]",
      "text/plain": [
       "<Figure size 864x288 with 1 Axes>"
      ]
     },
     "metadata": {
      "needs_background": "light"
     },
     "output_type": "display_data"
    }
   ],
   "source": [
    "# анализ активности в днях (через сколько дней после регистрации пользователи совершают действие - из тех, кто совершил дейтствие)\n",
    "# группа А\n",
    "eu_recommender_test_events.query('group == \"A\"' ).pivot_table(\n",
    "    index = 'days_period', columns = 'event_name', values = 'user_id', aggfunc = 'nunique').plot(figsize=(12,4))\n",
    "plt.title('Распределение событий пользователей группы А по дням после регистрации', y= 1.02)\n",
    "plt.xlabel('кол-во дней после регистрации')\n",
    "plt.ylabel('Уникальные пользователи, кол-во')\n",
    "plt.show()\n",
    "# группа В\n",
    "eu_recommender_test_events.query('group == \"B\"' ).pivot_table(\n",
    "    index = 'days_period', columns = 'event_name', values = 'user_id', aggfunc = 'nunique').plot(figsize=(12,4))\n",
    "plt.title('Распределение событий пользователей группы В по дням после регистрации', y= 1.02)\n",
    "plt.xlabel('кол-во дней после регистрации')\n",
    "plt.ylabel('Уникальные пользователи, кол-во')\n",
    "plt.show()"
   ]
  },
  {
   "cell_type": "markdown",
   "metadata": {},
   "source": [
    "<b>Выводы:</b><br>\n",
    "Среди участников теста, которые совершили какое-либо действие, большинство участников совершают действие в первые 10 дней после регистрации"
   ]
  },
  {
   "cell_type": "markdown",
   "metadata": {},
   "source": [
    "<b> / Анализ действий по дням периода </b>"
   ]
  },
  {
   "cell_type": "code",
   "execution_count": 22,
   "metadata": {},
   "outputs": [
    {
     "data": {
      "image/png": "[encoded data removed]",
      "text/plain": [
       "<Figure size 864x288 with 1 Axes>"
      ]
     },
     "metadata": {
      "needs_background": "light"
     },
     "output_type": "display_data"
    }
   ],
   "source": [
    "# анализ регистраций пользователей групп А и В по дням проведения А/В теста\n",
    "eu_recommender_test_users.pivot_table(\n",
    "    index='registation_date',columns='group',values='user_id',aggfunc='nunique').plot(figsize=(12,4))\n",
    "plt.title('Распределение регистраций новых пользователей групп А и В по дням', y= 1.02)\n",
    "plt.xlabel('период')\n",
    "plt.ylabel('Уникальные пользователи, кол-во')\n",
    "plt.legend(loc='upper right')\n",
    "plt.show()"
   ]
  },
  {
   "cell_type": "markdown",
   "metadata": {},
   "source": [
    "<b>Выводы:</b><br>\n",
    "Регистрации пользователей групп А и В одинаково распределены по дням (единый тренд у 2х групп) <br>\n",
    "=> Набор участников проведен корректно: участники групп А и В равномерно регистрировались все дни набора участников <br>"
   ]
  },
  {
   "cell_type": "code",
   "execution_count": 23,
   "metadata": {},
   "outputs": [
    {
     "data": {
      "image/png": "[encoded data removed]",
      "text/plain": [
       "<Figure size 864x288 with 1 Axes>"
      ]
     },
     "metadata": {
      "needs_background": "light"
     },
     "output_type": "display_data"
    },
    {
     "data": {
      "image/png": "[encoded data removed]",
      "text/plain": [
       "<Figure size 864x288 with 1 Axes>"
      ]
     },
     "metadata": {
      "needs_background": "light"
     },
     "output_type": "display_data"
    }
   ],
   "source": [
    "# анализ активности пользователей групп А и В по дням проведения А/В теста\n",
    "# действия группы А\n",
    "eu_recommender_test_events.query('group == \"A\"' ).pivot_table(\n",
    "    index='event_date',columns='event_name',values='user_id',aggfunc='nunique').plot(figsize=(12,4))\n",
    "plt.title('Распределение действий пользователей группы А по дням', y= 1.02)\n",
    "plt.xlabel('период')\n",
    "plt.ylabel('Уникальные пользователи, кол-во')\n",
    "plt.show()\n",
    "# действия группы В\n",
    "eu_recommender_test_events.query('group == \"B\"' ).pivot_table(\n",
    "    index='event_date',columns='event_name',values='user_id',aggfunc='nunique').plot(figsize=(12,4))\n",
    "plt.title('Распределение действий пользователей группы B по дням', y= 1.02)\n",
    "plt.xlabel('период')\n",
    "plt.ylabel('Уникальные пользователи, кол-во')\n",
    "plt.show()"
   ]
  },
  {
   "cell_type": "markdown",
   "metadata": {},
   "source": [
    "<b>Выводы:</b><br>\n",
    "- действия пользователей группы А сосредоточены в районе 17 - 21 декабря - скорее всего, это связано с сезонной активностю пользователей (на пользователях группы А не было тестирования новой рекомендательной системы)<br>\n",
    "- действия пользователей группы В равномерно распределены по дням проведения теста <br>"
   ]
  },
  {
   "cell_type": "markdown",
   "metadata": {},
   "source": [
    "<b> / Конверсия </b>"
   ]
  },
  {
   "cell_type": "code",
   "execution_count": 24,
   "metadata": {},
   "outputs": [
    {
     "data": {
      "text/html": [
       "<div>\n",
       "<style scoped>\n",
       "    .dataframe tbody tr th:only-of-type {\n",
       "        vertical-align: middle;\n",
       "    }\n",
       "\n",
       "    .dataframe tbody tr th {\n",
       "        vertical-align: top;\n",
       "    }\n",
       "\n",
       "    .dataframe thead th {\n",
       "        text-align: right;\n",
       "    }\n",
       "</style>\n",
       "<table border=\"1\" class=\"dataframe\">\n",
       "  <thead>\n",
       "    <tr style=\"text-align: right;\">\n",
       "      <th></th>\n",
       "      <th>group_A</th>\n",
       "      <th>group_B</th>\n",
       "      <th>total</th>\n",
       "    </tr>\n",
       "  </thead>\n",
       "  <tbody>\n",
       "    <tr>\n",
       "      <th>registrations</th>\n",
       "      <td>2713</td>\n",
       "      <td>2036</td>\n",
       "      <td>4749</td>\n",
       "    </tr>\n",
       "    <tr>\n",
       "      <th>login</th>\n",
       "      <td>1939</td>\n",
       "      <td>655</td>\n",
       "      <td>2594</td>\n",
       "    </tr>\n",
       "    <tr>\n",
       "      <th>product_page</th>\n",
       "      <td>1265</td>\n",
       "      <td>367</td>\n",
       "      <td>1632</td>\n",
       "    </tr>\n",
       "    <tr>\n",
       "      <th>purchase</th>\n",
       "      <td>613</td>\n",
       "      <td>191</td>\n",
       "      <td>804</td>\n",
       "    </tr>\n",
       "    <tr>\n",
       "      <th>product_cart</th>\n",
       "      <td>589</td>\n",
       "      <td>184</td>\n",
       "      <td>773</td>\n",
       "    </tr>\n",
       "  </tbody>\n",
       "</table>\n",
       "</div>"
      ],
      "text/plain": [
       "               group_A  group_B  total\n",
       "registrations     2713     2036   4749\n",
       "login             1939      655   2594\n",
       "product_page      1265      367   1632\n",
       "purchase           613      191    804\n",
       "product_cart       589      184    773"
      ]
     },
     "metadata": {},
     "output_type": "display_data"
    }
   ],
   "source": [
    "# нахождение конверсии в действие \n",
    "# создание таблицы кол-ва пользователей по регистрациям и группам\n",
    "test_groups_registrations = eu_recommender_test_users.pivot_table(columns = 'group', values = 'user_id', aggfunc = 'nunique')\n",
    "test_groups_registrations.columns = ['group_A', 'group_B']\n",
    "test_groups_registrations = test_groups_registrations.rename(index={ 'user_id': 'registrations'})\n",
    "# создание таблицы  кол-ва пользователей по действиям и группам\n",
    "test_groups_events = eu_recommender_test_events.pivot_table(\n",
    "    index = 'event_name', columns = 'group', values = 'user_id', aggfunc = 'nunique')\n",
    "test_groups_events.columns = ['group_A', 'group_B']\n",
    "# объединенение в единую таблицу\n",
    "test_groups = test_groups_registrations.append(test_groups_events)\n",
    "test_groups['total'] = test_groups['group_A'] + test_groups['group_B']\n",
    "display(test_groups.sort_values(by='total',ascending = False))"
   ]
  },
  {
   "cell_type": "markdown",
   "metadata": {},
   "source": [
    "<b>Выводы:</b><br>\n",
    "Действия пользователей после регистрации распределены следующим образом:<br>\n",
    "1.Авторизация ('login')<br>\n",
    "2.Просмотр страницы товара ('product_page') <br>\n",
    "3.Покупка ('purchase') <br>\n",
    "4.Добавление в корзину ('product_cart')<br>\n",
    "<br>\n",
    "Операций 'Авторизация' ('login') больше, чем 'Просмотр страницы товара' ('product_page') => вероятно, требуется несколько авторизаций в процессе покупок => данное событие не будет учитываться в конверсии в продажи <br>\n",
    "Действий 'Покупка' ('purchase') больше чем действий 'Добавление в корзину' ('product_cart') => возможна покупка в 1 клик со страницы товара<br>\n",
    "<br>\n",
    "На основании данных по действиям - основное действие после Регистрации для анализа Воронки продаж: 'Просмотр страницы товара' ('product_page')"
   ]
  },
  {
   "cell_type": "markdown",
   "metadata": {},
   "source": [
    "<b>Промежуточная оценка кол-ва участников теста :</b><br>\n",
    "На основании конверсии действия \"Регистрация\" в действие \"Просмотр страницы товара\" необходимо рассчитать минимальное кол-во пользователей для нахождения статистической значимости различий показателей групп<br>\n",
    "Расчет конверсии будет по показателям 2х групп:<br>\n",
    "\"Регистрация\": общее кол-во 4749<br>\n",
    "\"Просмотр страницы товара\": общее кол-во 1632<br>\n",
    "<br>\n",
    "Целевой показатель минимального кол-ва участников: показатель группы А: 1265 участников, показатель группы В: 367 участников <br>"
   ]
  },
  {
   "cell_type": "code",
   "execution_count": 25,
   "metadata": {},
   "outputs": [
    {
     "name": "stdout",
     "output_type": "stream",
     "text": [
      "Конверсия Регистраций в Просмотр страницы товара (все участники теста), %: 0.344\n"
     ]
    }
   ],
   "source": [
    "# рассчитаем конверсию всех пользователей теста на основании регистраций и действия \"просмотр страницы товара\" ('product_page')\n",
    "print('Конверсия Регистраций в Просмотр страницы товара (все участники теста), %:', round(test_groups.loc['product_page','total'] / test_groups.loc['registrations', 'total'],3))"
   ]
  },
  {
   "cell_type": "markdown",
   "metadata": {},
   "source": [
    "<b> / Оценка кол-ва участников для достижения статистической значимости"
   ]
  },
  {
   "cell_type": "markdown",
   "metadata": {},
   "source": [
    "Тест: https://www.evanmiller.org/ab-testing/sample-size.html <br>\n",
    "Baseline conversion rate: 34%  (конверсия в действие, %) <br>\n",
    "Minimum Detectable Effect: 10%  (ожидаемый эффект, %)<br>\n",
    "Statistical power 1−β: 80% (мощность, %) <br>\n",
    "Significance level α:  5%  (alpha, %) <br>\n",
    "<b> Absolute: 357 per variation  (итоговое кол-во в абсолюте) </b><br>\n",
    "<br>\n",
    "Тест: https://mindbox.ru/academy/ab-test-calculator/  <br>\n",
    "Средний показатель: 34%<br>\n",
    "Ожидаемый абсолютный прирост: 10%   <br>\n",
    "Мощность: 80%   <br> \n",
    "Достоверность: 95%<br>\n",
    "<b> В каждом варианте: 352   </b><br> "
   ]
  },
  {
   "cell_type": "markdown",
   "metadata": {},
   "source": [
    "<div class=\"alert alert-info\">\n",
    "    <b>Выводы по минимальному кол-ву участников А/В-теста:</b><br>\n",
    "Кол-во участников в группе B (367 пользователей с действием \"просмотр страницы товара\") достаточно для оценки статистической значимости показателей теста "
   ]
  },
  {
   "cell_type": "markdown",
   "metadata": {},
   "source": [
    "<b>/ Анализ воронки продаж </b>"
   ]
  },
  {
   "cell_type": "markdown",
   "metadata": {},
   "source": [
    "Для анализа Воронки продаж из действий пользователей исключены события:\n",
    "- 'Авторизация' ('login'), так как превышает кол-во действий 'Просмотр страницы товара' (вероятно, требуется несколько операций авторизаций для совершения покупки)\n",
    "- 'Добавление в корзину' ('product_cart'), так как возможна покупка со станицы товара (действий покупка больше, чем действий добавление в корзину)<br> "
   ]
  },
  {
   "cell_type": "code",
   "execution_count": 26,
   "metadata": {},
   "outputs": [
    {
     "data": {
      "text/html": [
       "<div>\n",
       "<style scoped>\n",
       "    .dataframe tbody tr th:only-of-type {\n",
       "        vertical-align: middle;\n",
       "    }\n",
       "\n",
       "    .dataframe tbody tr th {\n",
       "        vertical-align: top;\n",
       "    }\n",
       "\n",
       "    .dataframe thead th {\n",
       "        text-align: right;\n",
       "    }\n",
       "</style>\n",
       "<table border=\"1\" class=\"dataframe\">\n",
       "  <thead>\n",
       "    <tr style=\"text-align: right;\">\n",
       "      <th></th>\n",
       "      <th>index</th>\n",
       "      <th>group_A</th>\n",
       "      <th>group_B</th>\n",
       "      <th>total</th>\n",
       "      <th>A_to_previous</th>\n",
       "      <th>B_to_previous</th>\n",
       "      <th>A_to_initial</th>\n",
       "      <th>B_to_initial</th>\n",
       "      <th>Diff_B_to_A_to_previous</th>\n",
       "      <th>Diff_B_to_A_to_initial</th>\n",
       "    </tr>\n",
       "  </thead>\n",
       "  <tbody>\n",
       "    <tr>\n",
       "      <th>0</th>\n",
       "      <td>registrations</td>\n",
       "      <td>2713</td>\n",
       "      <td>2036</td>\n",
       "      <td>4749</td>\n",
       "      <td>NaN</td>\n",
       "      <td>NaN</td>\n",
       "      <td>NaN</td>\n",
       "      <td>NaN</td>\n",
       "      <td>NaN</td>\n",
       "      <td>NaN</td>\n",
       "    </tr>\n",
       "    <tr>\n",
       "      <th>1</th>\n",
       "      <td>product_page</td>\n",
       "      <td>1265</td>\n",
       "      <td>367</td>\n",
       "      <td>1632</td>\n",
       "      <td>0.466</td>\n",
       "      <td>0.18</td>\n",
       "      <td>NaN</td>\n",
       "      <td>NaN</td>\n",
       "      <td>-0.286</td>\n",
       "      <td>NaN</td>\n",
       "    </tr>\n",
       "    <tr>\n",
       "      <th>2</th>\n",
       "      <td>purchase</td>\n",
       "      <td>613</td>\n",
       "      <td>191</td>\n",
       "      <td>804</td>\n",
       "      <td>0.485</td>\n",
       "      <td>0.52</td>\n",
       "      <td>0.226</td>\n",
       "      <td>0.094</td>\n",
       "      <td>0.035</td>\n",
       "      <td>-0.132</td>\n",
       "    </tr>\n",
       "  </tbody>\n",
       "</table>\n",
       "</div>"
      ],
      "text/plain": [
       "           index  group_A  group_B  total  A_to_previous  B_to_previous  \\\n",
       "0  registrations     2713     2036   4749            NaN            NaN   \n",
       "1   product_page     1265      367   1632          0.466           0.18   \n",
       "2       purchase      613      191    804          0.485           0.52   \n",
       "\n",
       "   A_to_initial  B_to_initial  Diff_B_to_A_to_previous  Diff_B_to_A_to_initial  \n",
       "0           NaN           NaN                      NaN                     NaN  \n",
       "1           NaN           NaN                   -0.286                     NaN  \n",
       "2         0.226         0.094                    0.035                  -0.132  "
      ]
     },
     "metadata": {},
     "output_type": "display_data"
    }
   ],
   "source": [
    "# отображение данных по событиям воронки продаж\n",
    "ab_test_purchase = test_groups.sort_values(by='total',ascending = False)\n",
    "ab_test_purchase = ab_test_purchase.drop(['login','product_cart']).reset_index()\n",
    "# нахождение конверсии к предыдущему шагу воронки\n",
    "ab_test_purchase['A_to_previous'] = round(ab_test_purchase['group_A'] / ab_test_purchase['group_A'].shift(1),3)\n",
    "ab_test_purchase['B_to_previous'] = round(ab_test_purchase['group_B'] / ab_test_purchase['group_B'].shift(1),3)\n",
    "# нахождение конверсии к первому шагу\n",
    "ab_test_purchase['A_to_initial'] = round(ab_test_purchase['group_A'] / ab_test_purchase['group_A'].shift(2),3)\n",
    "ab_test_purchase['B_to_initial'] = round(ab_test_purchase['group_B'] / ab_test_purchase['group_B'].shift(2),3)\n",
    "# нахождение разницы\n",
    "ab_test_purchase['Diff_B_to_A_to_previous'] = round(ab_test_purchase['B_to_previous'] - ab_test_purchase['A_to_previous'],3)\n",
    "ab_test_purchase['Diff_B_to_A_to_initial'] = round(ab_test_purchase['B_to_initial'] - ab_test_purchase['A_to_initial'],3)\n",
    "display(ab_test_purchase)"
   ]
  },
  {
   "cell_type": "markdown",
   "metadata": {},
   "source": [
    "<b>Выводы:</b><br>\n",
    "Разница долей в конверсиях по воронке:<br>\n",
    "Просмотр страницы товара к регистрациям: группа В хуже группы А на 29 п.п.<br>\n",
    "Покупка к просмотру страницы товара: группа В лучше группы А на 3,5 п.п.<br>\n",
    "Покупка к регистрациям: группа В хуже группы А на 13 п.п.<br>\n",
    "<br>\n",
    "=> необходимо подтверждение статистической значимости разниц долей"
   ]
  },
  {
   "cell_type": "code",
   "execution_count": 27,
   "metadata": {},
   "outputs": [
    {
     "data": {
      "image/png": "[encoded data removed]"
     },
     "metadata": {},
     "output_type": "display_data"
    }
   ],
   "source": [
    "# визуализация воронки продаж по группам\n",
    "fig = make_subplots(rows=1, cols=2,subplot_titles=(\"Группа А\",\"Группа В\"), horizontal_spacing = 0.15)\n",
    "fig.add_trace(go.Funnel(\n",
    "    y = [\"регистрация\", \"страница товара\", \"покупка\"],\n",
    "    x = [ab_test_purchase.loc[0,'group_A'], ab_test_purchase.loc[1,'group_A'], ab_test_purchase.loc[2,'group_A']],\n",
    "    textposition = \"inside\",\n",
    "    textinfo = \"value+percent previous\",), row=1, col=1)\n",
    "fig.add_trace(go.Funnel(\n",
    "    y = [\"регистрация\", \"страница товара\", \"покупка\"],\n",
    "    x = [ab_test_purchase.loc[0,'group_B'], ab_test_purchase.loc[1,'group_B'], ab_test_purchase.loc[2,'group_B']],\n",
    "    textposition = \"inside\",\n",
    "    textinfo = \"value+percent previous\",\n",
    "    marker = {\"color\": \"#ff0000\"}),row=1, col=2)\n",
    "fig.update_layout(\n",
    "    height=350, width=950,\n",
    "    title_text='Воронка событий групп А и В (доля к предыдущему шагу)',\n",
    "    showlegend=False,\n",
    "    plot_bgcolor = \"rgba(0,0,0,0)\")\n",
    "fig.show(renderer='png', width = 900, height = 400)"
   ]
  },
  {
   "cell_type": "code",
   "execution_count": 28,
   "metadata": {},
   "outputs": [
    {
     "data": {
      "text/html": [
       "<div>\n",
       "<style scoped>\n",
       "    .dataframe tbody tr th:only-of-type {\n",
       "        vertical-align: middle;\n",
       "    }\n",
       "\n",
       "    .dataframe tbody tr th {\n",
       "        vertical-align: top;\n",
       "    }\n",
       "\n",
       "    .dataframe thead th {\n",
       "        text-align: right;\n",
       "    }\n",
       "</style>\n",
       "<table border=\"1\" class=\"dataframe\">\n",
       "  <thead>\n",
       "    <tr style=\"text-align: right;\">\n",
       "      <th></th>\n",
       "      <th>avg_purchase</th>\n",
       "      <th>min_purchase</th>\n",
       "      <th>max_purchase</th>\n",
       "    </tr>\n",
       "    <tr>\n",
       "      <th>group</th>\n",
       "      <th></th>\n",
       "      <th></th>\n",
       "      <th></th>\n",
       "    </tr>\n",
       "  </thead>\n",
       "  <tbody>\n",
       "    <tr>\n",
       "      <th>A</th>\n",
       "      <td>22.951</td>\n",
       "      <td>4.99</td>\n",
       "      <td>499.99</td>\n",
       "    </tr>\n",
       "    <tr>\n",
       "      <th>B</th>\n",
       "      <td>21.488</td>\n",
       "      <td>4.99</td>\n",
       "      <td>499.99</td>\n",
       "    </tr>\n",
       "  </tbody>\n",
       "</table>\n",
       "</div>"
      ],
      "text/plain": [
       "       avg_purchase  min_purchase  max_purchase\n",
       "group                                          \n",
       "A            22.951          4.99        499.99\n",
       "B            21.488          4.99        499.99"
      ]
     },
     "metadata": {},
     "output_type": "display_data"
    }
   ],
   "source": [
    "# анализ среднего чека по группам\n",
    "avg_purchase = eu_recommender_test_events.query('event_name == \"purchase\"' ).pivot_table(\n",
    "    index='group',values='details',aggfunc=['mean','min','max'])\n",
    "avg_purchase.columns = (['avg_purchase','min_purchase','max_purchase'])\n",
    "avg_purchase['avg_purchase'] = round(avg_purchase['avg_purchase'],3)\n",
    "display(avg_purchase)"
   ]
  },
  {
   "cell_type": "markdown",
   "metadata": {},
   "source": [
    "<b>Выводы:</b><br>\n",
    "Разница в среднем чеке у групп А и В незначительная <br>\n",
    "Отстутствует разница в стоимости минимальной/максимальной покупки у групп А и В <br>"
   ]
  },
  {
   "cell_type": "markdown",
   "metadata": {},
   "source": [
    "<div class=\"alert alert-info\">\n",
    "<b>Вывод по результатам А/В теста:</b> <br>\n",
    "\n",
    "<br>\n",
    "Итоговое кол-во участников теста: 4749<br>\n",
    "<br>\n",
    "В группе А действие после регистрации совершили 72% участников<br>\n",
    "В группе В действие после регистрации совершили 32% участников <br>\n",
    "45% участников теста не совершили никакого действия после регистрации<br>\n",
    "Среднее кол-во событий на пользователя у участников составляет: 7 событий у группы А, 5.7 событий у группы В составляет  <br>\n",
    "<br>    \n",
    "Регистрации пользователей групп А и В одинаково распределены по дням (единый тренд у 2х групп) <br>\n",
    "=> Набор участников проведен корректно: участники групп А и В равномерно регистрировались все дни набора участников <br>\n",
    "<br> \n",
    "На основании данных по действиям составлены события Воронки продаж:<br> \n",
    "1. Регистрация ('registation_date')<br> \n",
    "2. Просмотр страницы товара ('product_page')<br> \n",
    "3. Покупка ('purchase’)<br> \n",
    "<br>\n",
    "Исключены из событий Воронки продаж действия:<br> \n",
    "- 'Авторизация' ('login'), так как превышает кол-во действий 'Просмотр страницы товара' (вероятно, требуется несколько операций авторизаций для совершения покупки)<br> \n",
    "- 'Добавление в корзину' ('product_cart'), так как возможна покупка со станицы товара (действий покупка больше, чем действий добавление в корзину)<br>     \n",
    "<br>     \n",
    "Конверсия регистраций участников 2-х групп в просмотр страницы товара: 34% <br> \n",
    "<br> \n",
    "Проведена оценка минимального кол-ва участников для достижения статистической значимости: кол-во участников теста достаточно для оценки статистической значимости показателей  <br>"
   ]
  },
  {
   "cell_type": "markdown",
   "metadata": {},
   "source": [
    "### Анализ статистической значимости"
   ]
  },
  {
   "cell_type": "markdown",
   "metadata": {},
   "source": [
    "<b>/ Формирование гипотез <b>"
   ]
  },
  {
   "cell_type": "markdown",
   "metadata": {},
   "source": [
    "Гипотезы для проверки:  <br>\n",
    "Нулевая гипотеза (H0): различий в конверсии (доли переходов) по этапам воронки между группами А и В нет <br>\n",
    "Альтернативная (H1): между группами разная конверсия (доля переходов) по этапам воронки <br>\n",
    "<br>\n",
    "Уровень значимости для рачета различий (alpha): 5% (доля ошибки в 5%) <br>\n",
    "<br>\n",
    "Результат нахождения p-значения:<br>\n",
    "- p-value > значения alpha => нулевая гипотеза верна, нет оснований считать доли (конверсии) разными <br>\n",
    "- p-value < значения alpha => нулевую гипотезу отвергаем, между долями (конверсиями) групп есть статистически значимая разница "
   ]
  },
  {
   "cell_type": "code",
   "execution_count": 29,
   "metadata": {},
   "outputs": [],
   "source": [
    "# функция расчета p-value для нахождения статистически значимого различия долей\n",
    "def stats (group_1_trials, group_1_successes, group_2_trials, group_2_successes):\n",
    "    p1 = group_1_successes/group_1_trials\n",
    "    p2 = group_2_successes/group_2_trials\n",
    "    p_combined = (group_1_successes + group_2_successes) / (group_1_trials + group_2_trials)\n",
    "    difference = p1 - p2 \n",
    "    z_value = difference / mth.sqrt(p_combined * (1 - p_combined) * (1/group_1_trials + 1/group_2_trials))\n",
    "    distr = st.norm(0, 1)  \n",
    "    p_value = ((1 - distr.cdf(abs(z_value))) * 2)\n",
    "    return p_value\n",
    "# функция сравнения значения p-value с уровнем значимости alpha = 5%\n",
    "def pvalue_05 (test):\n",
    "    alpha = 0.05\n",
    "    if test < alpha: print('Отвергаем нулевую гипотезу: между долями есть значимая разница')\n",
    "    else: print('Не получилось отвергнуть нулевую гипотезу, нет оснований считать доли разными')\n",
    "    return "
   ]
  },
  {
   "cell_type": "code",
   "execution_count": 30,
   "metadata": {},
   "outputs": [
    {
     "name": "stdout",
     "output_type": "stream",
     "text": [
      "Кол-во участников в группах А и В: 2713 1265 613 2036 367 191\n"
     ]
    }
   ],
   "source": [
    "# формирование групп для анализа\n",
    "group_A_registrations = eu_recommender_test_users.query('group == \"A\"' )['user_id'].nunique()\n",
    "group_A_product_page = eu_recommender_test_events.query('group == \"A\" and event_name == \"product_page\"')['user_id'].nunique()\n",
    "group_A_purchase = eu_recommender_test_events.query('group == \"A\" and event_name == \"purchase\"')['user_id'].nunique()\n",
    "group_B_registrations = eu_recommender_test_users.query('group == \"B\"' )['user_id'].nunique()\n",
    "group_B_product_page = eu_recommender_test_events.query('group == \"B\" and event_name == \"product_page\"')['user_id'].nunique()\n",
    "group_B_purchase = eu_recommender_test_events.query('group == \"B\" and event_name == \"purchase\"')['user_id'].nunique()\n",
    "# прверка корректности формирования групп\n",
    "print('Кол-во участников в группах А и В:',group_A_registrations, group_A_product_page, group_A_purchase, group_B_registrations, group_B_product_page, group_B_purchase)"
   ]
  },
  {
   "cell_type": "markdown",
   "metadata": {},
   "source": [
    "<b>/ Проверка статистически значимой разницы долей у групп А и В <b>"
   ]
  },
  {
   "cell_type": "code",
   "execution_count": 31,
   "metadata": {},
   "outputs": [
    {
     "name": "stdout",
     "output_type": "stream",
     "text": [
      "Просмотр страницы товара к регистрациям: различие долей групп А/В\n",
      "p-значение:  0.0\n",
      "Результат при alpha 5%:\n",
      "Отвергаем нулевую гипотезу: между долями есть значимая разница\n",
      "None\n",
      "\n",
      "Покупка к просмотру страницы товара: различие долей групп А/В\n",
      "p-значение:  0.22648\n",
      "Результат при alpha 5%:\n",
      "Не получилось отвергнуть нулевую гипотезу, нет оснований считать доли разными\n",
      "None\n",
      "\n",
      "Покупка к регистрациям: различие долей групп А/В\n",
      "p-значение:  0.0\n",
      "Результат при alpha 5%:\n",
      "Отвергаем нулевую гипотезу: между долями есть значимая разница\n",
      "None\n"
     ]
    }
   ],
   "source": [
    "# проверки разницы долей\n",
    "print('Просмотр страницы товара к регистрациям: различие долей групп А/В')\n",
    "test_product_page_to_registration_AB = stats(group_A_registrations,group_A_product_page,group_B_registrations,group_B_product_page)\n",
    "print('p-значение: ', round(test_product_page_to_registration_AB,5))\n",
    "print('Результат при alpha 5%:')\n",
    "print(pvalue_05(test_product_page_to_registration_AB))\n",
    "print()\n",
    "print('Покупка к просмотру страницы товара: различие долей групп А/В')\n",
    "test_purchase_to_product_page_AB = stats(group_A_product_page,group_A_purchase,group_B_product_page,group_B_purchase)\n",
    "print('p-значение: ', round(test_purchase_to_product_page_AB,5))\n",
    "print('Результат при alpha 5%:')\n",
    "print(pvalue_05(test_purchase_to_product_page_AB))\n",
    "print()\n",
    "print('Покупка к регистрациям: различие долей групп А/В')\n",
    "test_purchase_to_registration_AB = stats(group_A_registrations,group_A_purchase,group_B_registrations,group_B_purchase)\n",
    "print('p-значение: ', round(test_purchase_to_registration_AB,5))\n",
    "print('Результат при alpha 5%:')\n",
    "print(pvalue_05(test_purchase_to_registration_AB))"
   ]
  },
  {
   "cell_type": "markdown",
   "metadata": {},
   "source": [
    "<b> Выводы: </b> <br>\n",
    "Результаты нахождения статистически значимой разницы долей между группами А/В с уровнем значимости alpha = 5%:<br>\n",
    "Было проведено 3 теста для разных событий: <br>\n",
    "- Доля просмотра страницы товара от зарегистрированных пользователей: - найдено статистически значимое различие<br>\n",
    "- Доля покупок от просмотров страницы товара: - не найдено статистически значимое различие<br>\n",
    "- Доля покупок от зарегистрированных пользователей: - найдено статистически значимое различие<br>"
   ]
  },
  {
   "cell_type": "markdown",
   "metadata": {},
   "source": [
    "<div class=\"alert alert-info\">\n",
    "<b>Вывод по различиям групп А/В-теста:</b> <br>\n",
    "<br>    \n",
    "Проведен различия долей групп А и В с уровнем значимости alpha = 5%: <br>\n",
    "<br>\n",
    "- обнаружено статистически значимое различие долей перехода от Регистрации к Просмотру товара<br>\n",
    "- обнаружено статистически значимое различие долей перехода от Регистрации к Покупкам<br>\n",
    "=> пользователи групп А и В по разному совершают Просмотр страницы товара / Покупки после Регистрации (разницу в долях переходов можно считать значимой)<br>\n",
    "<br>    \n",
    "- не обнаружено статистически значимого различия долей перехода от Просмотров страницы товара к Покупкам<br>\n",
    "=> пользователи групп А и В одинаково совершают Покупки после Просмотра страгницы товара (разницу в долях переходов нельзя считать значимой)"
   ]
  },
  {
   "cell_type": "markdown",
   "metadata": {},
   "source": [
    "### Общий вывод"
   ]
  },
  {
   "cell_type": "markdown",
   "metadata": {},
   "source": [
    "Проведен анализ А/В-теста recommender_system_test.<br>\n",
    "По полученным данным можно сделать выводы:<br>\n",
    "<br>\n",
    "<b> 1. Набор участников теста соответствует Техническому заданию</b>  <br>\n",
    "-в тесте участвуют группы А и В<br>\n",
    "-дата регистраций участников и событий участников были в период, указанный в Техническом задании<br>\n",
    "-собраны данные по 6351 участнике теста, что составляет 15% новых пользователей региона EU<br>\n",
    "-набор участников теста проведен корректно: участники групп А и В равномерно регистрировались все дни набора участников<br>\n",
    "<br>\n",
    "<b> 2. Кол-во участников теста достаточно для нахождения статистической значимости различий у групп</b><br>\n",
    "-итоговое кол-во участников теста после проверок: 4749<br>\n",
    "-данное кол-во участников теста достаточно для оценки статистической значимости показателей<br>\n",
    "<br>\n",
    "<b> 3. Результаты групп А и В отличаются</b><br>\n",
    "Результаты группы В хуже показателей группы А:<br>\n",
    "-у группы В больше неактивных участников<br>\n",
    "-у группы В меньше действий на пользоватя<br>\n",
    "-у группы В хуже показатели конверсии Регистраций в Просмотр страницы товара (подтверждено статистической значимостью различий долей)<br>\n",
    "-у группы В хуже показатели конверсии Регистраций в Покупки (подтверждено статистической значимостью различий долей)<br>\n",
    "<br>\n",
    "<b>На основании анализа А/В-теста  можно сделать выводы:</b><br>\n",
    "При тестировании новой платёжной воронки (recommender_system_test) не получилось достичь ожидаемый эффект: <br>\n",
    "=> показатели пользователей новой платёжнаой воронки хуже, чем у пользователей без изменений пути покупки<br>"
   ]
  },
  {
   "cell_type": "code",
   "execution_count": null,
   "metadata": {},
   "outputs": [],
   "source": []
  }
 ],
 "metadata": {
  "ExecuteTimeLog": [
   {
    "duration": 52,
    "start_time": "2022-11-28T09:35:34.620Z"
   },
   {
    "duration": 511,
    "start_time": "2022-11-28T09:35:36.574Z"
   },
   {
    "duration": 21,
    "start_time": "2022-11-28T09:35:37.188Z"
   },
   {
    "duration": 1374,
    "start_time": "2023-04-15T11:18:12.050Z"
   },
   {
    "duration": 1050,
    "start_time": "2023-04-15T11:18:13.426Z"
   },
   {
    "duration": 16,
    "start_time": "2023-04-15T11:18:14.477Z"
   },
   {
    "duration": 7,
    "start_time": "2023-04-15T11:18:14.496Z"
   },
   {
    "duration": 62,
    "start_time": "2023-04-15T11:18:14.504Z"
   },
   {
    "duration": 5,
    "start_time": "2023-04-15T11:18:14.568Z"
   },
   {
    "duration": 36,
    "start_time": "2023-04-15T11:18:14.594Z"
   },
   {
    "duration": 419,
    "start_time": "2023-04-15T11:18:14.631Z"
   },
   {
    "duration": 74,
    "start_time": "2023-04-15T11:18:15.052Z"
   },
   {
    "duration": 25,
    "start_time": "2023-04-15T11:18:15.130Z"
   },
   {
    "duration": 276,
    "start_time": "2023-04-15T11:18:15.157Z"
   },
   {
    "duration": 66,
    "start_time": "2023-04-15T11:18:15.435Z"
   },
   {
    "duration": 11,
    "start_time": "2023-04-15T11:18:15.503Z"
   },
   {
    "duration": 96,
    "start_time": "2023-04-15T11:18:15.516Z"
   },
   {
    "duration": 45,
    "start_time": "2023-04-15T11:18:15.613Z"
   },
   {
    "duration": 87,
    "start_time": "2023-04-15T11:18:15.660Z"
   },
   {
    "duration": 296,
    "start_time": "2023-04-15T11:18:15.749Z"
   },
   {
    "duration": 13,
    "start_time": "2023-04-15T11:18:16.047Z"
   },
   {
    "duration": 543,
    "start_time": "2023-04-15T11:18:16.062Z"
   },
   {
    "duration": 63,
    "start_time": "2023-04-15T11:18:16.607Z"
   },
   {
    "duration": 49,
    "start_time": "2023-04-15T11:18:16.672Z"
   },
   {
    "duration": 22,
    "start_time": "2023-04-15T11:18:16.722Z"
   },
   {
    "duration": 56,
    "start_time": "2023-04-15T11:18:16.746Z"
   },
   {
    "duration": 8,
    "start_time": "2023-04-15T11:18:16.804Z"
   },
   {
    "duration": 34,
    "start_time": "2023-04-15T11:18:16.813Z"
   },
   {
    "duration": 225,
    "start_time": "2023-04-15T11:18:16.849Z"
   },
   {
    "duration": 56,
    "start_time": "2023-04-15T11:18:17.076Z"
   },
   {
    "duration": 201,
    "start_time": "2023-04-15T11:18:17.135Z"
   },
   {
    "duration": 36,
    "start_time": "2023-04-15T11:18:17.338Z"
   },
   {
    "duration": 46,
    "start_time": "2023-04-15T11:18:17.392Z"
   },
   {
    "duration": 460,
    "start_time": "2023-04-15T11:18:17.441Z"
   },
   {
    "duration": 33,
    "start_time": "2023-04-15T11:18:17.903Z"
   },
   {
    "duration": 249,
    "start_time": "2023-04-15T11:18:17.937Z"
   },
   {
    "duration": 533,
    "start_time": "2023-04-15T11:18:18.189Z"
   },
   {
    "duration": 34,
    "start_time": "2023-04-15T11:18:18.725Z"
   },
   {
    "duration": 4,
    "start_time": "2023-04-15T11:18:18.762Z"
   },
   {
    "duration": 23,
    "start_time": "2023-04-15T11:18:18.792Z"
   },
   {
    "duration": 326,
    "start_time": "2023-04-15T11:18:18.817Z"
   },
   {
    "duration": 56,
    "start_time": "2023-04-15T11:18:19.145Z"
   },
   {
    "duration": 6,
    "start_time": "2023-04-15T11:18:19.203Z"
   },
   {
    "duration": 45,
    "start_time": "2023-04-15T11:18:19.211Z"
   },
   {
    "duration": 14,
    "start_time": "2023-04-15T11:18:19.294Z"
   },
   {
    "duration": 40,
    "start_time": "2023-04-15T11:24:53.036Z"
   },
   {
    "duration": 164,
    "start_time": "2023-04-15T11:25:49.610Z"
   },
   {
    "duration": 177,
    "start_time": "2023-04-15T11:26:05.238Z"
   },
   {
    "duration": 22,
    "start_time": "2023-04-15T11:27:23.624Z"
   },
   {
    "duration": 1159,
    "start_time": "2023-04-15T11:28:55.818Z"
   },
   {
    "duration": 690,
    "start_time": "2023-04-15T11:28:56.980Z"
   },
   {
    "duration": 39,
    "start_time": "2023-04-15T11:28:57.672Z"
   },
   {
    "duration": 13,
    "start_time": "2023-04-15T11:28:57.714Z"
   },
   {
    "duration": 79,
    "start_time": "2023-04-15T11:28:57.729Z"
   },
   {
    "duration": 6,
    "start_time": "2023-04-15T11:28:57.810Z"
   },
   {
    "duration": 46,
    "start_time": "2023-04-15T11:28:57.818Z"
   },
   {
    "duration": 477,
    "start_time": "2023-04-15T11:28:57.866Z"
   },
   {
    "duration": 76,
    "start_time": "2023-04-15T11:28:58.345Z"
   },
   {
    "duration": 23,
    "start_time": "2023-04-15T11:28:58.424Z"
   },
   {
    "duration": 283,
    "start_time": "2023-04-15T11:28:58.448Z"
   },
   {
    "duration": 73,
    "start_time": "2023-04-15T11:28:58.733Z"
   },
   {
    "duration": 13,
    "start_time": "2023-04-15T11:28:58.807Z"
   },
   {
    "duration": 106,
    "start_time": "2023-04-15T11:28:58.822Z"
   },
   {
    "duration": 45,
    "start_time": "2023-04-15T11:28:58.930Z"
   },
   {
    "duration": 102,
    "start_time": "2023-04-15T11:28:58.977Z"
   },
   {
    "duration": 336,
    "start_time": "2023-04-15T11:28:59.081Z"
   },
   {
    "duration": 10,
    "start_time": "2023-04-15T11:28:59.420Z"
   },
   {
    "duration": 580,
    "start_time": "2023-04-15T11:28:59.432Z"
   },
   {
    "duration": 70,
    "start_time": "2023-04-15T11:29:00.013Z"
   },
   {
    "duration": 58,
    "start_time": "2023-04-15T11:29:00.086Z"
   },
   {
    "duration": 61,
    "start_time": "2023-04-15T11:29:00.146Z"
   },
   {
    "duration": 30,
    "start_time": "2023-04-15T11:29:00.209Z"
   },
   {
    "duration": 19,
    "start_time": "2023-04-15T11:29:00.241Z"
   },
   {
    "duration": 60,
    "start_time": "2023-04-15T11:29:00.262Z"
   },
   {
    "duration": 198,
    "start_time": "2023-04-15T11:29:00.325Z"
   },
   {
    "duration": 44,
    "start_time": "2023-04-15T11:29:00.525Z"
   },
   {
    "duration": 225,
    "start_time": "2023-04-15T11:29:00.594Z"
   },
   {
    "duration": 36,
    "start_time": "2023-04-15T11:29:00.821Z"
   },
   {
    "duration": 71,
    "start_time": "2023-04-15T11:29:00.859Z"
   },
   {
    "duration": 499,
    "start_time": "2023-04-15T11:29:00.932Z"
   },
   {
    "duration": 23,
    "start_time": "2023-04-15T11:29:01.433Z"
   },
   {
    "duration": 269,
    "start_time": "2023-04-15T11:29:01.458Z"
   },
   {
    "duration": 679,
    "start_time": "2023-04-15T11:29:01.729Z"
   },
   {
    "duration": 54,
    "start_time": "2023-04-15T11:29:02.415Z"
   },
   {
    "duration": 38,
    "start_time": "2023-04-15T11:29:02.471Z"
   },
   {
    "duration": 72,
    "start_time": "2023-04-15T11:29:02.514Z"
   },
   {
    "duration": 1187,
    "start_time": "2023-04-15T11:29:39.566Z"
   },
   {
    "duration": 674,
    "start_time": "2023-04-15T11:29:40.756Z"
   },
   {
    "duration": 14,
    "start_time": "2023-04-15T11:29:41.432Z"
   },
   {
    "duration": 17,
    "start_time": "2023-04-15T11:29:41.449Z"
   },
   {
    "duration": 94,
    "start_time": "2023-04-15T11:29:41.468Z"
   },
   {
    "duration": 6,
    "start_time": "2023-04-15T11:29:41.563Z"
   },
   {
    "duration": 49,
    "start_time": "2023-04-15T11:29:41.570Z"
   },
   {
    "duration": 467,
    "start_time": "2023-04-15T11:29:41.621Z"
   },
   {
    "duration": 75,
    "start_time": "2023-04-15T11:29:42.090Z"
   },
   {
    "duration": 48,
    "start_time": "2023-04-15T11:29:42.168Z"
   },
   {
    "duration": 262,
    "start_time": "2023-04-15T11:29:42.219Z"
   },
   {
    "duration": 62,
    "start_time": "2023-04-15T11:29:42.483Z"
   },
   {
    "duration": 11,
    "start_time": "2023-04-15T11:29:42.546Z"
   },
   {
    "duration": 106,
    "start_time": "2023-04-15T11:29:42.559Z"
   },
   {
    "duration": 60,
    "start_time": "2023-04-15T11:29:42.667Z"
   },
   {
    "duration": 73,
    "start_time": "2023-04-15T11:29:42.729Z"
   },
   {
    "duration": 284,
    "start_time": "2023-04-15T11:29:42.808Z"
   },
   {
    "duration": 13,
    "start_time": "2023-04-15T11:29:43.094Z"
   },
   {
    "duration": 580,
    "start_time": "2023-04-15T11:29:43.111Z"
   },
   {
    "duration": 72,
    "start_time": "2023-04-15T11:29:43.695Z"
   },
   {
    "duration": 50,
    "start_time": "2023-04-15T11:29:43.769Z"
   },
   {
    "duration": 24,
    "start_time": "2023-04-15T11:29:43.821Z"
   },
   {
    "duration": 26,
    "start_time": "2023-04-15T11:29:43.847Z"
   },
   {
    "duration": 10,
    "start_time": "2023-04-15T11:29:43.900Z"
   },
   {
    "duration": 31,
    "start_time": "2023-04-15T11:29:43.912Z"
   },
   {
    "duration": 188,
    "start_time": "2023-04-15T11:29:43.945Z"
   },
   {
    "duration": 42,
    "start_time": "2023-04-15T11:29:44.135Z"
   },
   {
    "duration": 183,
    "start_time": "2023-04-15T11:29:44.195Z"
   },
   {
    "duration": 43,
    "start_time": "2023-04-15T11:29:44.379Z"
   },
   {
    "duration": 46,
    "start_time": "2023-04-15T11:29:44.423Z"
   },
   {
    "duration": 470,
    "start_time": "2023-04-15T11:29:44.470Z"
   },
   {
    "duration": 20,
    "start_time": "2023-04-15T11:29:44.942Z"
   },
   {
    "duration": 261,
    "start_time": "2023-04-15T11:29:44.964Z"
   },
   {
    "duration": 510,
    "start_time": "2023-04-15T11:29:45.228Z"
   },
   {
    "duration": 33,
    "start_time": "2023-04-15T11:29:45.740Z"
   },
   {
    "duration": 21,
    "start_time": "2023-04-15T11:29:45.774Z"
   },
   {
    "duration": 22,
    "start_time": "2023-04-15T11:29:45.809Z"
   },
   {
    "duration": 321,
    "start_time": "2023-04-15T11:29:45.833Z"
   },
   {
    "duration": 58,
    "start_time": "2023-04-15T11:29:46.156Z"
   },
   {
    "duration": 5,
    "start_time": "2023-04-15T11:29:46.215Z"
   },
   {
    "duration": 85,
    "start_time": "2023-04-15T11:29:46.222Z"
   },
   {
    "duration": 13,
    "start_time": "2023-04-15T11:29:46.309Z"
   },
   {
    "duration": 1143,
    "start_time": "2023-04-15T11:31:36.941Z"
   },
   {
    "duration": 703,
    "start_time": "2023-04-15T11:31:38.086Z"
   },
   {
    "duration": 20,
    "start_time": "2023-04-15T11:31:38.793Z"
   },
   {
    "duration": 6,
    "start_time": "2023-04-15T11:31:38.815Z"
   },
   {
    "duration": 77,
    "start_time": "2023-04-15T11:31:38.822Z"
   },
   {
    "duration": 11,
    "start_time": "2023-04-15T11:31:38.901Z"
   },
   {
    "duration": 29,
    "start_time": "2023-04-15T11:31:38.914Z"
   },
   {
    "duration": 446,
    "start_time": "2023-04-15T11:31:38.945Z"
   },
   {
    "duration": 67,
    "start_time": "2023-04-15T11:31:39.404Z"
   },
   {
    "duration": 37,
    "start_time": "2023-04-15T11:31:39.474Z"
   },
   {
    "duration": 234,
    "start_time": "2023-04-15T11:31:39.512Z"
   },
   {
    "duration": 69,
    "start_time": "2023-04-15T11:31:39.747Z"
   },
   {
    "duration": 11,
    "start_time": "2023-04-15T11:31:39.817Z"
   },
   {
    "duration": 112,
    "start_time": "2023-04-15T11:31:39.830Z"
   },
   {
    "duration": 55,
    "start_time": "2023-04-15T11:31:39.944Z"
   },
   {
    "duration": 65,
    "start_time": "2023-04-15T11:31:40.001Z"
   },
   {
    "duration": 301,
    "start_time": "2023-04-15T11:31:40.068Z"
   },
   {
    "duration": 10,
    "start_time": "2023-04-15T11:31:40.371Z"
   },
   {
    "duration": 545,
    "start_time": "2023-04-15T11:31:40.382Z"
   },
   {
    "duration": 79,
    "start_time": "2023-04-15T11:31:40.929Z"
   },
   {
    "duration": 31,
    "start_time": "2023-04-15T11:31:41.010Z"
   },
   {
    "duration": 20,
    "start_time": "2023-04-15T11:31:41.044Z"
   },
   {
    "duration": 54,
    "start_time": "2023-04-15T11:31:41.066Z"
   },
   {
    "duration": 11,
    "start_time": "2023-04-15T11:31:41.122Z"
   },
   {
    "duration": 33,
    "start_time": "2023-04-15T11:31:41.134Z"
   },
   {
    "duration": 211,
    "start_time": "2023-04-15T11:31:41.168Z"
   },
   {
    "duration": 56,
    "start_time": "2023-04-15T11:31:41.382Z"
   },
   {
    "duration": 187,
    "start_time": "2023-04-15T11:31:41.442Z"
   },
   {
    "duration": 33,
    "start_time": "2023-04-15T11:31:41.631Z"
   },
   {
    "duration": 66,
    "start_time": "2023-04-15T11:31:41.666Z"
   },
   {
    "duration": 512,
    "start_time": "2023-04-15T11:31:41.734Z"
   },
   {
    "duration": 25,
    "start_time": "2023-04-15T11:31:42.248Z"
   },
   {
    "duration": 258,
    "start_time": "2023-04-15T11:31:42.275Z"
   },
   {
    "duration": 521,
    "start_time": "2023-04-15T11:31:42.535Z"
   },
   {
    "duration": 53,
    "start_time": "2023-04-15T11:31:43.058Z"
   },
   {
    "duration": 4,
    "start_time": "2023-04-15T11:31:43.113Z"
   },
   {
    "duration": 21,
    "start_time": "2023-04-15T11:31:43.119Z"
   },
   {
    "duration": 322,
    "start_time": "2023-04-15T11:31:43.142Z"
   },
   {
    "duration": 37,
    "start_time": "2023-04-15T11:31:43.466Z"
   },
   {
    "duration": 5,
    "start_time": "2023-04-15T11:31:43.505Z"
   },
   {
    "duration": 95,
    "start_time": "2023-04-15T11:31:43.512Z"
   },
   {
    "duration": 12,
    "start_time": "2023-04-15T11:31:43.610Z"
   }
  ],
  "kernelspec": {
   "display_name": "Python 3 (ipykernel)",
   "language": "python",
   "name": "python3"
  },
  "language_info": {
   "codemirror_mode": {
    "name": "ipython",
    "version": 3
   },
   "file_extension": ".py",
   "mimetype": "text/x-python",
   "name": "python",
   "nbconvert_exporter": "python",
   "pygments_lexer": "ipython3",
   "version": "3.9.12"
  },
  "toc": {
   "base_numbering": 1,
   "nav_menu": {},
   "number_sections": true,
   "sideBar": true,
   "skip_h1_title": true,
   "title_cell": "Table of Contents",
   "title_sidebar": "Contents",
   "toc_cell": false,
   "toc_position": {
    "height": "calc(100% - 180px)",
    "left": "10px",
    "top": "150px",
    "width": "235.369px"
   },
   "toc_section_display": true,
   "toc_window_display": true
  }
 },
 "nbformat": 4,
 "nbformat_minor": 2
}
