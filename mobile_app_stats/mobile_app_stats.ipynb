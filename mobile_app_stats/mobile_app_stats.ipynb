{
 "cells": [
  {
   "cell_type": "markdown",
   "metadata": {},
   "source": [
    "# Анализ пользователей мобильного приложения\n",
    "\n",
    "В проекте представлена информация о пользователях мобильного приложения стартапа за период в 2 недели в разбивке по операциям, устройствам и датам, а также проведен A/A/B-эксперимент по замене шрифтов в мобильном приложении по 3м группам, данные о котором сохранены в логах.  <br>\n",
    "<br>\n",
    "<b>Задачи проекта:</b> <br>\n",
    "- проанализировать воронку продаж в приложении и изучить потери на каждом этапе перехода по воронке <br>\n",
    "- оценить результаты A/A/B-эксперимента по новой инициативе для 3х групп (2 контрольные и 1 тестовая)<br>"
   ]
  },
  {
   "cell_type": "markdown",
   "metadata": {},
   "source": [
    "<b>Содержание проекта:</b><br>\n",
    "1. Предобработка<br>\n",
    "2. Анализ данных<br>\n",
    "3. Анализ воронки<br>\n",
    "4. Анализ результатов A/A/B-эксперимента<br>\n",
    "5. Общий вывод<br>"
   ]
  },
  {
   "cell_type": "markdown",
   "metadata": {},
   "source": [
    "### Предобработка"
   ]
  },
  {
   "cell_type": "code",
   "execution_count": 1,
   "metadata": {},
   "outputs": [],
   "source": [
    "# импорт необходимых библиотек\n",
    "import pandas as pd\n",
    "import numpy as np\n",
    "from datetime import datetime as dt\n",
    "from scipy import stats as st\n",
    "import math as mth\n",
    "import matplotlib.pyplot as plt\n",
    "from plotly import graph_objects as go\n",
    "from plotly.subplots import make_subplots"
   ]
  },
  {
   "cell_type": "markdown",
   "metadata": {},
   "source": [
    "<b>Описание датасета:</b> <br>\n",
    "- название события<br>\n",
    "- уникальный идентификатор пользователя<br>\n",
    "- время события<br>\n",
    "- номер группы эксперимента"
   ]
  },
  {
   "cell_type": "code",
   "execution_count": 2,
   "metadata": {},
   "outputs": [
    {
     "data": {
      "text/html": [
       "<div>\n",
       "<style scoped>\n",
       "    .dataframe tbody tr th:only-of-type {\n",
       "        vertical-align: middle;\n",
       "    }\n",
       "\n",
       "    .dataframe tbody tr th {\n",
       "        vertical-align: top;\n",
       "    }\n",
       "\n",
       "    .dataframe thead th {\n",
       "        text-align: right;\n",
       "    }\n",
       "</style>\n",
       "<table border=\"1\" class=\"dataframe\">\n",
       "  <thead>\n",
       "    <tr style=\"text-align: right;\">\n",
       "      <th></th>\n",
       "      <th>EventName</th>\n",
       "      <th>DeviceIDHash</th>\n",
       "      <th>EventTimestamp</th>\n",
       "      <th>ExpId</th>\n",
       "    </tr>\n",
       "  </thead>\n",
       "  <tbody>\n",
       "    <tr>\n",
       "      <th>0</th>\n",
       "      <td>MainScreenAppear</td>\n",
       "      <td>4575588528974610257</td>\n",
       "      <td>1564029816</td>\n",
       "      <td>246</td>\n",
       "    </tr>\n",
       "  </tbody>\n",
       "</table>\n",
       "</div>"
      ],
      "text/plain": [
       "          EventName         DeviceIDHash  EventTimestamp  ExpId\n",
       "0  MainScreenAppear  4575588528974610257      1564029816    246"
      ]
     },
     "metadata": {},
     "output_type": "display_data"
    },
    {
     "name": "stdout",
     "output_type": "stream",
     "text": [
      "<class 'pandas.core.frame.DataFrame'>\n",
      "RangeIndex: 244126 entries, 0 to 244125\n",
      "Data columns (total 4 columns):\n",
      " #   Column          Non-Null Count   Dtype \n",
      "---  ------          --------------   ----- \n",
      " 0   EventName       244126 non-null  object\n",
      " 1   DeviceIDHash    244126 non-null  int64 \n",
      " 2   EventTimestamp  244126 non-null  int64 \n",
      " 3   ExpId           244126 non-null  int64 \n",
      "dtypes: int64(3), object(1)\n",
      "memory usage: 7.5+ MB\n"
     ]
    }
   ],
   "source": [
    "# получение файла\n",
    "data = pd.read_csv('data.csv',sep='\\t')\n",
    "display(data.head(1))\n",
    "# отображение типов данных\n",
    "data.info()"
   ]
  },
  {
   "cell_type": "code",
   "execution_count": 3,
   "metadata": {},
   "outputs": [],
   "source": [
    "# замена названий столбцов \n",
    "data.columns = ['event_name','device_id','timestamp','exp_id']"
   ]
  },
  {
   "cell_type": "code",
   "execution_count": 4,
   "metadata": {},
   "outputs": [],
   "source": [
    "# перевод формата даты из timestamp в datetime\n",
    "data['timestamp'] = data['timestamp'].map(lambda x: dt.utcfromtimestamp(x))\n",
    "# добавление отдельного столбца даты\n",
    "data['date'] = data['timestamp'].dt.date"
   ]
  },
  {
   "cell_type": "code",
   "execution_count": 5,
   "metadata": {},
   "outputs": [
    {
     "name": "stdout",
     "output_type": "stream",
     "text": [
      "event_name    0\n",
      "device_id     0\n",
      "timestamp     0\n",
      "exp_id        0\n",
      "date          0\n",
      "dtype: int64\n",
      "Кол-во дубликатов: 413\n"
     ]
    }
   ],
   "source": [
    "# проверка файла логов на пропуски\n",
    "print(data.isna().sum())\n",
    "# проверка файла логов на дубликаты\n",
    "print('Кол-во дубликатов:',data.duplicated().sum())"
   ]
  },
  {
   "cell_type": "code",
   "execution_count": 6,
   "metadata": {},
   "outputs": [],
   "source": [
    "# удаление строк-дубликатов из базы\n",
    "data = data.drop_duplicates()"
   ]
  },
  {
   "cell_type": "markdown",
   "metadata": {},
   "source": [
    "Были удалены строки-дубликаты (действие совершено в то же время до секунды)<br>\n",
    "Даты были приведены к нужному формату"
   ]
  },
  {
   "cell_type": "markdown",
   "metadata": {},
   "source": [
    "### Анализ данных"
   ]
  },
  {
   "cell_type": "markdown",
   "metadata": {},
   "source": [
    "<b>/ Анализ событий </b>"
   ]
  },
  {
   "cell_type": "code",
   "execution_count": 7,
   "metadata": {},
   "outputs": [
    {
     "name": "stdout",
     "output_type": "stream",
     "text": [
      "Наименования событий в логе: ['MainScreenAppear' 'PaymentScreenSuccessful' 'CartScreenAppear'\n",
      " 'OffersScreenAppear' 'Tutorial']\n",
      "Кол-во уникальныx device_id: 7551\n"
     ]
    }
   ],
   "source": [
    "# изучение событий, представленных в логах\n",
    "print('Наименования событий в логе:',data['event_name'].unique())\n",
    "print('Кол-во уникальныx device_id:',data['device_id'].nunique())"
   ]
  },
  {
   "cell_type": "markdown",
   "metadata": {},
   "source": [
    "<b> Выводы: </b> <br>\n",
    "В логе представлены 5 событий:<br>\n",
    "-\"Просмотр главной страницы\" (MainScreenAppear)<br>\n",
    "-\"Просмотр страницы товара\" (OffersScreenAppear)<br>\n",
    "-\"Добавление в корзину\" (CartScreenAppear)<br>\n",
    "-\"Успешная оплата\" (PaymentScreenSuccessful)<br>\n",
    "-\"Обучающая страница\" (Tutorial)<br>\n",
    "Всего в логе имеются данные по 7551 уникальным ID устройств"
   ]
  },
  {
   "cell_type": "markdown",
   "metadata": {},
   "source": [
    "<b>/ Анализ событий по пользователям </b>"
   ]
  },
  {
   "cell_type": "code",
   "execution_count": 8,
   "metadata": {},
   "outputs": [
    {
     "name": "stdout",
     "output_type": "stream",
     "text": [
      "ТОП пользователей по кол-ву событий:\n"
     ]
    },
    {
     "data": {
      "text/html": [
       "<div>\n",
       "<style scoped>\n",
       "    .dataframe tbody tr th:only-of-type {\n",
       "        vertical-align: middle;\n",
       "    }\n",
       "\n",
       "    .dataframe tbody tr th {\n",
       "        vertical-align: top;\n",
       "    }\n",
       "\n",
       "    .dataframe thead th {\n",
       "        text-align: right;\n",
       "    }\n",
       "</style>\n",
       "<table border=\"1\" class=\"dataframe\">\n",
       "  <thead>\n",
       "    <tr style=\"text-align: right;\">\n",
       "      <th></th>\n",
       "      <th>events_sum</th>\n",
       "    </tr>\n",
       "    <tr>\n",
       "      <th>device_id</th>\n",
       "      <th></th>\n",
       "    </tr>\n",
       "  </thead>\n",
       "  <tbody>\n",
       "    <tr>\n",
       "      <th>6304868067479728361</th>\n",
       "      <td>2307</td>\n",
       "    </tr>\n",
       "    <tr>\n",
       "      <th>197027893265565660</th>\n",
       "      <td>1998</td>\n",
       "    </tr>\n",
       "    <tr>\n",
       "      <th>4623191541214045580</th>\n",
       "      <td>1768</td>\n",
       "    </tr>\n",
       "    <tr>\n",
       "      <th>6932517045703054087</th>\n",
       "      <td>1439</td>\n",
       "    </tr>\n",
       "    <tr>\n",
       "      <th>1754140665440434215</th>\n",
       "      <td>1221</td>\n",
       "    </tr>\n",
       "  </tbody>\n",
       "</table>\n",
       "</div>"
      ],
      "text/plain": [
       "                     events_sum\n",
       "device_id                      \n",
       "6304868067479728361        2307\n",
       "197027893265565660         1998\n",
       "4623191541214045580        1768\n",
       "6932517045703054087        1439\n",
       "1754140665440434215        1221"
      ]
     },
     "metadata": {},
     "output_type": "display_data"
    }
   ],
   "source": [
    "# среднее кол-во событий на пользователя (сумма всех событий)\n",
    "events_by_user_count = data.groupby('device_id').agg({'event_name': 'count'})\n",
    "events_by_user_count.columns = ['events_sum']\n",
    "print('ТОП пользователей по кол-ву событий:')\n",
    "display(events_by_user_count.sort_values(by='events_sum',ascending=False).head(5))"
   ]
  },
  {
   "cell_type": "markdown",
   "metadata": {},
   "source": [
    "<b> Выводы: </b> <br>\n",
    "В ТОПе событий пользователи с более 1200 событий => в базе присутствуют аномальные данные по пользователям"
   ]
  },
  {
   "cell_type": "code",
   "execution_count": 9,
   "metadata": {},
   "outputs": [
    {
     "data": {
      "image/png": "[encoded data removed]",
      "text/plain": [
       "<Figure size 504x360 with 1 Axes>"
      ]
     },
     "metadata": {
      "needs_background": "light"
     },
     "output_type": "display_data"
    },
    {
     "name": "stdout",
     "output_type": "stream",
     "text": [
      "Оценка данных кол-ва действий на пользователя:\n"
     ]
    },
    {
     "data": {
      "text/plain": [
       "count    7551.000000\n",
       "mean       32.275593\n",
       "std        65.154219\n",
       "min         1.000000\n",
       "25%         9.000000\n",
       "50%        20.000000\n",
       "75%        37.000000\n",
       "max      2307.000000\n",
       "Name: events_sum, dtype: float64"
      ]
     },
     "metadata": {},
     "output_type": "display_data"
    },
    {
     "name": "stdout",
     "output_type": "stream",
     "text": [
      "95-й и 99-й перцентили количества действий на пользователя: [ 89.  200.5]\n"
     ]
    }
   ],
   "source": [
    "# построение графика разброса значений кол-ва действий на пользователя\n",
    "x_values = pd.Series(range(0,len(events_by_user_count)))\n",
    "plt.figure(figsize=(7,5))\n",
    "plt.scatter(x_values, events_by_user_count['events_sum'])\n",
    "plt.ylim([0, 1500])\n",
    "plt.title('Диаграмма разброса по кол-ву действий на пользователя',size = 15, y=1.07)\n",
    "plt.xlabel('Уникальные пользователи',size = 10)\n",
    "plt.ylabel('Кол-во действий на пользователя (до 1500)',size = 10)\n",
    "plt.show()\n",
    "# оценка данных по сумме событий на пользователя\n",
    "print('Оценка данных кол-ва действий на пользователя:')\n",
    "display(events_by_user_count['events_sum'].describe())\n",
    "# персентиль количества заказов на пользователя \n",
    "print('95-й и 99-й перцентили количества действий на пользователя:', np.percentile(events_by_user_count['events_sum'],[95,99]))"
   ]
  },
  {
   "cell_type": "markdown",
   "metadata": {},
   "source": [
    "<b> Выводы: </b> <br>\n",
    "-среднее кол-во действий на пользователя составляет 32,3 (медиана 20)<br>\n",
    "-не более 5% пользователей совершили более 89 действий<br>\n",
    "-не более 1% пользователей совершили более 200 действий<br>\n",
    "<br>\n",
    "Граница для для определения аномальных пользователей: > 200 (совершили в приложении больше 200 дейтсвий) => отсеиваем 1% "
   ]
  },
  {
   "cell_type": "code",
   "execution_count": 10,
   "metadata": {},
   "outputs": [
    {
     "name": "stdout",
     "output_type": "stream",
     "text": [
      "Кол-во пользователей с кол-вом действий больше 200 (будут удалены): 76\n",
      "Кол-во пользователей с кол-вом действий больше 200 (будут удалены): 0.01\n"
     ]
    }
   ],
   "source": [
    "# фильтрация базы - уданение пользователей, совершивших больше 200 дейтсвий\n",
    "abnormal_users = events_by_user_count[events_by_user_count['events_sum'] > 200].index\n",
    "print('Кол-во пользователей с кол-вом действий больше 200 (будут удалены):', len(abnormal_users))\n",
    "print('Кол-во пользователей с кол-вом действий больше 200 (будут удалены):', round(len(abnormal_users)/ data['device_id'].nunique(),3))"
   ]
  },
  {
   "cell_type": "markdown",
   "metadata": {},
   "source": [
    "<b>/ Анализ событий по датам </b>"
   ]
  },
  {
   "cell_type": "code",
   "execution_count": 11,
   "metadata": {},
   "outputs": [
    {
     "name": "stdout",
     "output_type": "stream",
     "text": [
      "Минимальная дата анализа: 2019-07-25\n",
      "Максимальная дата анализа: 2019-08-07\n"
     ]
    },
    {
     "data": {
      "image/png": "[encoded data removed]",
      "text/plain": [
       "<Figure size 504x360 with 1 Axes>"
      ]
     },
     "metadata": {
      "needs_background": "light"
     },
     "output_type": "display_data"
    }
   ],
   "source": [
    "# анализ временного периода данных в логах (вся база логов)\n",
    "print('Минимальная дата анализа:', data['date'].min())\n",
    "print('Максимальная дата анализа:', data['date'].max())\n",
    "plt.figure(figsize=(7,5))\n",
    "data['date'].hist(bins = 10)\n",
    "plt.title('Распределение данных в логах по датам (вся база)', size = 15, y=1.05 )\n",
    "plt.xlabel('Период данных',size = 10)\n",
    "plt.ylabel('Кол-во записей за период',size = 10)\n",
    "plt.xticks(rotation=90)\n",
    "plt.show()"
   ]
  },
  {
   "cell_type": "markdown",
   "metadata": {},
   "source": [
    "<b> Выводы: </b> <br>\n",
    "В логах представлены данные за период с 2019-07-25 по 2019-08-08 <br>\n",
    "По гистограмме видно, что данных за период до 2019-08-01 крайне мало <br>\n",
    "Также мало данных за последний день логов, 2019-08-08, однако эти данные необходимо оставить, так как в них могут быть события пользователей за период исследования"
   ]
  },
  {
   "cell_type": "code",
   "execution_count": 12,
   "metadata": {},
   "outputs": [
    {
     "name": "stdout",
     "output_type": "stream",
     "text": [
      "Кол-во уникальных пользователей, которые будут удалены по причине диапазона дат: 17\n"
     ]
    }
   ],
   "source": [
    "# нахождение кол-ва пользователей для удаления по причине диапазона дат (c 2019-08-01)\n",
    "first_analysis_date = dt(2019,8,1).date()\n",
    "data_filtered_by_date = data[data['date'] >= first_analysis_date]\n",
    "print('Кол-во уникальных пользователей, которые будут удалены по причине диапазона дат:', data['device_id'].nunique() - data_filtered_by_date['device_id'].nunique()) "
   ]
  },
  {
   "cell_type": "code",
   "execution_count": 13,
   "metadata": {},
   "outputs": [
    {
     "name": "stdout",
     "output_type": "stream",
     "text": [
      "Кол-во уникальных пользователей, которые удалены по 2-м фильтрам: 93\n",
      "Доля уникальных пользователей, которые удалены по 2-м фильрам, от общей базы: 0.01232\n"
     ]
    }
   ],
   "source": [
    "# итоговая фильтрация базы логов для дальнейшего анализа\n",
    "data_filtered = data[np.logical_not(data['device_id'].isin(abnormal_users))]\n",
    "data_filtered = data_filtered[data_filtered['date'] >= first_analysis_date]\n",
    "print('Кол-во уникальных пользователей, которые удалены по 2-м фильтрам:', data['device_id'].nunique() - data_filtered['device_id'].nunique())\n",
    "print('Доля уникальных пользователей, которые удалены по 2-м фильрам, от общей базы:', round((data['device_id'].nunique() - data_filtered['device_id'].nunique())/data['device_id'].nunique(),5))"
   ]
  },
  {
   "cell_type": "markdown",
   "metadata": {},
   "source": [
    "<b> Выводы: </b> <br>\n",
    "Из изначального файла логов были удалены 93 уникальных пользователя, что составило 1,2% от всех уникальных пользователей в логах:<br>\n",
    "-76 пользователей были удалены как \"выбросы\" (совершили более 200 действий)<br>\n",
    "-17 пользователей были удалены, так как их действия были до периода анализа <br>\n"
   ]
  },
  {
   "cell_type": "markdown",
   "metadata": {},
   "source": [
    "### Анализ воронки"
   ]
  },
  {
   "cell_type": "code",
   "execution_count": 14,
   "metadata": {},
   "outputs": [
    {
     "name": "stdout",
     "output_type": "stream",
     "text": [
      "Распределение по событиям по кол-ву событий:\n"
     ]
    },
    {
     "data": {
      "text/html": [
       "<div>\n",
       "<style scoped>\n",
       "    .dataframe tbody tr th:only-of-type {\n",
       "        vertical-align: middle;\n",
       "    }\n",
       "\n",
       "    .dataframe tbody tr th {\n",
       "        vertical-align: top;\n",
       "    }\n",
       "\n",
       "    .dataframe thead th {\n",
       "        text-align: right;\n",
       "    }\n",
       "</style>\n",
       "<table border=\"1\" class=\"dataframe\">\n",
       "  <thead>\n",
       "    <tr style=\"text-align: right;\">\n",
       "      <th></th>\n",
       "      <th>events_count</th>\n",
       "      <th>event_share_to_all_events_%</th>\n",
       "    </tr>\n",
       "    <tr>\n",
       "      <th>event_name</th>\n",
       "      <th></th>\n",
       "      <th></th>\n",
       "    </tr>\n",
       "  </thead>\n",
       "  <tbody>\n",
       "    <tr>\n",
       "      <th>MainScreenAppear</th>\n",
       "      <td>113264</td>\n",
       "      <td>0.548</td>\n",
       "    </tr>\n",
       "    <tr>\n",
       "      <th>OffersScreenAppear</th>\n",
       "      <td>40956</td>\n",
       "      <td>0.198</td>\n",
       "    </tr>\n",
       "    <tr>\n",
       "      <th>CartScreenAppear</th>\n",
       "      <td>29250</td>\n",
       "      <td>0.142</td>\n",
       "    </tr>\n",
       "    <tr>\n",
       "      <th>PaymentScreenSuccessful</th>\n",
       "      <td>22164</td>\n",
       "      <td>0.107</td>\n",
       "    </tr>\n",
       "    <tr>\n",
       "      <th>Tutorial</th>\n",
       "      <td>981</td>\n",
       "      <td>0.005</td>\n",
       "    </tr>\n",
       "  </tbody>\n",
       "</table>\n",
       "</div>"
      ],
      "text/plain": [
       "                         events_count  event_share_to_all_events_%\n",
       "event_name                                                        \n",
       "MainScreenAppear               113264                        0.548\n",
       "OffersScreenAppear              40956                        0.198\n",
       "CartScreenAppear                29250                        0.142\n",
       "PaymentScreenSuccessful         22164                        0.107\n",
       "Tutorial                          981                        0.005"
      ]
     },
     "metadata": {},
     "output_type": "display_data"
    }
   ],
   "source": [
    "# распределение по событиям (суммарное кол-во)\n",
    "events_pivot = data_filtered.groupby('event_name').agg({'device_id': 'count'})\n",
    "events_pivot.columns = ['events_count']\n",
    "events_pivot['event_share_to_all_events_%'] = round(events_pivot['events_count'] / events_pivot['events_count'].sum(),3)\n",
    "print('Распределение по событиям по кол-ву событий:')\n",
    "display(events_pivot.sort_values(by = 'events_count', ascending = False))"
   ]
  },
  {
   "cell_type": "markdown",
   "metadata": {},
   "source": [
    "<b> Выводы: </b> <br>\n",
    "Порядок событий для расчета доли перехода по воронке: <br>\n",
    "\"Просмотр главной страницы\" => \"Просмотр страницы товара\" => \"Добавление в корзину\" => \"Успешная оплата<br>\n",
    "<br>\n",
    "Событие \"Обучающая страница\" можно не учитывать в воронке, так может быть просмотрено на любом шаге пользователя "
   ]
  },
  {
   "cell_type": "code",
   "execution_count": 15,
   "metadata": {},
   "outputs": [
    {
     "data": {
      "text/html": [
       "<div>\n",
       "<style scoped>\n",
       "    .dataframe tbody tr th:only-of-type {\n",
       "        vertical-align: middle;\n",
       "    }\n",
       "\n",
       "    .dataframe tbody tr th {\n",
       "        vertical-align: top;\n",
       "    }\n",
       "\n",
       "    .dataframe thead th {\n",
       "        text-align: right;\n",
       "    }\n",
       "</style>\n",
       "<table border=\"1\" class=\"dataframe\">\n",
       "  <thead>\n",
       "    <tr style=\"text-align: right;\">\n",
       "      <th></th>\n",
       "      <th>users_unique</th>\n",
       "      <th>share_to_previous_event_%</th>\n",
       "    </tr>\n",
       "    <tr>\n",
       "      <th>event_name</th>\n",
       "      <th></th>\n",
       "      <th></th>\n",
       "    </tr>\n",
       "  </thead>\n",
       "  <tbody>\n",
       "    <tr>\n",
       "      <th>MainScreenAppear</th>\n",
       "      <td>7344</td>\n",
       "      <td>NaN</td>\n",
       "    </tr>\n",
       "    <tr>\n",
       "      <th>OffersScreenAppear</th>\n",
       "      <td>4517</td>\n",
       "      <td>0.615</td>\n",
       "    </tr>\n",
       "    <tr>\n",
       "      <th>CartScreenAppear</th>\n",
       "      <td>3658</td>\n",
       "      <td>0.810</td>\n",
       "    </tr>\n",
       "    <tr>\n",
       "      <th>PaymentScreenSuccessful</th>\n",
       "      <td>3463</td>\n",
       "      <td>0.947</td>\n",
       "    </tr>\n",
       "  </tbody>\n",
       "</table>\n",
       "</div>"
      ],
      "text/plain": [
       "                         users_unique  share_to_previous_event_%\n",
       "event_name                                                      \n",
       "MainScreenAppear                 7344                        NaN\n",
       "OffersScreenAppear               4517                      0.615\n",
       "CartScreenAppear                 3658                      0.810\n",
       "PaymentScreenSuccessful          3463                      0.947"
      ]
     },
     "metadata": {},
     "output_type": "display_data"
    },
    {
     "name": "stdout",
     "output_type": "stream",
     "text": [
      "Доля перехода от Просмотр главной страницы к Успешная оплата, %: 0.472\n"
     ]
    }
   ],
   "source": [
    "# создание таблицы для расчета доли переходов по воронке \n",
    "users_events_success = data_filtered.groupby('event_name').agg({'device_id': 'nunique'}).sort_values(by = 'device_id', ascending = False)\n",
    "users_events_success.columns = ['users_unique']\n",
    "users_events_success = users_events_success.drop(['Tutorial'])\n",
    "users_events_success['share_to_previous_event_%'] = round(users_events_success['users_unique'] / users_events_success['users_unique'].shift(1),3)\n",
    "display(users_events_success)\n",
    "# расчет доли перехода от \"Просмотр главной страницы\" к \"Успешная оплата\"\n",
    "print('Доля перехода от Просмотр главной страницы к Успешная оплата, %:', round(data_filtered[data_filtered['event_name'] == 'PaymentScreenSuccessful']['device_id'].nunique() / data_filtered[data_filtered['event_name'] == 'MainScreenAppear']['device_id'].nunique() ,3))"
   ]
  },
  {
   "cell_type": "code",
   "execution_count": 16,
   "metadata": {},
   "outputs": [
    {
     "data": {
      "image/png": "[encoded data removed]"
     },
     "metadata": {},
     "output_type": "display_data"
    }
   ],
   "source": [
    "# визуализация\n",
    "fig = go.Figure(go.Funnel(\n",
    "    y = [\"Просмотр главной страницы\", \"Просмотр страницы товара\", \"Добавление в корзину\", \"Успешная оплата\"],\n",
    "    x = [users_events_success.loc['MainScreenAppear','users_unique'], users_events_success.loc['OffersScreenAppear','users_unique'], users_events_success.loc['CartScreenAppear','users_unique'], users_events_success.loc['PaymentScreenSuccessful','users_unique']],\n",
    "    opacity = 0.8)) \n",
    "fig.update_layout(\n",
    "    title=\"Кол-во пользователей при переходе по воронке событий\",\n",
    "    yaxis_title=\"Этапы воронки\",\n",
    "    plot_bgcolor = \"rgba(0,0,0,0)\",\n",
    "    # width=700, height=400\n",
    "    )\n",
    "fig.show(renderer='png', width = 700, height = 400)"
   ]
  },
  {
   "cell_type": "markdown",
   "metadata": {},
   "source": [
    "<b> Выводы: </b> <br>\n",
    "Переходы пользователей по воронке:<br>\n",
    "-с Главной страницы на Старницу товара перешли 62% пользователей (потери = 38%)<br>\n",
    "-со Страницы товара к Добавлению в корзину перешли 81% пользователей (потери = 19%)<br>\n",
    "-из Корзины к Успешной оплате перешли 95% пользователей (потери = 5%)<br>\n",
    "<br>\n",
    "=> больше всего пользователей теряется на переходе с Главной страницы на Страницу товара (38%)<br>\n",
    "=> от первого события (Просмотр главной страницы) до Успешной оплаты доходит 47% пользователей (потери = 53%)<br>"
   ]
  },
  {
   "cell_type": "markdown",
   "metadata": {},
   "source": [
    "### Анализ результатов A/A/B-эксперимента"
   ]
  },
  {
   "cell_type": "markdown",
   "metadata": {},
   "source": [
    "Описание групп A/A/B-эксперимента: 246 и 247 — контрольные группы, 248 — экспериментальна\n"
   ]
  },
  {
   "cell_type": "code",
   "execution_count": 17,
   "metadata": {},
   "outputs": [
    {
     "name": "stdout",
     "output_type": "stream",
     "text": [
      "Распределение пользователей по группам теста А/А/В:\n"
     ]
    },
    {
     "data": {
      "text/html": [
       "<div>\n",
       "<style scoped>\n",
       "    .dataframe tbody tr th:only-of-type {\n",
       "        vertical-align: middle;\n",
       "    }\n",
       "\n",
       "    .dataframe tbody tr th {\n",
       "        vertical-align: top;\n",
       "    }\n",
       "\n",
       "    .dataframe thead th {\n",
       "        text-align: right;\n",
       "    }\n",
       "</style>\n",
       "<table border=\"1\" class=\"dataframe\">\n",
       "  <thead>\n",
       "    <tr style=\"text-align: right;\">\n",
       "      <th></th>\n",
       "      <th>device_id</th>\n",
       "      <th>share_%</th>\n",
       "    </tr>\n",
       "    <tr>\n",
       "      <th>exp_id</th>\n",
       "      <th></th>\n",
       "      <th></th>\n",
       "    </tr>\n",
       "  </thead>\n",
       "  <tbody>\n",
       "    <tr>\n",
       "      <th>246</th>\n",
       "      <td>2456</td>\n",
       "      <td>0.329311</td>\n",
       "    </tr>\n",
       "    <tr>\n",
       "      <th>247</th>\n",
       "      <td>2491</td>\n",
       "      <td>0.334004</td>\n",
       "    </tr>\n",
       "    <tr>\n",
       "      <th>248</th>\n",
       "      <td>2511</td>\n",
       "      <td>0.336685</td>\n",
       "    </tr>\n",
       "  </tbody>\n",
       "</table>\n",
       "</div>"
      ],
      "text/plain": [
       "        device_id   share_%\n",
       "exp_id                     \n",
       "246          2456  0.329311\n",
       "247          2491  0.334004\n",
       "248          2511  0.336685"
      ]
     },
     "metadata": {},
     "output_type": "display_data"
    },
    {
     "name": "stdout",
     "output_type": "stream",
     "text": [
      "Колличество уникальных пользователей: 7458\n",
      "Колличество уникальных пользователей в сумме (всего): 7458\n",
      "Колличество уникальных пользователей, попавших в несколько групп: 0\n"
     ]
    }
   ],
   "source": [
    "# распределение данных в логах по группам анализа А/А/В\n",
    "users_by_groups = data_filtered.pivot_table(index='exp_id', values = 'device_id', aggfunc = 'nunique')\n",
    "users_by_groups['share_%'] = users_by_groups['device_id'] / users_by_groups['device_id'].sum()\n",
    "print('Распределение пользователей по группам теста А/А/В:')\n",
    "display(users_by_groups)\n",
    "print('Колличество уникальных пользователей:', users_by_groups['device_id'].sum())\n",
    "print('Колличество уникальных пользователей в сумме (всего):', data_filtered['device_id'].nunique())\n",
    "print('Колличество уникальных пользователей, попавших в несколько групп:', users_by_groups['device_id'].sum() - data_filtered['device_id'].nunique())"
   ]
  },
  {
   "cell_type": "markdown",
   "metadata": {},
   "source": [
    "<b> Выводы: </b> <br>\n",
    "Пользователи распределены равномерно по группам А/А/В (~33%) => разбивка эксперимента на группы работает корректно<br>"
   ]
  },
  {
   "cell_type": "code",
   "execution_count": 18,
   "metadata": {},
   "outputs": [
    {
     "data": {
      "text/html": [
       "<div>\n",
       "<style scoped>\n",
       "    .dataframe tbody tr th:only-of-type {\n",
       "        vertical-align: middle;\n",
       "    }\n",
       "\n",
       "    .dataframe tbody tr th {\n",
       "        vertical-align: top;\n",
       "    }\n",
       "\n",
       "    .dataframe thead th {\n",
       "        text-align: right;\n",
       "    }\n",
       "</style>\n",
       "<table border=\"1\" class=\"dataframe\">\n",
       "  <thead>\n",
       "    <tr style=\"text-align: right;\">\n",
       "      <th></th>\n",
       "      <th>group_A1</th>\n",
       "      <th>group_A2</th>\n",
       "      <th>group_B</th>\n",
       "      <th>group_A1_share_to_prev_event</th>\n",
       "      <th>group_A2_share_to_prev_event</th>\n",
       "      <th>group_B_share_to_prev_event</th>\n",
       "    </tr>\n",
       "    <tr>\n",
       "      <th>event_name</th>\n",
       "      <th></th>\n",
       "      <th></th>\n",
       "      <th></th>\n",
       "      <th></th>\n",
       "      <th></th>\n",
       "      <th></th>\n",
       "    </tr>\n",
       "  </thead>\n",
       "  <tbody>\n",
       "    <tr>\n",
       "      <th>MainScreenAppear</th>\n",
       "      <td>2423</td>\n",
       "      <td>2454</td>\n",
       "      <td>2467</td>\n",
       "      <td>NaN</td>\n",
       "      <td>NaN</td>\n",
       "      <td>NaN</td>\n",
       "    </tr>\n",
       "    <tr>\n",
       "      <th>OffersScreenAppear</th>\n",
       "      <td>1514</td>\n",
       "      <td>1498</td>\n",
       "      <td>1505</td>\n",
       "      <td>0.625</td>\n",
       "      <td>0.610</td>\n",
       "      <td>0.610</td>\n",
       "    </tr>\n",
       "    <tr>\n",
       "      <th>CartScreenAppear</th>\n",
       "      <td>1238</td>\n",
       "      <td>1216</td>\n",
       "      <td>1204</td>\n",
       "      <td>0.818</td>\n",
       "      <td>0.812</td>\n",
       "      <td>0.800</td>\n",
       "    </tr>\n",
       "    <tr>\n",
       "      <th>PaymentScreenSuccessful</th>\n",
       "      <td>1172</td>\n",
       "      <td>1136</td>\n",
       "      <td>1155</td>\n",
       "      <td>0.947</td>\n",
       "      <td>0.934</td>\n",
       "      <td>0.959</td>\n",
       "    </tr>\n",
       "  </tbody>\n",
       "</table>\n",
       "</div>"
      ],
      "text/plain": [
       "                         group_A1  group_A2  group_B  \\\n",
       "event_name                                             \n",
       "MainScreenAppear             2423      2454     2467   \n",
       "OffersScreenAppear           1514      1498     1505   \n",
       "CartScreenAppear             1238      1216     1204   \n",
       "PaymentScreenSuccessful      1172      1136     1155   \n",
       "\n",
       "                         group_A1_share_to_prev_event  \\\n",
       "event_name                                              \n",
       "MainScreenAppear                                  NaN   \n",
       "OffersScreenAppear                              0.625   \n",
       "CartScreenAppear                                0.818   \n",
       "PaymentScreenSuccessful                         0.947   \n",
       "\n",
       "                         group_A2_share_to_prev_event  \\\n",
       "event_name                                              \n",
       "MainScreenAppear                                  NaN   \n",
       "OffersScreenAppear                              0.610   \n",
       "CartScreenAppear                                0.812   \n",
       "PaymentScreenSuccessful                         0.934   \n",
       "\n",
       "                         group_B_share_to_prev_event  \n",
       "event_name                                            \n",
       "MainScreenAppear                                 NaN  \n",
       "OffersScreenAppear                             0.610  \n",
       "CartScreenAppear                               0.800  \n",
       "PaymentScreenSuccessful                        0.959  "
      ]
     },
     "metadata": {},
     "output_type": "display_data"
    }
   ],
   "source": [
    "# распределение по событиям и уникальным пользователям в группах \n",
    "data_analysis = data_filtered.pivot_table(index='event_name',columns='exp_id',values='device_id',aggfunc='nunique')\n",
    "data_analysis.columns = ['group_A1','group_A2', 'group_B']\n",
    "# сброс индексов и удаление события \"Обучающая страница\" (не учитывается в воронке)\n",
    "data_analysis = data_analysis.sort_values(by='group_B',ascending = False)\n",
    "data_analysis = data_analysis.drop(['Tutorial'])\n",
    "# рассчитаем долю к предыдущему событию методом shift\n",
    "data_analysis['group_A1_share_to_prev_event'] = round(data_analysis['group_A1'] / data_analysis['group_A1'].shift(1),3)\n",
    "data_analysis['group_A2_share_to_prev_event'] = round(data_analysis['group_A2'] / data_analysis['group_A2'].shift(1),3)\n",
    "data_analysis['group_B_share_to_prev_event'] = round(data_analysis['group_B'] / data_analysis['group_B'].shift(1),3)\n",
    "display(data_analysis)"
   ]
  },
  {
   "cell_type": "code",
   "execution_count": 19,
   "metadata": {},
   "outputs": [
    {
     "data": {
      "image/png": "[encoded data removed]"
     },
     "metadata": {},
     "output_type": "display_data"
    }
   ],
   "source": [
    "#визуализация\n",
    "fig = make_subplots(rows=1, cols=3, specs=[[{\"type\": \"Funnel\"}, {\"type\": \"Funnel\"}, {\"type\": \"Funnel\"}]])\n",
    "fig.add_trace(go.Funnel(\n",
    "    x= [data_analysis.loc['MainScreenAppear','group_A1'], data_analysis.loc['OffersScreenAppear','group_A1'], data_analysis.loc['CartScreenAppear','group_A1'], data_analysis.loc['PaymentScreenSuccessful','group_A1']], \n",
    "    y =[\"1 Просмотр главной страницы\", \"2 Просмотр страницы товара\", \"3 Добавление в корзину\", \"4 Успешная оплата\"],\n",
    "    name='группа А-1' ),\n",
    "    1, 1)\n",
    "fig.add_trace(go.Funnel(\n",
    "    x= [data_analysis.loc['MainScreenAppear','group_A2'], data_analysis.loc['OffersScreenAppear','group_A2'], data_analysis.loc['CartScreenAppear','group_A2'], data_analysis.loc['PaymentScreenSuccessful','group_A2']], \n",
    "    y =[\"1\", \"2\", \"3\", \"4\"],\n",
    "    name='группа А-2'), \n",
    "    1, 2)\n",
    "fig.add_trace(go.Funnel(\n",
    "    x= [data_analysis.loc['MainScreenAppear','group_B'], data_analysis.loc['OffersScreenAppear','group_B'], data_analysis.loc['CartScreenAppear','group_B'], data_analysis.loc['PaymentScreenSuccessful','group_B']], \n",
    "    y =[\"1\", \"2\", \"3\", \"4\"],\n",
    "    name='группа В'), \n",
    "    1, 3)\n",
    "fig.update_layout(\n",
    "    title_text='Переход пользователей групп А/А/В по воронке',\n",
    "    yaxis_title=\"этапы воронки\", \n",
    "    plot_bgcolor = \"rgba(0,0,0,0)\",\n",
    "    #width=900, height=450\n",
    "    )\n",
    "fig.show(renderer='png', width = 900, height = 450)"
   ]
  },
  {
   "cell_type": "markdown",
   "metadata": {},
   "source": [
    "<b> Выводы: </b> <br>\n",
    "Доли переходов по шагам воронки среди пользователей групп А/А/В примерно одинаковы => необходима оценка статистически значимого различия долей<br>"
   ]
  },
  {
   "cell_type": "markdown",
   "metadata": {},
   "source": [
    "<b> / Ввод функций для проверки статистически значимого различия долей </b>"
   ]
  },
  {
   "cell_type": "code",
   "execution_count": 20,
   "metadata": {},
   "outputs": [],
   "source": [
    "# функция расчета p-value для нахождения статистически значимого различия долей\n",
    "def stats (group_1_trials, group_1_successes, group_2_trials, group_2_successes):\n",
    "    p1 = group_1_successes/group_1_trials\n",
    "    p2 = group_2_successes/group_2_trials\n",
    "    p_combined = (group_1_successes + group_2_successes) / (group_1_trials + group_2_trials)\n",
    "    difference = p1 - p2 \n",
    "    z_value = difference / mth.sqrt(p_combined * (1 - p_combined) * (1/group_1_trials + 1/group_2_trials))\n",
    "    distr = st.norm(0, 1)  \n",
    "    p_value = ((1 - distr.cdf(abs(z_value))) * 2)\n",
    "    return p_value"
   ]
  },
  {
   "cell_type": "code",
   "execution_count": 21,
   "metadata": {},
   "outputs": [],
   "source": [
    "# функция сравнения значения p-value с уровнем значимости alpha = 5%\n",
    "def pvalue_05 (test):\n",
    "    alpha = 0.05\n",
    "    if test < alpha: print('Отвергаем нулевую гипотезу: между долями есть значимая разница')\n",
    "    else: print('Не получилось отвергнуть нулевую гипотезу, нет оснований считать доли разными')\n",
    "    return "
   ]
  },
  {
   "cell_type": "code",
   "execution_count": 22,
   "metadata": {},
   "outputs": [],
   "source": [
    "# функция сравнения значения p-value уровнем значимости alpha = 1%\n",
    "def pvalue_01 (test):\n",
    "    alpha = 0.01\n",
    "    if test < alpha: print('Отвергаем нулевую гипотезу: между долями есть значимая разница')\n",
    "    else: print('Не получилось отвергнуть нулевую гипотезу, нет оснований считать доли разными')\n",
    "    return "
   ]
  },
  {
   "cell_type": "markdown",
   "metadata": {},
   "source": [
    "<b> / Ввод числовых значений пользователей в группах для расчетов </b>"
   ]
  },
  {
   "cell_type": "code",
   "execution_count": 23,
   "metadata": {},
   "outputs": [],
   "source": [
    "# создание переменных для удобства работы с функцией\n",
    "# контрольные группы А1/А2 (246, 247)\n",
    "g246_nunique = data_filtered[data_filtered['exp_id'] == 246]['device_id'].nunique()\n",
    "g246_Main = data_filtered[(data_filtered['exp_id'] == 246)&(data_filtered['event_name'] == 'MainScreenAppear')]['device_id'].nunique()\n",
    "g246_Offers = data_filtered[(data_filtered['exp_id'] == 246)&(data_filtered['event_name'] == 'OffersScreenAppear')]['device_id'].nunique()\n",
    "g246_Cart = data_filtered[(data_filtered['exp_id'] == 246)&(data_filtered['event_name'] == 'CartScreenAppear')]['device_id'].nunique()\n",
    "g246_Payment = data_filtered[(data_filtered['exp_id'] == 246)&(data_filtered['event_name'] == 'PaymentScreenSuccessful')]['device_id'].nunique()\n",
    "g247_nunique = data_filtered[data_filtered['exp_id'] == 247]['device_id'].nunique()\n",
    "g247_Main = data_filtered[(data_filtered['exp_id'] == 247)&(data_filtered['event_name'] == 'MainScreenAppear')]['device_id'].nunique()\n",
    "g247_Offers = data_filtered[(data_filtered['exp_id'] == 247)&(data_filtered['event_name'] == 'OffersScreenAppear')]['device_id'].nunique()\n",
    "g247_Cart = data_filtered[(data_filtered['exp_id'] == 247)&(data_filtered['event_name'] == 'CartScreenAppear')]['device_id'].nunique() \n",
    "g247_Payment = data_filtered[(data_filtered['exp_id'] == 247)&(data_filtered['event_name'] == 'PaymentScreenSuccessful')]['device_id'].nunique()\n",
    "# объединенные значения для групп А1+А2 (246 + 247)\n",
    "g246_g247_nunique = g246_nunique + g247_nunique\n",
    "g246_g247_Main = g246_Main + g247_Main\n",
    "g246_g247_Offers = g246_Offers + g247_Offers\n",
    "g246_g247_Cart = g246_Cart + g247_Cart\n",
    "g246_g247_Payment = g246_Payment + g247_Payment\n",
    "# экспериментальная группа В (248)\n",
    "g248_nunique = data_filtered[data_filtered['exp_id'] == 248]['device_id'].nunique()\n",
    "g248_Main = data_filtered[(data_filtered['exp_id'] == 248)&(data_filtered['event_name'] == 'MainScreenAppear')]['device_id'].nunique() \n",
    "g248_Offers = data_filtered[(data_filtered['exp_id'] == 248)&(data_filtered['event_name'] == 'OffersScreenAppear')]['device_id'].nunique() \n",
    "g248_Cart = data_filtered[(data_filtered['exp_id'] == 248)&(data_filtered['event_name'] == 'CartScreenAppear')]['device_id'].nunique() \n",
    "g248_Payment = data_filtered[(data_filtered['exp_id'] == 248)&(data_filtered['event_name'] == 'PaymentScreenSuccessful')]['device_id'].nunique() "
   ]
  },
  {
   "cell_type": "markdown",
   "metadata": {},
   "source": [
    "<b>/ Проверка статистически значимой разницы долей у групп </b>"
   ]
  },
  {
   "cell_type": "markdown",
   "metadata": {},
   "source": [
    "<b>Формирование гипотез для проверки: </b> <br>\n",
    "Нулевая гипотеза: различий в конверсии (доли переходов) по этапам воронки между группами А/А/В нет <br>\n",
    "Альтернативная: между группами разная конверсия (доля переходов) по этапам воронки <br>\n",
    "<br>\n",
    "Уровень значимости для рачета различий (alpha): 5% и 1% (доля ошибки в 5% и в 1%) <br>\n",
    "<br>\n",
    "Результат нахождения p-значения:<br>\n",
    "- p-value > значения alpha => нулевая гипотеза верна, нет оснований считать доли (конверсии) разными <br>\n",
    "- p-value < значения alpha => нулевую гипотезу отвергаем, между долями (конверсиями) групп есть статистически значимая разница "
   ]
  },
  {
   "cell_type": "markdown",
   "metadata": {},
   "source": [
    "<b>/ Проверка статистически значимой разницы долей у групп А1/А2 (246 и 247) с уровнем alpha = 5%</b>"
   ]
  },
  {
   "cell_type": "code",
   "execution_count": 24,
   "metadata": {},
   "outputs": [
    {
     "name": "stdout",
     "output_type": "stream",
     "text": [
      "Просмотр главной страницы ко всем пользователям группы: различие долей групп А1/А2\n",
      "p-значение:  0.6731\n",
      "Результат при alpha 5%:\n",
      "Не получилось отвергнуть нулевую гипотезу, нет оснований считать доли разными\n",
      "None\n",
      "\n",
      "Просмотр страницы товара к просмотру главной страницы: различие долей групп А1/А2\n",
      "p-значение:  0.3004\n",
      "Результат при alpha 5%:\n",
      "Не получилось отвергнуть нулевую гипотезу, нет оснований считать доли разными\n",
      "None\n",
      "\n",
      "Добавление в корзину к просмотру страницы товара: различие долей групп А1/А2\n",
      "p-значение:  0.67418\n",
      "Результат при alpha 5%:\n",
      "Не получилось отвергнуть нулевую гипотезу, нет оснований считать доли разными\n",
      "None\n",
      "\n",
      "Успешная оплата к добавлению в корзину: различие долей групп А1/А2\n",
      "p-значение:  0.19139\n",
      "Результат при alpha 5%:\n",
      "Не получилось отвергнуть нулевую гипотезу, нет оснований считать доли разными\n",
      "None\n"
     ]
    }
   ],
   "source": [
    "# проверка статистически значимого различия долей \"Просмотр главной страницы\" ко всем пользователям\n",
    "print('Просмотр главной страницы ко всем пользователям группы: различие долей групп А1/А2')\n",
    "test_MainScreen_AA = stats(g246_nunique,g246_Main,g247_nunique,g247_Main)\n",
    "print('p-значение: ', round(test_MainScreen_AA,5))\n",
    "print('Результат при alpha 5%:')\n",
    "print(pvalue_05(test_MainScreen_AA))\n",
    "print()\n",
    "# проверка статистически значимого различия события \"Просмотр страницы товара\" к \"Просмотр главной страницы\"\n",
    "print('Просмотр страницы товара к просмотру главной страницы: различие долей групп А1/А2')\n",
    "test_OffersScreen_AA = stats(g246_Main,g246_Offers,g247_Main,g247_Offers)\n",
    "print('p-значение: ', round(test_OffersScreen_AA,5))\n",
    "print('Результат при alpha 5%:')\n",
    "print(pvalue_05(test_OffersScreen_AA))\n",
    "print()\n",
    "# проверка статистически значимого различия события \"Добавление в корзину\" к \"Просмотр страницы товара\"\n",
    "print('Добавление в корзину к просмотру страницы товара: различие долей групп А1/А2')\n",
    "test_CartScreen_AA = stats(g246_Offers,g246_Cart,g247_Offers,g247_Cart)\n",
    "print('p-значение: ', round(test_CartScreen_AA,5))\n",
    "print('Результат при alpha 5%:')\n",
    "print(pvalue_05(test_CartScreen_AA))\n",
    "print()\n",
    "# проверка статистически значимого различия события \"Успешная оплата\" к \"Добавление в корзину\"\n",
    "print('Успешная оплата к добавлению в корзину: различие долей групп А1/А2')\n",
    "test_PaymentScreen_AA = stats(g246_Cart,g246_Payment,g247_Cart,g247_Payment)\n",
    "print('p-значение: ', round(test_PaymentScreen_AA,5))\n",
    "print('Результат при alpha 5%:')\n",
    "print(pvalue_05(test_PaymentScreen_AA))"
   ]
  },
  {
   "cell_type": "markdown",
   "metadata": {},
   "source": [
    "<b> Выводы: </b> <br>\n",
    "При сравнении различия долей контрольных групп А/А - статистически значимые различия не обнаружены<br>\n",
    "=> контрольные группы формируются корректно (настройки эксперимента верны)<br>\n",
    "=> можно проводить сравнение групп А/А с экпериментальной группой В<br>"
   ]
  },
  {
   "cell_type": "markdown",
   "metadata": {},
   "source": [
    "<b>/ Проверка статистически значимой разницы долей у групп А1 / B (246 и 248) с уровнем alpha = 5%</b>"
   ]
  },
  {
   "cell_type": "code",
   "execution_count": 25,
   "metadata": {},
   "outputs": [
    {
     "name": "stdout",
     "output_type": "stream",
     "text": [
      "Просмотр главной страницы ко всем пользователям группы: различие долей групп А1/В\n",
      "p-значение:  0.2438\n",
      "Результат при alpha 5%:\n",
      "Не получилось отвергнуть нулевую гипотезу, нет оснований считать доли разными\n",
      "None\n",
      "\n",
      "Просмотр страницы товара к просмотру главной страницы: различие долей групп А1/В\n",
      "p-значение:  0.28728\n",
      "Результат при alpha 5%:\n",
      "Не получилось отвергнуть нулевую гипотезу, нет оснований считать доли разными\n",
      "None\n",
      "\n",
      "Добавление в корзину к просмотру страницы товара: различие долей групп А1/В\n",
      "p-значение:  0.21615\n",
      "Результат при alpha 5%:\n",
      "Не получилось отвергнуть нулевую гипотезу, нет оснований считать доли разными\n",
      "None\n",
      "\n",
      "Успешная оплата к добавлению в корзину: различие долей групп А1/В\n",
      "p-значение:  0.14125\n",
      "Результат при alpha 5%:\n",
      "Не получилось отвергнуть нулевую гипотезу, нет оснований считать доли разными\n",
      "None\n"
     ]
    }
   ],
   "source": [
    "# проверка статистически значимого различия долей \"Просмотр главной страницы\" ко всем пользователям\n",
    "print('Просмотр главной страницы ко всем пользователям группы: различие долей групп А1/В')\n",
    "test_MainScreen_A1B = stats(g246_nunique,g246_Main,g248_nunique,g248_Main)\n",
    "print('p-значение: ', round(test_MainScreen_A1B,5))\n",
    "print('Результат при alpha 5%:')\n",
    "print(pvalue_05(test_MainScreen_A1B))\n",
    "print()\n",
    "# проверка статистически значимого различия события \"Просмотр страницы товара\" к \"Просмотр главной страницы\"\n",
    "print('Просмотр страницы товара к просмотру главной страницы: различие долей групп А1/В')\n",
    "test_OffersScreen_A1B = stats(g246_Main,g246_Offers,g248_Main,g248_Offers)\n",
    "print('p-значение: ', round(test_OffersScreen_A1B,5))\n",
    "print('Результат при alpha 5%:')\n",
    "print(pvalue_05(test_OffersScreen_A1B))\n",
    "print()\n",
    "# проверка статистически значимого различия события \"Добавление в корзину\" к \"Просмотр страницы товара\"\n",
    "print('Добавление в корзину к просмотру страницы товара: различие долей групп А1/В')\n",
    "test_CartScreen_A1B = stats(g246_Offers,g246_Cart,g248_Offers,g248_Cart)\n",
    "print('p-значение: ', round(test_CartScreen_A1B,5))\n",
    "print('Результат при alpha 5%:')\n",
    "print(pvalue_05(test_CartScreen_A1B))\n",
    "print()\n",
    "# проверка статистически значимого различия события \"Успешная оплата\" к \"Добавление в корзину\"\n",
    "print('Успешная оплата к добавлению в корзину: различие долей групп А1/В')\n",
    "test_PaymentScreen_A1B = stats(g246_Cart,g246_Payment,g248_Cart,g248_Payment)\n",
    "print('p-значение: ', round(test_PaymentScreen_A1B,5))\n",
    "print('Результат при alpha 5%:')\n",
    "print(pvalue_05(test_PaymentScreen_A1B))"
   ]
  },
  {
   "cell_type": "markdown",
   "metadata": {},
   "source": [
    "<b>/ Проверка статистически значимой разницы долей у групп А_2 / B (247 и 248) с уровнем alpha = 5%</b>"
   ]
  },
  {
   "cell_type": "code",
   "execution_count": 26,
   "metadata": {},
   "outputs": [
    {
     "name": "stdout",
     "output_type": "stream",
     "text": [
      "Просмотр главной страницы ко всем пользователям группы: различие долей групп А2/В\n",
      "p-значение:  0.45453\n",
      "Результат при alpha 5%:\n",
      "Не получилось отвергнуть нулевую гипотезу, нет оснований считать доли разными\n",
      "None\n",
      "\n",
      "Просмотр страницы товара к просмотру главной страницы: различие долей групп А2/В\n",
      "p-значение:  0.97824\n",
      "Результат при alpha 5%:\n",
      "Не получилось отвергнуть нулевую гипотезу, нет оснований считать доли разными\n",
      "None\n",
      "\n",
      "Добавление в корзину к просмотру страницы товара: различие долей групп А2/В\n",
      "p-значение:  0.41571\n",
      "Результат при alpha 5%:\n",
      "Не получилось отвергнуть нулевую гипотезу, нет оснований считать доли разными\n",
      "None\n",
      "\n",
      "Успешная оплата к добавлению в корзину: различие долей групп А2/В\n",
      "p-значение:  0.00601\n",
      "Результат при alpha 5%:\n",
      "Отвергаем нулевую гипотезу: между долями есть значимая разница\n",
      "None\n"
     ]
    }
   ],
   "source": [
    "# проверка статистически значимого различия долей \"Просмотр главной страницы\" ко всем пользователям\n",
    "print('Просмотр главной страницы ко всем пользователям группы: различие долей групп А2/В')\n",
    "test_MainScreen_A2B = stats(g247_nunique,g247_Main,g248_nunique,g248_Main)\n",
    "print('p-значение: ', round(test_MainScreen_A2B,5))\n",
    "print('Результат при alpha 5%:')\n",
    "print(pvalue_05(test_MainScreen_A2B))\n",
    "print()\n",
    "# проверка статистически значимого различия события \"Просмотр страницы товара\" к \"Просмотр главной страницы\"\n",
    "print('Просмотр страницы товара к просмотру главной страницы: различие долей групп А2/В')\n",
    "test_OffersScreen_A2B = stats(g247_Main,g247_Offers,g248_Main,g248_Offers)\n",
    "print('p-значение: ', round(test_OffersScreen_A2B,5))\n",
    "print('Результат при alpha 5%:')\n",
    "print(pvalue_05(test_OffersScreen_A2B))\n",
    "print()\n",
    "# проверка статистически значимого различия события \"Добавление в корзину\" к \"Просмотр страницы товара\"\n",
    "print('Добавление в корзину к просмотру страницы товара: различие долей групп А2/В')\n",
    "test_CartScreen_A2B = stats(g247_Offers,g247_Cart,g248_Offers,g248_Cart)\n",
    "print('p-значение: ', round(test_CartScreen_A2B,5))\n",
    "print('Результат при alpha 5%:')\n",
    "print(pvalue_05(test_CartScreen_A2B))\n",
    "print()\n",
    "# проверка статистически значимого различия события \"Успешная оплата\" к \"Добавление в корзину\"\n",
    "print('Успешная оплата к добавлению в корзину: различие долей групп А2/В')\n",
    "test_PaymentScreen_A2B = stats(g247_Cart,g247_Payment,g248_Cart,g248_Payment)\n",
    "print('p-значение: ', round(test_PaymentScreen_A2B,5))\n",
    "print('Результат при alpha 5%:')\n",
    "print(pvalue_05(test_PaymentScreen_A2B))"
   ]
  },
  {
   "cell_type": "markdown",
   "metadata": {},
   "source": [
    "<b>/ Проверка статистически значимой разницы долей у объединенной группы групп А_1 + А_2 / B (246+247 и 248) с уровнем alpha = 5%</b>"
   ]
  },
  {
   "cell_type": "code",
   "execution_count": 27,
   "metadata": {},
   "outputs": [
    {
     "name": "stdout",
     "output_type": "stream",
     "text": [
      "Просмотр главной страницы ко всем пользователям группы: различие долей групп А+А/В\n",
      "p-значение:  0.26186\n",
      "Результат при alpha 5%:\n",
      "Не получилось отвергнуть нулевую гипотезу, нет оснований считать доли разными\n",
      "None\n",
      "\n",
      "Просмотр страницы товара к просмотру главной страницы: различие долей групп А+А/В\n",
      "p-значение:  0.53052\n",
      "Результат при alpha 5%:\n",
      "Не получилось отвергнуть нулевую гипотезу, нет оснований считать доли разными\n",
      "None\n",
      "\n",
      "Добавление в корзину к просмотру страницы товара: различие долей групп А+А/В\n",
      "p-значение:  0.23406\n",
      "Результат при alpha 5%:\n",
      "Не получилось отвергнуть нулевую гипотезу, нет оснований считать доли разными\n",
      "None\n",
      "\n",
      "Успешная оплата к добавлению в корзину: различие долей групп А+А/В\n",
      "p-значение:  0.01741\n",
      "Результат при alpha 5%:\n",
      "Отвергаем нулевую гипотезу: между долями есть значимая разница\n",
      "None\n"
     ]
    }
   ],
   "source": [
    "# проверка статистически значимого различия долей \"Просмотр главной страницы\" ко всем пользователям\n",
    "print('Просмотр главной страницы ко всем пользователям группы: различие долей групп А+А/В')\n",
    "test_MainScreen_AAB = stats(g246_g247_nunique,g246_g247_Main,g248_nunique,g248_Main)\n",
    "print('p-значение: ', round(test_MainScreen_AAB,5))\n",
    "print('Результат при alpha 5%:')\n",
    "print(pvalue_05(test_MainScreen_AAB))\n",
    "print()\n",
    "# проверка статистически значимого различия события \"Просмотр страницы товара\" к \"Просмотр главной страницы\"\n",
    "print('Просмотр страницы товара к просмотру главной страницы: различие долей групп А+А/В')\n",
    "test_OffersScreen_AAB = stats(g246_g247_Main,g246_g247_Offers,g248_Main,g248_Offers)\n",
    "print('p-значение: ', round(test_OffersScreen_AAB,5))\n",
    "print('Результат при alpha 5%:')\n",
    "print(pvalue_05(test_OffersScreen_AAB))\n",
    "print()\n",
    "# проверка статистически значимого различия события \"Добавление в корзину\" к \"Просмотр страницы товара\"\n",
    "print('Добавление в корзину к просмотру страницы товара: различие долей групп А+А/В')\n",
    "test_CartScreen_AAB = stats(g246_g247_Offers,g246_g247_Cart,g248_Offers,g248_Cart)\n",
    "print('p-значение: ', round(test_CartScreen_AAB,5))\n",
    "print('Результат при alpha 5%:')\n",
    "print(pvalue_05(test_CartScreen_AAB))\n",
    "print()\n",
    "# проверка статистически значимого различия события \"Успешная оплата\" к \"Добавление в корзину\"\n",
    "print('Успешная оплата к добавлению в корзину: различие долей групп А+А/В')\n",
    "test_PaymentScreen_AAB = stats(g246_g247_Cart,g246_g247_Payment,g248_Cart,g248_Payment)\n",
    "print('p-значение: ', round(test_PaymentScreen_AAB,5))\n",
    "print('Результат при alpha 5%:')\n",
    "print(pvalue_05(test_PaymentScreen_AAB))"
   ]
  },
  {
   "cell_type": "markdown",
   "metadata": {},
   "source": [
    "<b> Выводы: </b> <br>\n",
    "Результаты нахождения статистически значимой разницы долей между группами с уровнем значимости alpha = 5%:<br>\n",
    "Было проведено 16 тестов (по 4 теста для 4х групп сравнений)<br>\n",
    "<br>\n",
    "Статистически значимое отличие между группами при alpha = 5%:<br>\n",
    "-А1/А2: не найдено<br>\n",
    "-А1/В: не найдено<br>\n",
    "-А2/В: найдено для события Успешная оплата к добавлению в корзину<br>\n",
    "-А1+А2/В: найдено для события Успешная оплата к добавлению в корзину<br>\n",
    "<br>\n",
    "=> после нахождения различий необходимо сравнить числовые значения долей для события Успешная оплата<br>"
   ]
  },
  {
   "cell_type": "code",
   "execution_count": 28,
   "metadata": {},
   "outputs": [
    {
     "name": "stdout",
     "output_type": "stream",
     "text": [
      "Доля перехода из Корзины к Успешной оплате :\n",
      "у объединенных групп А+А (246+247): 0.941\n",
      "у группы В (248) : 0.959\n",
      "Разница долей (группа В - объединенные группы А+А) : 0.019\n"
     ]
    }
   ],
   "source": [
    "# найдем числовые различия в группах (у кого лучше показатели)\n",
    "print('Доля перехода из Корзины к Успешной оплате :')\n",
    "print('у объединенных групп А+А (246+247):', round(g246_g247_Payment/g246_g247_Cart,3))\n",
    "print('у группы В (248) :', round(g248_Payment/g248_Cart,3))\n",
    "print('Разница долей (группа В - объединенные группы А+А) :', round(g248_Payment/g248_Cart - g246_g247_Payment/g246_g247_Cart,3))"
   ]
  },
  {
   "cell_type": "markdown",
   "metadata": {},
   "source": [
    "<b> Выводы: </b> <br>\n",
    "При сравнении долей в группах А/А/В было выявлено, что доля перехода из Корзины у Успешной оплате у групп различная: <br>\n",
    "-переход из Корзины к Успешной оплате у экспериментальной группы 248 лучше на 2 процентных пункта, чем у объединенной контрольной группы 246 и 247   <br>"
   ]
  },
  {
   "cell_type": "markdown",
   "metadata": {},
   "source": [
    "<b>/ Дополнительный расчет статистической значимости различия долей с уровнем значимости alpha = 1%</b>"
   ]
  },
  {
   "cell_type": "code",
   "execution_count": 29,
   "metadata": {},
   "outputs": [
    {
     "name": "stdout",
     "output_type": "stream",
     "text": [
      "Результат при alpha 1%:\n",
      "\n",
      "Различие долей групп А/А:\n",
      "Просмотр главной страницы ко всем пользователям группы:\n",
      "Не получилось отвергнуть нулевую гипотезу, нет оснований считать доли разными\n",
      "None\n",
      "Просмотр страницы товара к просмотру главной страницы:\n",
      "Не получилось отвергнуть нулевую гипотезу, нет оснований считать доли разными\n",
      "None\n",
      "Добавление в корзину к просмотру страницы товара:\n",
      "Не получилось отвергнуть нулевую гипотезу, нет оснований считать доли разными\n",
      "None\n",
      "Успешная оплата к добавлению в корзину:\n",
      "Не получилось отвергнуть нулевую гипотезу, нет оснований считать доли разными\n",
      "None\n",
      "\n",
      "Различие долей групп А1/В:\n",
      "Просмотр главной страницы ко всем пользователям группы:\n",
      "Не получилось отвергнуть нулевую гипотезу, нет оснований считать доли разными\n",
      "None\n",
      "Просмотр страницы товара к просмотру главной страницы:\n",
      "Не получилось отвергнуть нулевую гипотезу, нет оснований считать доли разными\n",
      "None\n",
      "Добавление в корзину к просмотру страницы товара:\n",
      "Не получилось отвергнуть нулевую гипотезу, нет оснований считать доли разными\n",
      "None\n",
      "Успешная оплата к добавлению в корзину:\n",
      "Не получилось отвергнуть нулевую гипотезу, нет оснований считать доли разными\n",
      "None\n",
      "\n",
      "Различие долей групп А2/В:\n",
      "Просмотр главной страницы ко всем пользователям группы:\n",
      "Не получилось отвергнуть нулевую гипотезу, нет оснований считать доли разными\n",
      "None\n",
      "Просмотр страницы товара к просмотру главной страницы:\n",
      "Не получилось отвергнуть нулевую гипотезу, нет оснований считать доли разными\n",
      "None\n",
      "Добавление в корзину к просмотру страницы товара:\n",
      "Не получилось отвергнуть нулевую гипотезу, нет оснований считать доли разными\n",
      "None\n",
      "Успешная оплата к добавлению в корзину:\n",
      "Отвергаем нулевую гипотезу: между долями есть значимая разница\n",
      "None\n",
      "\n",
      "Различие долей групп А+А/В:\n",
      "Просмотр главной страницы ко всем пользователям группы:\n",
      "Не получилось отвергнуть нулевую гипотезу, нет оснований считать доли разными\n",
      "None\n",
      "Просмотр страницы товара к просмотру главной страницы:\n",
      "Не получилось отвергнуть нулевую гипотезу, нет оснований считать доли разными\n",
      "None\n",
      "Добавление в корзину к просмотру страницы товара:\n",
      "Не получилось отвергнуть нулевую гипотезу, нет оснований считать доли разными\n",
      "None\n",
      "Успешная оплата к добавлению в корзину:\n",
      "Не получилось отвергнуть нулевую гипотезу, нет оснований считать доли разными\n",
      "None\n"
     ]
    }
   ],
   "source": [
    "# Дополнительно: нахождение при уровне значимости alpha = 1%\n",
    "print('Результат при alpha 1%:')\n",
    "print()\n",
    "print('Различие долей групп А/А:')\n",
    "print('Просмотр главной страницы ко всем пользователям группы:')\n",
    "print(pvalue_01(test_MainScreen_AA))\n",
    "print('Просмотр страницы товара к просмотру главной страницы:')\n",
    "print(pvalue_01(test_OffersScreen_AA))\n",
    "print('Добавление в корзину к просмотру страницы товара:')\n",
    "print(pvalue_01(test_CartScreen_AA))\n",
    "print('Успешная оплата к добавлению в корзину:')\n",
    "print(pvalue_01(test_PaymentScreen_AA))\n",
    "print()\n",
    "print('Различие долей групп А1/В:')\n",
    "print('Просмотр главной страницы ко всем пользователям группы:')\n",
    "print(pvalue_01(test_MainScreen_A1B))\n",
    "print('Просмотр страницы товара к просмотру главной страницы:')\n",
    "print(pvalue_01(test_OffersScreen_A1B))\n",
    "print('Добавление в корзину к просмотру страницы товара:')\n",
    "print(pvalue_01(test_CartScreen_A1B))\n",
    "print('Успешная оплата к добавлению в корзину:')\n",
    "print(pvalue_01(test_PaymentScreen_A1B))\n",
    "print()\n",
    "print('Различие долей групп А2/В:')\n",
    "print('Просмотр главной страницы ко всем пользователям группы:')\n",
    "print(pvalue_01(test_MainScreen_A2B))\n",
    "print('Просмотр страницы товара к просмотру главной страницы:')\n",
    "print(pvalue_01(test_OffersScreen_A2B))\n",
    "print('Добавление в корзину к просмотру страницы товара:')\n",
    "print(pvalue_01(test_CartScreen_A2B))\n",
    "print('Успешная оплата к добавлению в корзину:')\n",
    "print(pvalue_01(test_PaymentScreen_A2B))\n",
    "print()\n",
    "print('Различие долей групп А+А/В:')\n",
    "print('Просмотр главной страницы ко всем пользователям группы:')\n",
    "print(pvalue_01(test_MainScreen_AAB))\n",
    "print('Просмотр страницы товара к просмотру главной страницы:')\n",
    "print(pvalue_01(test_OffersScreen_AAB))\n",
    "print('Добавление в корзину к просмотру страницы товара:')\n",
    "print(pvalue_01(test_CartScreen_AAB))\n",
    "print('Успешная оплата к добавлению в корзину:')\n",
    "print(pvalue_01(test_PaymentScreen_AAB))"
   ]
  },
  {
   "cell_type": "markdown",
   "metadata": {},
   "source": [
    "<b> Выводы: </b> <br>\n",
    "Результаты нахождения статистически значимой разницы долей между группами с уровнем значимости alpha = 1%:<br>\n",
    "Было проведено 16 тестов (по 4 теста для 4х групп сравнений)<br>\n",
    "<br>\n",
    "Статистически значимое отличие между группами при alpha = 1%:<br>\n",
    "-А1/А2: не найдено<br>\n",
    "-А1/В: не найдено<br>\n",
    "-А2/В: найдено для события Успешная оплата к добавлению в корзину<br>\n",
    "-А1+А2/В: не найдено<br>\n",
    "<br>\n",
    "<b> Отличия сравнений с уровнем значимости alpha = 5% и alpha = 1%: </b> <br>\n",
    "-с уровнем значимости alpha = 1% не найдено различия в долей перехода из Корзины у Успешной оплате между объединенными контрольными группами А+А (246+247) и экспериментальной группой В (248)<br>\n",
    "-с уровнем значимости alpha = 1% найдено различие перехода из Корзины у Успешной оплате только при сравнении групп А2/В (контрольной 247 и экспериментальной 248)"
   ]
  },
  {
   "cell_type": "markdown",
   "metadata": {},
   "source": [
    "<br>\n",
    "<b>Вывод по результатам проверки А/А/В-эксперимента:</b> <br>\n",
    "<br>\n",
    "1. Проведен анализ различия долей с уровнем значимости alpha = 5%:<br>\n",
    "- обнаружены статистически значимые различия долей перехода из Корзины у Успешной оплате для групп А2/В и для объединенных групп А1+А2/В <br>\n",
    "- переход из Корзины к Успешной оплате у экспериментальной группы 248 лучше на 2 процентного пункта, чем у объединенной контрольной группы 246 и 247 <br>\n",
    "=> можно сделать вывод, что экспериментальная группа лучше объединенный контрольных групп с вероятной долей ошибки 5% <br>\n",
    "<br>\n",
    "2. Проведен анализ различия долей с уровнем значимости alpha = 1%:<br>\n",
    "- обнаружены статистически значимые различия долей перехода из Корзины у Успешной оплате для групп А2/В<br>\n",
    "- в отличие от уровня значимости в 5% статистически значимых различий долей перехода из Корзины у Успешной оплате для объединенных групп А1+А2/В не обнаружено<br>\n",
    "=> можно сделать вывод, что с вероятностью ошибки в 1% разницы в долях контрольных и экспериментальных групп нет <br>\n",
    "<br>\n",
    "<b>Общий вывод по результатам эксперимента:</b><br>\n",
    "- не обнаружено статистически значимых различий в переходах по воронке для шагов \"Просмотр главной страницы\", \"Просмотр страницы товара\", \"Добавление в корзину\" между контрольными группами и экспериментальной группой<br>\n",
    "- обнаружено статистически значимое различие в переходе по воронке из Корзины у Успешной оплате между объединенными контрольными группами и экспериментальной группой (с вероятной долей ошибки 5%)<br>\n",
    "- не обнаружено статистически значимого различия в переходе по воронке из Корзины у Успешной оплате между объединенными контрольными группами и экспериментальной группой (с вероятной долей ошибки 1%)<br>\n",
    "<br>\n",
    "=> на основании данных выше можно сделать вывод, что разница между контрольными группами и экспериментальной группой крайне мала<br>\n",
    "=> изменения, которые были протестированы в эксперименте, не будут значимыми для пользователей => с большой долей вероятности можно проводить данные изменения <br>"
   ]
  },
  {
   "cell_type": "markdown",
   "metadata": {},
   "source": [
    "### Общий вывод"
   ]
  },
  {
   "cell_type": "markdown",
   "metadata": {},
   "source": [
    "<b>В рамках проекта по анализу пользователей мобильного приложения и оценке А/А/В-экперимента была проведена следующая работа::</b> <br>\n",
    "<br>\n",
    "1. Проведена предобработка и анализ датасета:\n",
    "- удалены дубликаты\n",
    "- удалены выбросы (аномальные значения по пользователям) и нерелевантные даты <br>\n",
    "<br>\n",
    "2. Проведен анализ воронки событий<br>\n",
    "- больше всего пользователей теряется на переходе с Главной страницы на Страницу товара (38%)<br>\n",
    "- от первого события (Просмотр главной страницы) до Успешной оплаты доходит 48% пользователей (потери = 52%)<br>\n",
    "<br>    \n",
    "3. Проведен анализ А/А/В-экперимента:<br>    \n",
    "- проанализированы различия долей для 2х контрольных групп и 1 экспериментальной группы с уровнем значимости alpha = 5% и 1%  <br>\n",
    "- разница между контрольными группами и экспериментальной группой обнаружена только для события переход из Корзины к Успешной оплате <br>\n",
    "- разница между контрольными группами и экспериментальной группой крайне мала (с долей ошибки 1% разницы нет)<br>\n",
    "<br>\n",
    "Общий вывод по результатам А/А/В-экперимента: изменения, которые были протестированы в экперименте, не будут значимыми для пользователей<br>"
   ]
  },
  {
   "cell_type": "code",
   "execution_count": null,
   "metadata": {},
   "outputs": [],
   "source": []
  }
 ],
 "metadata": {
  "ExecuteTimeLog": [
   {
    "duration": 52,
    "start_time": "2022-11-28T09:35:34.620Z"
   },
   {
    "duration": 511,
    "start_time": "2022-11-28T09:35:36.574Z"
   },
   {
    "duration": 21,
    "start_time": "2022-11-28T09:35:37.188Z"
   },
   {
    "duration": 1189,
    "start_time": "2023-02-17T09:03:34.375Z"
   },
   {
    "duration": 503,
    "start_time": "2023-02-17T09:03:35.566Z"
   },
   {
    "duration": 5,
    "start_time": "2023-02-17T09:03:36.071Z"
   },
   {
    "duration": 18,
    "start_time": "2023-02-17T09:03:36.078Z"
   },
   {
    "duration": 19,
    "start_time": "2023-02-17T09:03:36.097Z"
   },
   {
    "duration": 247,
    "start_time": "2023-02-17T09:03:36.117Z"
   },
   {
    "duration": 94,
    "start_time": "2023-02-17T09:03:36.365Z"
   },
   {
    "duration": 56,
    "start_time": "2023-02-17T09:03:36.461Z"
   },
   {
    "duration": 51,
    "start_time": "2023-02-17T09:03:36.520Z"
   },
   {
    "duration": 487,
    "start_time": "2023-02-17T09:03:36.573Z"
   },
   {
    "duration": 35,
    "start_time": "2023-02-17T09:03:37.062Z"
   },
   {
    "duration": 397,
    "start_time": "2023-02-17T09:03:37.099Z"
   },
   {
    "duration": 47,
    "start_time": "2023-02-17T09:03:37.497Z"
   },
   {
    "duration": 116,
    "start_time": "2023-02-17T09:03:37.545Z"
   },
   {
    "duration": 11,
    "start_time": "2023-02-17T09:03:37.662Z"
   },
   {
    "duration": 19,
    "start_time": "2023-02-17T09:03:37.674Z"
   },
   {
    "duration": 100,
    "start_time": "2023-02-17T09:03:37.694Z"
   },
   {
    "duration": 168,
    "start_time": "2023-02-17T09:03:37.796Z"
   },
   {
    "duration": 4,
    "start_time": "2023-02-17T09:03:37.965Z"
   },
   {
    "duration": 9,
    "start_time": "2023-02-17T09:03:37.970Z"
   },
   {
    "duration": 8,
    "start_time": "2023-02-17T09:03:37.981Z"
   },
   {
    "duration": 33,
    "start_time": "2023-02-17T09:03:37.991Z"
   },
   {
    "duration": 23,
    "start_time": "2023-02-17T09:03:38.026Z"
   },
   {
    "duration": 28,
    "start_time": "2023-02-17T09:03:38.051Z"
   },
   {
    "duration": 18,
    "start_time": "2023-02-17T09:03:38.080Z"
   },
   {
    "duration": 23,
    "start_time": "2023-02-17T09:03:38.099Z"
   },
   {
    "duration": 10,
    "start_time": "2023-02-17T09:03:38.123Z"
   },
   {
    "duration": 17,
    "start_time": "2023-02-17T09:03:38.135Z"
   },
   {
    "duration": 1074,
    "start_time": "2023-02-17T09:05:23.466Z"
   },
   {
    "duration": 161,
    "start_time": "2023-02-17T09:05:24.541Z"
   },
   {
    "duration": 6,
    "start_time": "2023-02-17T09:05:24.704Z"
   },
   {
    "duration": 23,
    "start_time": "2023-02-17T09:05:24.712Z"
   },
   {
    "duration": 22,
    "start_time": "2023-02-17T09:05:24.738Z"
   },
   {
    "duration": 248,
    "start_time": "2023-02-17T09:05:24.761Z"
   },
   {
    "duration": 86,
    "start_time": "2023-02-17T09:05:25.010Z"
   },
   {
    "duration": 43,
    "start_time": "2023-02-17T09:05:25.098Z"
   },
   {
    "duration": 77,
    "start_time": "2023-02-17T09:05:25.142Z"
   },
   {
    "duration": 547,
    "start_time": "2023-02-17T09:05:25.221Z"
   },
   {
    "duration": 34,
    "start_time": "2023-02-17T09:05:25.769Z"
   },
   {
    "duration": 416,
    "start_time": "2023-02-17T09:05:25.805Z"
   },
   {
    "duration": 53,
    "start_time": "2023-02-17T09:05:26.222Z"
   },
   {
    "duration": 159,
    "start_time": "2023-02-17T09:05:26.291Z"
   },
   {
    "duration": 16,
    "start_time": "2023-02-17T09:05:26.452Z"
   },
   {
    "duration": 29,
    "start_time": "2023-02-17T09:05:26.470Z"
   },
   {
    "duration": 117,
    "start_time": "2023-02-17T09:05:26.501Z"
   },
   {
    "duration": 193,
    "start_time": "2023-02-17T09:05:26.621Z"
   },
   {
    "duration": 4,
    "start_time": "2023-02-17T09:05:26.815Z"
   },
   {
    "duration": 8,
    "start_time": "2023-02-17T09:05:26.820Z"
   },
   {
    "duration": 10,
    "start_time": "2023-02-17T09:05:26.829Z"
   },
   {
    "duration": 29,
    "start_time": "2023-02-17T09:05:26.840Z"
   },
   {
    "duration": 25,
    "start_time": "2023-02-17T09:05:26.871Z"
   },
   {
    "duration": 18,
    "start_time": "2023-02-17T09:05:26.898Z"
   },
   {
    "duration": 13,
    "start_time": "2023-02-17T09:05:26.918Z"
   },
   {
    "duration": 16,
    "start_time": "2023-02-17T09:05:26.933Z"
   },
   {
    "duration": 7,
    "start_time": "2023-02-17T09:05:26.950Z"
   },
   {
    "duration": 40,
    "start_time": "2023-02-17T09:05:26.959Z"
   },
   {
    "duration": 1079,
    "start_time": "2023-02-17T09:13:10.182Z"
   },
   {
    "duration": 165,
    "start_time": "2023-02-17T09:13:11.263Z"
   },
   {
    "duration": 5,
    "start_time": "2023-02-17T09:13:11.430Z"
   },
   {
    "duration": 18,
    "start_time": "2023-02-17T09:13:11.437Z"
   },
   {
    "duration": 35,
    "start_time": "2023-02-17T09:13:11.456Z"
   },
   {
    "duration": 218,
    "start_time": "2023-02-17T09:13:11.493Z"
   },
   {
    "duration": 90,
    "start_time": "2023-02-17T09:13:11.712Z"
   },
   {
    "duration": 38,
    "start_time": "2023-02-17T09:13:11.804Z"
   },
   {
    "duration": 79,
    "start_time": "2023-02-17T09:13:11.844Z"
   },
   {
    "duration": 523,
    "start_time": "2023-02-17T09:13:11.925Z"
   },
   {
    "duration": 44,
    "start_time": "2023-02-17T09:13:12.449Z"
   },
   {
    "duration": 403,
    "start_time": "2023-02-17T09:13:12.495Z"
   },
   {
    "duration": 60,
    "start_time": "2023-02-17T09:13:12.900Z"
   },
   {
    "duration": 142,
    "start_time": "2023-02-17T09:13:12.961Z"
   },
   {
    "duration": 12,
    "start_time": "2023-02-17T09:13:13.105Z"
   },
   {
    "duration": 9,
    "start_time": "2023-02-17T09:13:13.119Z"
   },
   {
    "duration": 110,
    "start_time": "2023-02-17T09:13:13.129Z"
   },
   {
    "duration": 183,
    "start_time": "2023-02-17T09:13:13.241Z"
   },
   {
    "duration": 3,
    "start_time": "2023-02-17T09:13:13.425Z"
   },
   {
    "duration": 7,
    "start_time": "2023-02-17T09:13:13.430Z"
   },
   {
    "duration": 8,
    "start_time": "2023-02-17T09:13:13.438Z"
   },
   {
    "duration": 27,
    "start_time": "2023-02-17T09:13:13.447Z"
   },
   {
    "duration": 25,
    "start_time": "2023-02-17T09:13:13.476Z"
   },
   {
    "duration": 15,
    "start_time": "2023-02-17T09:13:13.503Z"
   },
   {
    "duration": 11,
    "start_time": "2023-02-17T09:13:13.520Z"
   },
   {
    "duration": 11,
    "start_time": "2023-02-17T09:13:13.533Z"
   },
   {
    "duration": 5,
    "start_time": "2023-02-17T09:13:13.545Z"
   },
   {
    "duration": 49,
    "start_time": "2023-02-17T09:13:13.552Z"
   },
   {
    "duration": 1105,
    "start_time": "2023-02-17T09:15:47.651Z"
   },
   {
    "duration": 175,
    "start_time": "2023-02-17T09:15:48.759Z"
   },
   {
    "duration": 6,
    "start_time": "2023-02-17T09:15:48.936Z"
   },
   {
    "duration": 26,
    "start_time": "2023-02-17T09:15:48.944Z"
   },
   {
    "duration": 30,
    "start_time": "2023-02-17T09:15:48.975Z"
   },
   {
    "duration": 234,
    "start_time": "2023-02-17T09:15:49.006Z"
   },
   {
    "duration": 91,
    "start_time": "2023-02-17T09:15:49.241Z"
   },
   {
    "duration": 65,
    "start_time": "2023-02-17T09:15:49.333Z"
   },
   {
    "duration": 76,
    "start_time": "2023-02-17T09:15:49.400Z"
   },
   {
    "duration": 571,
    "start_time": "2023-02-17T09:15:49.478Z"
   },
   {
    "duration": 43,
    "start_time": "2023-02-17T09:15:50.050Z"
   },
   {
    "duration": 409,
    "start_time": "2023-02-17T09:15:50.095Z"
   },
   {
    "duration": 61,
    "start_time": "2023-02-17T09:15:50.506Z"
   },
   {
    "duration": 140,
    "start_time": "2023-02-17T09:15:50.591Z"
   },
   {
    "duration": 12,
    "start_time": "2023-02-17T09:15:50.733Z"
   },
   {
    "duration": 19,
    "start_time": "2023-02-17T09:15:50.746Z"
   },
   {
    "duration": 112,
    "start_time": "2023-02-17T09:15:50.767Z"
   },
   {
    "duration": 214,
    "start_time": "2023-02-17T09:15:50.880Z"
   },
   {
    "duration": 5,
    "start_time": "2023-02-17T09:15:51.095Z"
   },
   {
    "duration": 13,
    "start_time": "2023-02-17T09:15:51.102Z"
   },
   {
    "duration": 12,
    "start_time": "2023-02-17T09:15:51.117Z"
   },
   {
    "duration": 33,
    "start_time": "2023-02-17T09:15:51.131Z"
   },
   {
    "duration": 35,
    "start_time": "2023-02-17T09:15:51.167Z"
   },
   {
    "duration": 17,
    "start_time": "2023-02-17T09:15:51.204Z"
   },
   {
    "duration": 18,
    "start_time": "2023-02-17T09:15:51.223Z"
   },
   {
    "duration": 53,
    "start_time": "2023-02-17T09:15:51.243Z"
   },
   {
    "duration": 11,
    "start_time": "2023-02-17T09:15:51.298Z"
   },
   {
    "duration": 19,
    "start_time": "2023-02-17T09:15:51.311Z"
   },
   {
    "duration": 1242,
    "start_time": "2023-02-17T22:53:45.231Z"
   },
   {
    "duration": 171,
    "start_time": "2023-02-17T22:53:46.475Z"
   },
   {
    "duration": 7,
    "start_time": "2023-02-17T22:53:46.647Z"
   },
   {
    "duration": 28,
    "start_time": "2023-02-17T22:53:46.655Z"
   },
   {
    "duration": 23,
    "start_time": "2023-02-17T22:53:46.686Z"
   },
   {
    "duration": 256,
    "start_time": "2023-02-17T22:53:46.711Z"
   },
   {
    "duration": 91,
    "start_time": "2023-02-17T22:53:46.969Z"
   },
   {
    "duration": 50,
    "start_time": "2023-02-17T22:53:47.061Z"
   },
   {
    "duration": 58,
    "start_time": "2023-02-17T22:53:47.113Z"
   },
   {
    "duration": 577,
    "start_time": "2023-02-17T22:53:47.173Z"
   },
   {
    "duration": 44,
    "start_time": "2023-02-17T22:53:47.752Z"
   },
   {
    "duration": 440,
    "start_time": "2023-02-17T22:53:47.798Z"
   },
   {
    "duration": 67,
    "start_time": "2023-02-17T22:53:48.240Z"
   },
   {
    "duration": 140,
    "start_time": "2023-02-17T22:53:48.310Z"
   },
   {
    "duration": 13,
    "start_time": "2023-02-17T22:53:48.452Z"
   },
   {
    "duration": 12,
    "start_time": "2023-02-17T22:53:48.467Z"
   },
   {
    "duration": 109,
    "start_time": "2023-02-17T22:53:48.493Z"
   },
   {
    "duration": 192,
    "start_time": "2023-02-17T22:53:48.604Z"
   },
   {
    "duration": 4,
    "start_time": "2023-02-17T22:53:48.797Z"
   },
   {
    "duration": 19,
    "start_time": "2023-02-17T22:53:48.803Z"
   },
   {
    "duration": 8,
    "start_time": "2023-02-17T22:53:48.824Z"
   },
   {
    "duration": 32,
    "start_time": "2023-02-17T22:53:48.834Z"
   },
   {
    "duration": 23,
    "start_time": "2023-02-17T22:53:48.868Z"
   },
   {
    "duration": 15,
    "start_time": "2023-02-17T22:53:48.893Z"
   },
   {
    "duration": 18,
    "start_time": "2023-02-17T22:53:48.910Z"
   },
   {
    "duration": 16,
    "start_time": "2023-02-17T22:53:48.931Z"
   },
   {
    "duration": 8,
    "start_time": "2023-02-17T22:53:48.949Z"
   },
   {
    "duration": 47,
    "start_time": "2023-02-17T22:53:48.958Z"
   },
   {
    "duration": 20,
    "start_time": "2023-02-17T22:59:39.993Z"
   },
   {
    "duration": 58,
    "start_time": "2023-02-17T22:59:44.148Z"
   },
   {
    "duration": 1151,
    "start_time": "2023-02-18T14:23:17.738Z"
   },
   {
    "duration": 542,
    "start_time": "2023-02-18T14:23:19.629Z"
   },
   {
    "duration": 6,
    "start_time": "2023-02-18T14:23:25.829Z"
   },
   {
    "duration": 14,
    "start_time": "2023-02-18T14:23:26.827Z"
   },
   {
    "duration": 18,
    "start_time": "2023-02-18T14:23:28.442Z"
   },
   {
    "duration": 208,
    "start_time": "2023-02-18T14:23:30.573Z"
   },
   {
    "duration": 133,
    "start_time": "2023-02-18T14:23:32.159Z"
   },
   {
    "duration": 116,
    "start_time": "2023-02-18T14:23:47.038Z"
   },
   {
    "duration": 118,
    "start_time": "2023-02-18T14:24:14.864Z"
   },
   {
    "duration": 85,
    "start_time": "2023-02-18T14:25:04.090Z"
   },
   {
    "duration": 38,
    "start_time": "2023-02-18T14:25:18.735Z"
   },
   {
    "duration": 1022,
    "start_time": "2023-02-18T14:25:29.026Z"
   },
   {
    "duration": 209,
    "start_time": "2023-02-18T14:25:30.050Z"
   },
   {
    "duration": 7,
    "start_time": "2023-02-18T14:25:31.479Z"
   },
   {
    "duration": 15,
    "start_time": "2023-02-18T14:25:31.717Z"
   },
   {
    "duration": 19,
    "start_time": "2023-02-18T14:25:31.943Z"
   },
   {
    "duration": 205,
    "start_time": "2023-02-18T14:25:32.558Z"
   },
   {
    "duration": 148,
    "start_time": "2023-02-18T14:25:32.947Z"
   },
   {
    "duration": 80,
    "start_time": "2023-02-18T14:25:36.446Z"
   },
   {
    "duration": 37,
    "start_time": "2023-02-18T14:25:41.025Z"
   },
   {
    "duration": 35,
    "start_time": "2023-02-18T14:25:55.520Z"
   },
   {
    "duration": 49,
    "start_time": "2023-02-18T14:26:05.952Z"
   },
   {
    "duration": 25,
    "start_time": "2023-02-18T14:27:05.596Z"
   },
   {
    "duration": 28,
    "start_time": "2023-02-18T14:27:22.244Z"
   },
   {
    "duration": 195,
    "start_time": "2023-02-18T14:31:25.301Z"
   },
   {
    "duration": 167,
    "start_time": "2023-02-18T14:33:54.069Z"
   },
   {
    "duration": 150,
    "start_time": "2023-02-18T14:33:59.241Z"
   },
   {
    "duration": 472,
    "start_time": "2023-02-18T14:38:20.254Z"
   },
   {
    "duration": 396,
    "start_time": "2023-02-18T14:39:16.802Z"
   },
   {
    "duration": 427,
    "start_time": "2023-02-18T14:39:47.189Z"
   },
   {
    "duration": 417,
    "start_time": "2023-02-18T14:40:03.050Z"
   },
   {
    "duration": 406,
    "start_time": "2023-02-18T14:40:09.027Z"
   },
   {
    "duration": 404,
    "start_time": "2023-02-18T14:40:23.482Z"
   },
   {
    "duration": 515,
    "start_time": "2023-02-18T14:40:36.066Z"
   },
   {
    "duration": 431,
    "start_time": "2023-02-18T14:40:51.665Z"
   },
   {
    "duration": 425,
    "start_time": "2023-02-18T14:42:53.598Z"
   },
   {
    "duration": 6,
    "start_time": "2023-02-18T14:44:00.472Z"
   },
   {
    "duration": 102,
    "start_time": "2023-02-18T14:45:20.852Z"
   },
   {
    "duration": 13,
    "start_time": "2023-02-18T14:45:27.497Z"
   },
   {
    "duration": 78,
    "start_time": "2023-02-18T14:45:34.677Z"
   },
   {
    "duration": 8,
    "start_time": "2023-02-18T14:45:52.501Z"
   },
   {
    "duration": 10,
    "start_time": "2023-02-18T14:46:05.841Z"
   },
   {
    "duration": 13,
    "start_time": "2023-02-18T14:46:25.240Z"
   },
   {
    "duration": 21,
    "start_time": "2023-02-18T14:48:21.728Z"
   },
   {
    "duration": 33,
    "start_time": "2023-02-18T14:49:13.333Z"
   },
   {
    "duration": 44,
    "start_time": "2023-02-18T14:51:04.471Z"
   },
   {
    "duration": 353,
    "start_time": "2023-02-18T14:51:06.106Z"
   },
   {
    "duration": 34,
    "start_time": "2023-02-18T14:55:50.466Z"
   },
   {
    "duration": 46,
    "start_time": "2023-02-18T14:55:54.479Z"
   },
   {
    "duration": 1039,
    "start_time": "2023-02-18T14:57:29.134Z"
   },
   {
    "duration": 214,
    "start_time": "2023-02-18T14:57:30.175Z"
   },
   {
    "duration": 6,
    "start_time": "2023-02-18T14:57:30.391Z"
   },
   {
    "duration": 46,
    "start_time": "2023-02-18T14:57:30.399Z"
   },
   {
    "duration": 31,
    "start_time": "2023-02-18T14:57:30.447Z"
   },
   {
    "duration": 231,
    "start_time": "2023-02-18T14:57:30.479Z"
   },
   {
    "duration": 168,
    "start_time": "2023-02-18T14:57:30.712Z"
   },
   {
    "duration": 110,
    "start_time": "2023-02-18T14:57:30.882Z"
   },
   {
    "duration": 34,
    "start_time": "2023-02-18T14:57:30.994Z"
   },
   {
    "duration": 70,
    "start_time": "2023-02-18T14:57:31.031Z"
   },
   {
    "duration": 29,
    "start_time": "2023-02-18T14:57:31.103Z"
   },
   {
    "duration": 227,
    "start_time": "2023-02-18T14:57:31.134Z"
   },
   {
    "duration": 10,
    "start_time": "2023-02-18T14:57:31.363Z"
   },
   {
    "duration": 524,
    "start_time": "2023-02-18T14:57:31.374Z"
   },
   {
    "duration": 52,
    "start_time": "2023-02-18T14:57:31.900Z"
   },
   {
    "duration": 46,
    "start_time": "2023-02-18T14:57:31.954Z"
   },
   {
    "duration": 371,
    "start_time": "2023-02-18T14:57:32.002Z"
   },
   {
    "duration": 48,
    "start_time": "2023-02-18T14:57:32.375Z"
   },
   {
    "duration": 109,
    "start_time": "2023-02-18T14:57:32.424Z"
   },
   {
    "duration": 11,
    "start_time": "2023-02-18T14:57:32.548Z"
   },
   {
    "duration": 27,
    "start_time": "2023-02-18T14:57:32.560Z"
   },
   {
    "duration": 80,
    "start_time": "2023-02-18T14:57:32.589Z"
   },
   {
    "duration": 189,
    "start_time": "2023-02-18T14:57:32.670Z"
   },
   {
    "duration": 4,
    "start_time": "2023-02-18T14:57:32.862Z"
   },
   {
    "duration": 29,
    "start_time": "2023-02-18T14:57:32.868Z"
   },
   {
    "duration": 32,
    "start_time": "2023-02-18T14:57:32.900Z"
   },
   {
    "duration": 47,
    "start_time": "2023-02-18T14:57:32.934Z"
   },
   {
    "duration": 19,
    "start_time": "2023-02-18T14:57:32.984Z"
   },
   {
    "duration": 23,
    "start_time": "2023-02-18T14:57:33.005Z"
   },
   {
    "duration": 26,
    "start_time": "2023-02-18T14:57:33.031Z"
   },
   {
    "duration": 26,
    "start_time": "2023-02-18T14:57:33.059Z"
   },
   {
    "duration": 14,
    "start_time": "2023-02-18T14:57:33.087Z"
   },
   {
    "duration": 18,
    "start_time": "2023-02-18T14:57:33.103Z"
   },
   {
    "duration": 334,
    "start_time": "2023-02-18T15:02:15.466Z"
   },
   {
    "duration": 994,
    "start_time": "2023-02-18T15:11:28.058Z"
   },
   {
    "duration": 208,
    "start_time": "2023-02-18T15:11:29.054Z"
   },
   {
    "duration": 6,
    "start_time": "2023-02-18T15:11:29.263Z"
   },
   {
    "duration": 18,
    "start_time": "2023-02-18T15:11:29.271Z"
   },
   {
    "duration": 18,
    "start_time": "2023-02-18T15:11:29.291Z"
   },
   {
    "duration": 230,
    "start_time": "2023-02-18T15:11:29.310Z"
   },
   {
    "duration": 153,
    "start_time": "2023-02-18T15:11:29.541Z"
   },
   {
    "duration": 103,
    "start_time": "2023-02-18T15:11:29.696Z"
   },
   {
    "duration": 34,
    "start_time": "2023-02-18T15:11:29.801Z"
   },
   {
    "duration": 52,
    "start_time": "2023-02-18T15:11:29.849Z"
   },
   {
    "duration": 27,
    "start_time": "2023-02-18T15:11:29.902Z"
   },
   {
    "duration": 183,
    "start_time": "2023-02-18T15:11:29.949Z"
   },
   {
    "duration": 21,
    "start_time": "2023-02-18T15:11:30.134Z"
   },
   {
    "duration": 523,
    "start_time": "2023-02-18T15:11:30.156Z"
   },
   {
    "duration": 33,
    "start_time": "2023-02-18T15:11:30.682Z"
   },
   {
    "duration": 88,
    "start_time": "2023-02-18T15:11:30.717Z"
   },
   {
    "duration": 358,
    "start_time": "2023-02-18T15:11:30.806Z"
   },
   {
    "duration": 43,
    "start_time": "2023-02-18T15:11:31.166Z"
   },
   {
    "duration": 107,
    "start_time": "2023-02-18T15:11:31.211Z"
   },
   {
    "duration": 28,
    "start_time": "2023-02-18T15:11:31.320Z"
   },
   {
    "duration": 11,
    "start_time": "2023-02-18T15:11:31.350Z"
   },
   {
    "duration": 154,
    "start_time": "2023-02-18T15:11:31.363Z"
   },
   {
    "duration": 139,
    "start_time": "2023-02-18T15:11:31.519Z"
   },
   {
    "duration": 171,
    "start_time": "2023-02-18T15:11:31.660Z"
   },
   {
    "duration": 4,
    "start_time": "2023-02-18T15:11:31.833Z"
   },
   {
    "duration": 5,
    "start_time": "2023-02-18T15:11:31.848Z"
   },
   {
    "duration": 12,
    "start_time": "2023-02-18T15:11:31.855Z"
   },
   {
    "duration": 232,
    "start_time": "2023-02-18T15:11:31.871Z"
   },
   {
    "duration": 17,
    "start_time": "2023-02-18T15:11:32.105Z"
   },
   {
    "duration": 27,
    "start_time": "2023-02-18T15:11:32.124Z"
   },
   {
    "duration": 19,
    "start_time": "2023-02-18T15:11:32.152Z"
   },
   {
    "duration": 11,
    "start_time": "2023-02-18T15:11:32.173Z"
   },
   {
    "duration": 9,
    "start_time": "2023-02-18T15:11:32.186Z"
   },
   {
    "duration": 10,
    "start_time": "2023-02-18T15:11:32.196Z"
   },
   {
    "duration": 994,
    "start_time": "2023-02-18T15:23:54.085Z"
   },
   {
    "duration": 243,
    "start_time": "2023-02-18T15:23:55.081Z"
   },
   {
    "duration": 9,
    "start_time": "2023-02-18T15:23:55.326Z"
   },
   {
    "duration": 32,
    "start_time": "2023-02-18T15:23:55.337Z"
   },
   {
    "duration": 25,
    "start_time": "2023-02-18T15:23:55.371Z"
   },
   {
    "duration": 246,
    "start_time": "2023-02-18T15:23:55.398Z"
   },
   {
    "duration": 154,
    "start_time": "2023-02-18T15:23:55.647Z"
   },
   {
    "duration": 103,
    "start_time": "2023-02-18T15:23:55.803Z"
   },
   {
    "duration": 49,
    "start_time": "2023-02-18T15:23:55.907Z"
   },
   {
    "duration": 51,
    "start_time": "2023-02-18T15:23:55.959Z"
   },
   {
    "duration": 43,
    "start_time": "2023-02-18T15:23:56.012Z"
   },
   {
    "duration": 172,
    "start_time": "2023-02-18T15:23:56.056Z"
   },
   {
    "duration": 20,
    "start_time": "2023-02-18T15:23:56.229Z"
   },
   {
    "duration": 500,
    "start_time": "2023-02-18T15:23:56.250Z"
   },
   {
    "duration": 31,
    "start_time": "2023-02-18T15:23:56.752Z"
   },
   {
    "duration": 64,
    "start_time": "2023-02-18T15:23:56.785Z"
   },
   {
    "duration": 356,
    "start_time": "2023-02-18T15:23:56.850Z"
   },
   {
    "duration": 52,
    "start_time": "2023-02-18T15:23:57.208Z"
   },
   {
    "duration": 101,
    "start_time": "2023-02-18T15:23:57.262Z"
   },
   {
    "duration": 11,
    "start_time": "2023-02-18T15:23:57.364Z"
   },
   {
    "duration": 9,
    "start_time": "2023-02-18T15:23:57.376Z"
   },
   {
    "duration": 172,
    "start_time": "2023-02-18T15:23:57.387Z"
   },
   {
    "duration": 118,
    "start_time": "2023-02-18T15:23:57.561Z"
   },
   {
    "duration": 194,
    "start_time": "2023-02-18T15:23:57.680Z"
   },
   {
    "duration": 4,
    "start_time": "2023-02-18T15:23:57.876Z"
   },
   {
    "duration": 7,
    "start_time": "2023-02-18T15:23:57.882Z"
   },
   {
    "duration": 16,
    "start_time": "2023-02-18T15:23:57.891Z"
   },
   {
    "duration": 196,
    "start_time": "2023-02-18T15:23:57.911Z"
   },
   {
    "duration": 13,
    "start_time": "2023-02-18T15:23:58.108Z"
   },
   {
    "duration": 27,
    "start_time": "2023-02-18T15:23:58.124Z"
   },
   {
    "duration": 13,
    "start_time": "2023-02-18T15:23:58.152Z"
   },
   {
    "duration": 17,
    "start_time": "2023-02-18T15:23:58.166Z"
   },
   {
    "duration": 4,
    "start_time": "2023-02-18T15:23:58.185Z"
   },
   {
    "duration": 18,
    "start_time": "2023-02-18T15:23:58.191Z"
   },
   {
    "duration": 36,
    "start_time": "2023-02-18T15:25:54.051Z"
   },
   {
    "duration": 33,
    "start_time": "2023-02-18T15:26:04.204Z"
   },
   {
    "duration": 25,
    "start_time": "2023-02-18T15:27:33.633Z"
   },
   {
    "duration": 170,
    "start_time": "2023-02-18T15:27:42.031Z"
   },
   {
    "duration": 945,
    "start_time": "2023-02-18T15:29:06.103Z"
   },
   {
    "duration": 208,
    "start_time": "2023-02-18T15:29:07.049Z"
   },
   {
    "duration": 5,
    "start_time": "2023-02-18T15:29:07.258Z"
   },
   {
    "duration": 16,
    "start_time": "2023-02-18T15:29:07.265Z"
   },
   {
    "duration": 19,
    "start_time": "2023-02-18T15:29:07.282Z"
   },
   {
    "duration": 223,
    "start_time": "2023-02-18T15:29:07.303Z"
   },
   {
    "duration": 150,
    "start_time": "2023-02-18T15:29:07.528Z"
   },
   {
    "duration": 91,
    "start_time": "2023-02-18T15:29:07.679Z"
   },
   {
    "duration": 32,
    "start_time": "2023-02-18T15:29:07.771Z"
   },
   {
    "duration": 63,
    "start_time": "2023-02-18T15:29:07.806Z"
   },
   {
    "duration": 22,
    "start_time": "2023-02-18T15:29:07.870Z"
   },
   {
    "duration": 190,
    "start_time": "2023-02-18T15:29:07.894Z"
   },
   {
    "duration": 91,
    "start_time": "2023-02-18T15:29:08.085Z"
   },
   {
    "duration": 0,
    "start_time": "2023-02-18T15:29:08.178Z"
   },
   {
    "duration": 0,
    "start_time": "2023-02-18T15:29:08.179Z"
   },
   {
    "duration": 0,
    "start_time": "2023-02-18T15:29:08.180Z"
   },
   {
    "duration": 0,
    "start_time": "2023-02-18T15:29:08.180Z"
   },
   {
    "duration": 0,
    "start_time": "2023-02-18T15:29:08.181Z"
   },
   {
    "duration": 0,
    "start_time": "2023-02-18T15:29:08.182Z"
   },
   {
    "duration": 0,
    "start_time": "2023-02-18T15:29:08.183Z"
   },
   {
    "duration": 0,
    "start_time": "2023-02-18T15:29:08.185Z"
   },
   {
    "duration": 0,
    "start_time": "2023-02-18T15:29:08.185Z"
   },
   {
    "duration": 0,
    "start_time": "2023-02-18T15:29:08.186Z"
   },
   {
    "duration": 0,
    "start_time": "2023-02-18T15:29:08.187Z"
   },
   {
    "duration": 0,
    "start_time": "2023-02-18T15:29:08.188Z"
   },
   {
    "duration": 0,
    "start_time": "2023-02-18T15:29:08.189Z"
   },
   {
    "duration": 0,
    "start_time": "2023-02-18T15:29:08.190Z"
   },
   {
    "duration": 0,
    "start_time": "2023-02-18T15:29:08.191Z"
   },
   {
    "duration": 0,
    "start_time": "2023-02-18T15:29:08.192Z"
   },
   {
    "duration": 0,
    "start_time": "2023-02-18T15:29:08.194Z"
   },
   {
    "duration": 0,
    "start_time": "2023-02-18T15:29:08.195Z"
   },
   {
    "duration": 0,
    "start_time": "2023-02-18T15:29:08.195Z"
   },
   {
    "duration": 0,
    "start_time": "2023-02-18T15:29:08.197Z"
   },
   {
    "duration": 0,
    "start_time": "2023-02-18T15:29:08.197Z"
   },
   {
    "duration": 172,
    "start_time": "2023-02-18T15:30:01.947Z"
   },
   {
    "duration": 6,
    "start_time": "2023-02-18T15:30:15.273Z"
   },
   {
    "duration": 9,
    "start_time": "2023-02-18T15:30:18.551Z"
   },
   {
    "duration": 518,
    "start_time": "2023-02-18T15:30:55.318Z"
   },
   {
    "duration": 27,
    "start_time": "2023-02-18T15:31:16.095Z"
   },
   {
    "duration": 28,
    "start_time": "2023-02-18T15:31:49.535Z"
   },
   {
    "duration": 48,
    "start_time": "2023-02-18T15:31:50.336Z"
   },
   {
    "duration": 329,
    "start_time": "2023-02-18T15:32:20.874Z"
   },
   {
    "duration": 43,
    "start_time": "2023-02-18T15:32:32.334Z"
   },
   {
    "duration": 81,
    "start_time": "2023-02-18T15:34:11.493Z"
   },
   {
    "duration": 12,
    "start_time": "2023-02-18T15:34:51.066Z"
   },
   {
    "duration": 4,
    "start_time": "2023-02-18T15:34:55.255Z"
   },
   {
    "duration": 167,
    "start_time": "2023-02-18T15:37:13.277Z"
   },
   {
    "duration": 87,
    "start_time": "2023-02-18T15:38:58.201Z"
   },
   {
    "duration": 82,
    "start_time": "2023-02-18T15:39:11.799Z"
   },
   {
    "duration": 75,
    "start_time": "2023-02-18T15:40:12.359Z"
   },
   {
    "duration": 17,
    "start_time": "2023-02-18T15:40:18.046Z"
   },
   {
    "duration": 67,
    "start_time": "2023-02-18T15:40:57.788Z"
   },
   {
    "duration": 34,
    "start_time": "2023-02-18T15:41:07.337Z"
   },
   {
    "duration": 188,
    "start_time": "2023-02-18T15:41:13.524Z"
   },
   {
    "duration": 23,
    "start_time": "2023-02-18T15:44:57.042Z"
   },
   {
    "duration": 16,
    "start_time": "2023-02-18T15:47:11.697Z"
   },
   {
    "duration": 11,
    "start_time": "2023-02-18T15:47:19.326Z"
   },
   {
    "duration": 12,
    "start_time": "2023-02-18T15:47:24.550Z"
   },
   {
    "duration": 11,
    "start_time": "2023-02-18T15:48:38.670Z"
   },
   {
    "duration": 10,
    "start_time": "2023-02-18T15:48:50.060Z"
   },
   {
    "duration": 81,
    "start_time": "2023-02-18T15:49:00.352Z"
   },
   {
    "duration": 155,
    "start_time": "2023-02-18T15:49:05.980Z"
   },
   {
    "duration": 5,
    "start_time": "2023-02-18T15:49:16.600Z"
   },
   {
    "duration": 3,
    "start_time": "2023-02-18T15:49:17.139Z"
   },
   {
    "duration": 3,
    "start_time": "2023-02-18T15:49:18.205Z"
   },
   {
    "duration": 214,
    "start_time": "2023-02-18T15:49:21.816Z"
   },
   {
    "duration": 12,
    "start_time": "2023-02-18T15:50:38.720Z"
   },
   {
    "duration": 11,
    "start_time": "2023-02-18T15:50:51.804Z"
   },
   {
    "duration": 12,
    "start_time": "2023-02-18T15:50:52.457Z"
   },
   {
    "duration": 12,
    "start_time": "2023-02-18T15:50:53.421Z"
   },
   {
    "duration": 4,
    "start_time": "2023-02-18T15:50:54.364Z"
   },
   {
    "duration": 13,
    "start_time": "2023-02-18T15:50:56.305Z"
   },
   {
    "duration": 1025,
    "start_time": "2023-02-18T15:53:43.521Z"
   },
   {
    "duration": 212,
    "start_time": "2023-02-18T15:53:44.547Z"
   },
   {
    "duration": 6,
    "start_time": "2023-02-18T15:53:44.760Z"
   },
   {
    "duration": 22,
    "start_time": "2023-02-18T15:53:44.768Z"
   },
   {
    "duration": 17,
    "start_time": "2023-02-18T15:53:44.792Z"
   },
   {
    "duration": 216,
    "start_time": "2023-02-18T15:53:44.811Z"
   },
   {
    "duration": 142,
    "start_time": "2023-02-18T15:53:45.029Z"
   },
   {
    "duration": 82,
    "start_time": "2023-02-18T15:53:45.173Z"
   },
   {
    "duration": 34,
    "start_time": "2023-02-18T15:53:45.257Z"
   },
   {
    "duration": 67,
    "start_time": "2023-02-18T15:53:45.293Z"
   },
   {
    "duration": 21,
    "start_time": "2023-02-18T15:53:45.362Z"
   },
   {
    "duration": 209,
    "start_time": "2023-02-18T15:53:45.384Z"
   },
   {
    "duration": 11,
    "start_time": "2023-02-18T15:53:45.595Z"
   },
   {
    "duration": 497,
    "start_time": "2023-02-18T15:53:45.607Z"
   },
   {
    "duration": 28,
    "start_time": "2023-02-18T15:53:46.105Z"
   },
   {
    "duration": 57,
    "start_time": "2023-02-18T15:53:46.134Z"
   },
   {
    "duration": 335,
    "start_time": "2023-02-18T15:53:46.193Z"
   },
   {
    "duration": 49,
    "start_time": "2023-02-18T15:53:46.529Z"
   },
   {
    "duration": 93,
    "start_time": "2023-02-18T15:53:46.579Z"
   },
   {
    "duration": 10,
    "start_time": "2023-02-18T15:53:46.674Z"
   },
   {
    "duration": 91,
    "start_time": "2023-02-18T15:53:46.685Z"
   },
   {
    "duration": 141,
    "start_time": "2023-02-18T15:53:46.777Z"
   },
   {
    "duration": 129,
    "start_time": "2023-02-18T15:53:46.920Z"
   },
   {
    "duration": 160,
    "start_time": "2023-02-18T15:53:47.051Z"
   },
   {
    "duration": 5,
    "start_time": "2023-02-18T15:53:47.213Z"
   },
   {
    "duration": 8,
    "start_time": "2023-02-18T15:53:47.219Z"
   },
   {
    "duration": 8,
    "start_time": "2023-02-18T15:53:47.228Z"
   },
   {
    "duration": 192,
    "start_time": "2023-02-18T15:53:47.247Z"
   },
   {
    "duration": 17,
    "start_time": "2023-02-18T15:53:47.440Z"
   },
   {
    "duration": 15,
    "start_time": "2023-02-18T15:53:47.460Z"
   },
   {
    "duration": 14,
    "start_time": "2023-02-18T15:53:47.476Z"
   },
   {
    "duration": 12,
    "start_time": "2023-02-18T15:53:47.491Z"
   },
   {
    "duration": 8,
    "start_time": "2023-02-18T15:53:47.504Z"
   },
   {
    "duration": 38,
    "start_time": "2023-02-18T15:53:47.514Z"
   },
   {
    "duration": 1079,
    "start_time": "2023-02-18T15:54:35.203Z"
   },
   {
    "duration": 215,
    "start_time": "2023-02-18T15:54:36.284Z"
   },
   {
    "duration": 6,
    "start_time": "2023-02-18T15:54:36.500Z"
   },
   {
    "duration": 17,
    "start_time": "2023-02-18T15:54:36.508Z"
   },
   {
    "duration": 29,
    "start_time": "2023-02-18T15:54:36.527Z"
   },
   {
    "duration": 232,
    "start_time": "2023-02-18T15:54:36.557Z"
   },
   {
    "duration": 168,
    "start_time": "2023-02-18T15:54:36.790Z"
   },
   {
    "duration": 109,
    "start_time": "2023-02-18T15:54:36.960Z"
   },
   {
    "duration": 36,
    "start_time": "2023-02-18T15:54:37.071Z"
   },
   {
    "duration": 72,
    "start_time": "2023-02-18T15:54:37.109Z"
   },
   {
    "duration": 24,
    "start_time": "2023-02-18T15:54:37.182Z"
   },
   {
    "duration": 185,
    "start_time": "2023-02-18T15:54:37.208Z"
   },
   {
    "duration": 11,
    "start_time": "2023-02-18T15:54:37.394Z"
   },
   {
    "duration": 526,
    "start_time": "2023-02-18T15:54:37.409Z"
   },
   {
    "duration": 30,
    "start_time": "2023-02-18T15:54:37.937Z"
   },
   {
    "duration": 51,
    "start_time": "2023-02-18T15:54:37.969Z"
   },
   {
    "duration": 380,
    "start_time": "2023-02-18T15:54:38.022Z"
   },
   {
    "duration": 54,
    "start_time": "2023-02-18T15:54:38.404Z"
   },
   {
    "duration": 100,
    "start_time": "2023-02-18T15:54:38.460Z"
   },
   {
    "duration": 11,
    "start_time": "2023-02-18T15:54:38.561Z"
   },
   {
    "duration": 40,
    "start_time": "2023-02-18T15:54:38.574Z"
   },
   {
    "duration": 164,
    "start_time": "2023-02-18T15:54:38.615Z"
   },
   {
    "duration": 101,
    "start_time": "2023-02-18T15:54:38.780Z"
   },
   {
    "duration": 203,
    "start_time": "2023-02-18T15:54:38.883Z"
   },
   {
    "duration": 6,
    "start_time": "2023-02-18T15:54:39.088Z"
   },
   {
    "duration": 4,
    "start_time": "2023-02-18T15:54:39.096Z"
   },
   {
    "duration": 32,
    "start_time": "2023-02-18T15:54:39.101Z"
   },
   {
    "duration": 194,
    "start_time": "2023-02-18T15:54:39.134Z"
   },
   {
    "duration": 11,
    "start_time": "2023-02-18T15:54:39.330Z"
   },
   {
    "duration": 18,
    "start_time": "2023-02-18T15:54:39.348Z"
   },
   {
    "duration": 12,
    "start_time": "2023-02-18T15:54:39.368Z"
   },
   {
    "duration": 16,
    "start_time": "2023-02-18T15:54:39.381Z"
   },
   {
    "duration": 6,
    "start_time": "2023-02-18T15:54:39.398Z"
   },
   {
    "duration": 42,
    "start_time": "2023-02-18T15:54:39.406Z"
   },
   {
    "duration": 1058,
    "start_time": "2023-02-18T16:00:38.239Z"
   },
   {
    "duration": 219,
    "start_time": "2023-02-18T16:00:39.299Z"
   },
   {
    "duration": 5,
    "start_time": "2023-02-18T16:00:39.519Z"
   },
   {
    "duration": 22,
    "start_time": "2023-02-18T16:00:39.526Z"
   },
   {
    "duration": 18,
    "start_time": "2023-02-18T16:00:39.549Z"
   },
   {
    "duration": 218,
    "start_time": "2023-02-18T16:00:39.568Z"
   },
   {
    "duration": 154,
    "start_time": "2023-02-18T16:00:39.788Z"
   },
   {
    "duration": 92,
    "start_time": "2023-02-18T16:00:39.948Z"
   },
   {
    "duration": 33,
    "start_time": "2023-02-18T16:00:40.048Z"
   },
   {
    "duration": 66,
    "start_time": "2023-02-18T16:00:40.084Z"
   },
   {
    "duration": 21,
    "start_time": "2023-02-18T16:00:40.152Z"
   },
   {
    "duration": 174,
    "start_time": "2023-02-18T16:00:40.175Z"
   },
   {
    "duration": 8,
    "start_time": "2023-02-18T16:00:40.351Z"
   },
   {
    "duration": 485,
    "start_time": "2023-02-18T16:00:40.361Z"
   },
   {
    "duration": 41,
    "start_time": "2023-02-18T16:00:40.848Z"
   },
   {
    "duration": 70,
    "start_time": "2023-02-18T16:00:40.890Z"
   },
   {
    "duration": 336,
    "start_time": "2023-02-18T16:00:40.962Z"
   },
   {
    "duration": 54,
    "start_time": "2023-02-18T16:00:41.299Z"
   },
   {
    "duration": 94,
    "start_time": "2023-02-18T16:00:41.354Z"
   },
   {
    "duration": 12,
    "start_time": "2023-02-18T16:00:41.450Z"
   },
   {
    "duration": 38,
    "start_time": "2023-02-18T16:00:41.463Z"
   },
   {
    "duration": 171,
    "start_time": "2023-02-18T16:00:41.502Z"
   },
   {
    "duration": 174,
    "start_time": "2023-02-18T16:00:41.675Z"
   },
   {
    "duration": 178,
    "start_time": "2023-02-18T16:00:41.851Z"
   },
   {
    "duration": 4,
    "start_time": "2023-02-18T16:00:42.030Z"
   },
   {
    "duration": 18,
    "start_time": "2023-02-18T16:00:42.036Z"
   },
   {
    "duration": 14,
    "start_time": "2023-02-18T16:00:42.056Z"
   },
   {
    "duration": 180,
    "start_time": "2023-02-18T16:00:42.074Z"
   },
   {
    "duration": 14,
    "start_time": "2023-02-18T16:00:42.256Z"
   },
   {
    "duration": 27,
    "start_time": "2023-02-18T16:00:42.272Z"
   },
   {
    "duration": 26,
    "start_time": "2023-02-18T16:00:42.301Z"
   },
   {
    "duration": 12,
    "start_time": "2023-02-18T16:00:42.328Z"
   },
   {
    "duration": 8,
    "start_time": "2023-02-18T16:00:42.341Z"
   },
   {
    "duration": 12,
    "start_time": "2023-02-18T16:00:42.351Z"
   },
   {
    "duration": 1252,
    "start_time": "2023-02-19T09:14:33.290Z"
   },
   {
    "duration": 178,
    "start_time": "2023-02-19T09:14:34.545Z"
   },
   {
    "duration": 16,
    "start_time": "2023-02-19T09:14:34.725Z"
   },
   {
    "duration": 34,
    "start_time": "2023-02-19T09:14:34.743Z"
   },
   {
    "duration": 36,
    "start_time": "2023-02-19T09:14:34.780Z"
   },
   {
    "duration": 234,
    "start_time": "2023-02-19T09:14:34.839Z"
   },
   {
    "duration": 159,
    "start_time": "2023-02-19T09:14:35.075Z"
   },
   {
    "duration": 81,
    "start_time": "2023-02-19T09:14:35.240Z"
   },
   {
    "duration": 43,
    "start_time": "2023-02-19T09:14:35.323Z"
   },
   {
    "duration": 77,
    "start_time": "2023-02-19T09:14:35.368Z"
   },
   {
    "duration": 27,
    "start_time": "2023-02-19T09:14:35.447Z"
   },
   {
    "duration": 199,
    "start_time": "2023-02-19T09:14:35.477Z"
   },
   {
    "duration": 8,
    "start_time": "2023-02-19T09:14:35.678Z"
   },
   {
    "duration": 488,
    "start_time": "2023-02-19T09:14:35.690Z"
   },
   {
    "duration": 28,
    "start_time": "2023-02-19T09:14:36.180Z"
   },
   {
    "duration": 72,
    "start_time": "2023-02-19T09:14:36.209Z"
   },
   {
    "duration": 459,
    "start_time": "2023-02-19T09:14:36.283Z"
   },
   {
    "duration": 51,
    "start_time": "2023-02-19T09:14:36.744Z"
   },
   {
    "duration": 113,
    "start_time": "2023-02-19T09:14:36.797Z"
   },
   {
    "duration": 29,
    "start_time": "2023-02-19T09:14:36.913Z"
   },
   {
    "duration": 51,
    "start_time": "2023-02-19T09:14:36.944Z"
   },
   {
    "duration": 255,
    "start_time": "2023-02-19T09:14:36.996Z"
   },
   {
    "duration": 190,
    "start_time": "2023-02-19T09:14:37.254Z"
   },
   {
    "duration": 197,
    "start_time": "2023-02-19T09:14:37.445Z"
   },
   {
    "duration": 4,
    "start_time": "2023-02-19T09:14:37.644Z"
   },
   {
    "duration": 22,
    "start_time": "2023-02-19T09:14:37.650Z"
   },
   {
    "duration": 11,
    "start_time": "2023-02-19T09:14:37.675Z"
   },
   {
    "duration": 236,
    "start_time": "2023-02-19T09:14:37.688Z"
   },
   {
    "duration": 17,
    "start_time": "2023-02-19T09:14:37.926Z"
   },
   {
    "duration": 20,
    "start_time": "2023-02-19T09:14:37.946Z"
   },
   {
    "duration": 18,
    "start_time": "2023-02-19T09:14:37.968Z"
   },
   {
    "duration": 24,
    "start_time": "2023-02-19T09:14:37.988Z"
   },
   {
    "duration": 11,
    "start_time": "2023-02-19T09:14:38.014Z"
   },
   {
    "duration": 17,
    "start_time": "2023-02-19T09:14:38.027Z"
   },
   {
    "duration": 1171,
    "start_time": "2023-02-19T10:03:30.350Z"
   },
   {
    "duration": 729,
    "start_time": "2023-02-19T10:03:31.523Z"
   },
   {
    "duration": 6,
    "start_time": "2023-02-19T10:03:32.254Z"
   },
   {
    "duration": 20,
    "start_time": "2023-02-19T10:03:32.263Z"
   },
   {
    "duration": 26,
    "start_time": "2023-02-19T10:03:32.285Z"
   },
   {
    "duration": 223,
    "start_time": "2023-02-19T10:03:32.313Z"
   },
   {
    "duration": 150,
    "start_time": "2023-02-19T10:03:32.538Z"
   },
   {
    "duration": 90,
    "start_time": "2023-02-19T10:03:32.690Z"
   },
   {
    "duration": 45,
    "start_time": "2023-02-19T10:03:32.781Z"
   },
   {
    "duration": 55,
    "start_time": "2023-02-19T10:03:32.829Z"
   },
   {
    "duration": 33,
    "start_time": "2023-02-19T10:03:32.885Z"
   },
   {
    "duration": 194,
    "start_time": "2023-02-19T10:03:32.919Z"
   },
   {
    "duration": 9,
    "start_time": "2023-02-19T10:03:33.115Z"
   },
   {
    "duration": 522,
    "start_time": "2023-02-19T10:03:33.125Z"
   },
   {
    "duration": 28,
    "start_time": "2023-02-19T10:03:33.648Z"
   },
   {
    "duration": 58,
    "start_time": "2023-02-19T10:03:33.677Z"
   },
   {
    "duration": 365,
    "start_time": "2023-02-19T10:03:33.737Z"
   },
   {
    "duration": 45,
    "start_time": "2023-02-19T10:03:34.110Z"
   },
   {
    "duration": 105,
    "start_time": "2023-02-19T10:03:34.157Z"
   },
   {
    "duration": 10,
    "start_time": "2023-02-19T10:03:34.264Z"
   },
   {
    "duration": 52,
    "start_time": "2023-02-19T10:03:34.275Z"
   },
   {
    "duration": 151,
    "start_time": "2023-02-19T10:03:34.329Z"
   },
   {
    "duration": 141,
    "start_time": "2023-02-19T10:03:34.481Z"
   },
   {
    "duration": 192,
    "start_time": "2023-02-19T10:03:34.624Z"
   },
   {
    "duration": 4,
    "start_time": "2023-02-19T10:03:34.818Z"
   },
   {
    "duration": 4,
    "start_time": "2023-02-19T10:03:34.823Z"
   },
   {
    "duration": 8,
    "start_time": "2023-02-19T10:03:34.829Z"
   },
   {
    "duration": 196,
    "start_time": "2023-02-19T10:03:34.840Z"
   },
   {
    "duration": 14,
    "start_time": "2023-02-19T10:03:35.037Z"
   },
   {
    "duration": 29,
    "start_time": "2023-02-19T10:03:35.053Z"
   },
   {
    "duration": 12,
    "start_time": "2023-02-19T10:03:35.083Z"
   },
   {
    "duration": 21,
    "start_time": "2023-02-19T10:03:35.096Z"
   },
   {
    "duration": 4,
    "start_time": "2023-02-19T10:03:35.119Z"
   },
   {
    "duration": 13,
    "start_time": "2023-02-19T10:03:35.124Z"
   }
  ],
  "kernelspec": {
   "display_name": "Python 3 (ipykernel)",
   "language": "python",
   "name": "python3"
  },
  "language_info": {
   "codemirror_mode": {
    "name": "ipython",
    "version": 3
   },
   "file_extension": ".py",
   "mimetype": "text/x-python",
   "name": "python",
   "nbconvert_exporter": "python",
   "pygments_lexer": "ipython3",
   "version": "3.9.12"
  },
  "toc": {
   "base_numbering": 1,
   "nav_menu": {},
   "number_sections": true,
   "sideBar": true,
   "skip_h1_title": true,
   "title_cell": "Table of Contents",
   "title_sidebar": "Contents",
   "toc_cell": false,
   "toc_position": {
    "height": "calc(100% - 180px)",
    "left": "10px",
    "top": "150px",
    "width": "175.167px"
   },
   "toc_section_display": true,
   "toc_window_display": true
  }
 },
 "nbformat": 4,
 "nbformat_minor": 2
}
