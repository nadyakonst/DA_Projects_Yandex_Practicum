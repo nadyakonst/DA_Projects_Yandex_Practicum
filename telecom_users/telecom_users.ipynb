{
 "cells": [
  {
   "cell_type": "markdown",
   "metadata": {},
   "source": [
    "# Анализ пользователей оператора сотовой связи\n",
    "\n",
    "<br>\n",
    "\n",
    "В проекте представлена информация о пользователях федерального оператора сотовой связи. Данные представлены для двух тарифных планов «Смарт» и «Ультра» по 500 пользователям за 2018 год с информацией по звонкам, сообщениям и интернет-сессиям. <br>\n",
    "<br>\n",
    "<b>Задачи проекта:</b> <br>\n",
    "- проанализировать поведение клиентов при использовании данных тарифных планов <br>\n",
    "- проверить несколько гипотез о различии выручки и длительности звонков абонентов разных тарифных планов и регионов<br>"
   ]
  },
  {
   "cell_type": "markdown",
   "metadata": {},
   "source": [
    "<b>Содержание проекта:</b><br>\n",
    "1. Предобработка<br>\n",
    "2. Анализ данных<br>\n",
    "3. Проверка гипотез<br>\n",
    "4. Общий вывод<br>"
   ]
  },
  {
   "cell_type": "markdown",
   "metadata": {},
   "source": [
    "### Предобработка"
   ]
  },
  {
   "cell_type": "code",
   "execution_count": 1,
   "metadata": {},
   "outputs": [],
   "source": [
    "# импорт необходимых библиотек\n",
    "import pandas as pd\n",
    "pd.set_option('display.max_columns', None)\n",
    "import seaborn as sns\n",
    "import matplotlib.pyplot as plt\n",
    "import numpy as np\n",
    "from scipy import stats as st"
   ]
  },
  {
   "cell_type": "markdown",
   "metadata": {},
   "source": [
    "<b>Описание датасета:</b> <br>\n",
    "В проекте использованы 5 датасетов с информацией за период 2018 год:<br>\n",
    "- звонки<br>\n",
    "- интернет-сессии<br>\n",
    "- отправленные сообщения<br>\n",
    "- тарифы<br>\n",
    "- абоненты<br>"
   ]
  },
  {
   "cell_type": "code",
   "execution_count": 2,
   "metadata": {},
   "outputs": [
    {
     "data": {
      "text/html": [
       "<div>\n",
       "<style scoped>\n",
       "    .dataframe tbody tr th:only-of-type {\n",
       "        vertical-align: middle;\n",
       "    }\n",
       "\n",
       "    .dataframe tbody tr th {\n",
       "        vertical-align: top;\n",
       "    }\n",
       "\n",
       "    .dataframe thead th {\n",
       "        text-align: right;\n",
       "    }\n",
       "</style>\n",
       "<table border=\"1\" class=\"dataframe\">\n",
       "  <thead>\n",
       "    <tr style=\"text-align: right;\">\n",
       "      <th></th>\n",
       "      <th>id</th>\n",
       "      <th>call_date</th>\n",
       "      <th>duration</th>\n",
       "      <th>user_id</th>\n",
       "    </tr>\n",
       "  </thead>\n",
       "  <tbody>\n",
       "    <tr>\n",
       "      <th>0</th>\n",
       "      <td>1000_0</td>\n",
       "      <td>2018-07-25</td>\n",
       "      <td>0.0</td>\n",
       "      <td>1000</td>\n",
       "    </tr>\n",
       "  </tbody>\n",
       "</table>\n",
       "</div>"
      ],
      "text/plain": [
       "       id   call_date  duration  user_id\n",
       "0  1000_0  2018-07-25       0.0     1000"
      ]
     },
     "metadata": {},
     "output_type": "display_data"
    },
    {
     "data": {
      "text/html": [
       "<div>\n",
       "<style scoped>\n",
       "    .dataframe tbody tr th:only-of-type {\n",
       "        vertical-align: middle;\n",
       "    }\n",
       "\n",
       "    .dataframe tbody tr th {\n",
       "        vertical-align: top;\n",
       "    }\n",
       "\n",
       "    .dataframe thead th {\n",
       "        text-align: right;\n",
       "    }\n",
       "</style>\n",
       "<table border=\"1\" class=\"dataframe\">\n",
       "  <thead>\n",
       "    <tr style=\"text-align: right;\">\n",
       "      <th></th>\n",
       "      <th>Unnamed: 0</th>\n",
       "      <th>id</th>\n",
       "      <th>mb_used</th>\n",
       "      <th>session_date</th>\n",
       "      <th>user_id</th>\n",
       "    </tr>\n",
       "  </thead>\n",
       "  <tbody>\n",
       "    <tr>\n",
       "      <th>0</th>\n",
       "      <td>0</td>\n",
       "      <td>1000_0</td>\n",
       "      <td>112.95</td>\n",
       "      <td>2018-11-25</td>\n",
       "      <td>1000</td>\n",
       "    </tr>\n",
       "  </tbody>\n",
       "</table>\n",
       "</div>"
      ],
      "text/plain": [
       "   Unnamed: 0      id  mb_used session_date  user_id\n",
       "0           0  1000_0   112.95   2018-11-25     1000"
      ]
     },
     "metadata": {},
     "output_type": "display_data"
    },
    {
     "data": {
      "text/html": [
       "<div>\n",
       "<style scoped>\n",
       "    .dataframe tbody tr th:only-of-type {\n",
       "        vertical-align: middle;\n",
       "    }\n",
       "\n",
       "    .dataframe tbody tr th {\n",
       "        vertical-align: top;\n",
       "    }\n",
       "\n",
       "    .dataframe thead th {\n",
       "        text-align: right;\n",
       "    }\n",
       "</style>\n",
       "<table border=\"1\" class=\"dataframe\">\n",
       "  <thead>\n",
       "    <tr style=\"text-align: right;\">\n",
       "      <th></th>\n",
       "      <th>id</th>\n",
       "      <th>message_date</th>\n",
       "      <th>user_id</th>\n",
       "    </tr>\n",
       "  </thead>\n",
       "  <tbody>\n",
       "    <tr>\n",
       "      <th>0</th>\n",
       "      <td>1000_0</td>\n",
       "      <td>2018-06-27</td>\n",
       "      <td>1000</td>\n",
       "    </tr>\n",
       "  </tbody>\n",
       "</table>\n",
       "</div>"
      ],
      "text/plain": [
       "       id message_date  user_id\n",
       "0  1000_0   2018-06-27     1000"
      ]
     },
     "metadata": {},
     "output_type": "display_data"
    },
    {
     "data": {
      "text/html": [
       "<div>\n",
       "<style scoped>\n",
       "    .dataframe tbody tr th:only-of-type {\n",
       "        vertical-align: middle;\n",
       "    }\n",
       "\n",
       "    .dataframe tbody tr th {\n",
       "        vertical-align: top;\n",
       "    }\n",
       "\n",
       "    .dataframe thead th {\n",
       "        text-align: right;\n",
       "    }\n",
       "</style>\n",
       "<table border=\"1\" class=\"dataframe\">\n",
       "  <thead>\n",
       "    <tr style=\"text-align: right;\">\n",
       "      <th></th>\n",
       "      <th>messages_included</th>\n",
       "      <th>mb_per_month_included</th>\n",
       "      <th>minutes_included</th>\n",
       "      <th>rub_monthly_fee</th>\n",
       "      <th>rub_per_gb</th>\n",
       "      <th>rub_per_message</th>\n",
       "      <th>rub_per_minute</th>\n",
       "      <th>tariff_name</th>\n",
       "    </tr>\n",
       "  </thead>\n",
       "  <tbody>\n",
       "    <tr>\n",
       "      <th>0</th>\n",
       "      <td>50</td>\n",
       "      <td>15360</td>\n",
       "      <td>500</td>\n",
       "      <td>550</td>\n",
       "      <td>200</td>\n",
       "      <td>3</td>\n",
       "      <td>3</td>\n",
       "      <td>smart</td>\n",
       "    </tr>\n",
       "    <tr>\n",
       "      <th>1</th>\n",
       "      <td>1000</td>\n",
       "      <td>30720</td>\n",
       "      <td>3000</td>\n",
       "      <td>1950</td>\n",
       "      <td>150</td>\n",
       "      <td>1</td>\n",
       "      <td>1</td>\n",
       "      <td>ultra</td>\n",
       "    </tr>\n",
       "  </tbody>\n",
       "</table>\n",
       "</div>"
      ],
      "text/plain": [
       "   messages_included  mb_per_month_included  minutes_included  \\\n",
       "0                 50                  15360               500   \n",
       "1               1000                  30720              3000   \n",
       "\n",
       "   rub_monthly_fee  rub_per_gb  rub_per_message  rub_per_minute tariff_name  \n",
       "0              550         200                3               3       smart  \n",
       "1             1950         150                1               1       ultra  "
      ]
     },
     "metadata": {},
     "output_type": "display_data"
    },
    {
     "data": {
      "text/html": [
       "<div>\n",
       "<style scoped>\n",
       "    .dataframe tbody tr th:only-of-type {\n",
       "        vertical-align: middle;\n",
       "    }\n",
       "\n",
       "    .dataframe tbody tr th {\n",
       "        vertical-align: top;\n",
       "    }\n",
       "\n",
       "    .dataframe thead th {\n",
       "        text-align: right;\n",
       "    }\n",
       "</style>\n",
       "<table border=\"1\" class=\"dataframe\">\n",
       "  <thead>\n",
       "    <tr style=\"text-align: right;\">\n",
       "      <th></th>\n",
       "      <th>user_id</th>\n",
       "      <th>age</th>\n",
       "      <th>churn_date</th>\n",
       "      <th>city</th>\n",
       "      <th>first_name</th>\n",
       "      <th>last_name</th>\n",
       "      <th>reg_date</th>\n",
       "      <th>tariff</th>\n",
       "    </tr>\n",
       "  </thead>\n",
       "  <tbody>\n",
       "    <tr>\n",
       "      <th>0</th>\n",
       "      <td>1000</td>\n",
       "      <td>52</td>\n",
       "      <td>NaN</td>\n",
       "      <td>Краснодар</td>\n",
       "      <td>Рафаил</td>\n",
       "      <td>Верещагин</td>\n",
       "      <td>2018-05-25</td>\n",
       "      <td>ultra</td>\n",
       "    </tr>\n",
       "  </tbody>\n",
       "</table>\n",
       "</div>"
      ],
      "text/plain": [
       "   user_id  age churn_date       city first_name  last_name    reg_date tariff\n",
       "0     1000   52        NaN  Краснодар     Рафаил  Верещагин  2018-05-25  ultra"
      ]
     },
     "metadata": {},
     "output_type": "display_data"
    }
   ],
   "source": [
    "# получение данных\n",
    "calls = pd.read_csv('calls.csv')\n",
    "sessions = pd.read_csv('sessions.csv')\n",
    "messages = pd.read_csv('messages.csv')\n",
    "tariffs = pd.read_csv('tariffs.csv')\n",
    "users = pd.read_csv('users.csv')\n",
    "display(calls.head(1))\n",
    "display(sessions.head(1))\n",
    "display(messages.head(1))\n",
    "display(tariffs.head())\n",
    "display(users.head(1))\n",
    "#calls.info()\n",
    "#sessions.info()\n",
    "#messages.info()\n",
    "#tariffs.info()\n",
    "#users.info()"
   ]
  },
  {
   "cell_type": "code",
   "execution_count": 3,
   "metadata": {},
   "outputs": [],
   "source": [
    "# удаляем из файла пользователей персональную информацию (ФИО)\n",
    "users = users.drop(columns = ['first_name','last_name'])"
   ]
  },
  {
   "cell_type": "code",
   "execution_count": 4,
   "metadata": {},
   "outputs": [],
   "source": [
    "# приведение дат к формату datetime\n",
    "calls['call_date'] = pd.to_datetime(calls['call_date'], format='%Y-%m-%d')\n",
    "sessions['session_date'] = pd.to_datetime(sessions['session_date'], format='%Y-%m-%d')\n",
    "messages['message_date'] = pd.to_datetime(messages['message_date'], format='%Y-%m-%d')\n",
    "users['reg_date'] = pd.to_datetime(users['reg_date'], format='%Y-%m-%d')\n",
    "users['churn_date'] = pd.to_datetime(users['churn_date'], format='%Y-%m-%d')"
   ]
  },
  {
   "cell_type": "code",
   "execution_count": 5,
   "metadata": {},
   "outputs": [],
   "source": [
    "# перевод длительности звонков в целые числа с округлением вверх\n",
    "calls['duration'] = np.ceil(calls['duration']).astype('int')"
   ]
  },
  {
   "cell_type": "code",
   "execution_count": 6,
   "metadata": {},
   "outputs": [
    {
     "name": "stdout",
     "output_type": "stream",
     "text": [
      "Звонки - минимальная и максимальная дата: 2018-01-01 00:00:00 2018-12-31 00:00:00\n",
      "Интернет-сессии - минимальная и максимальная дата: 2018-01-01 00:00:00 2018-12-31 00:00:00\n",
      "Сообщения - минимальная и максимальная дата: 2018-01-02 00:00:00 2018-12-31 00:00:00\n"
     ]
    }
   ],
   "source": [
    "# проверим период данных для анализа - нет ли выбросов за другие годы\n",
    "print('Звонки - минимальная и максимальная дата:', calls['call_date'].min(), calls['call_date'].max() )\n",
    "print('Интернет-сессии - минимальная и максимальная дата:', sessions['session_date'].min(),sessions['session_date'].max())\n",
    "print('Сообщения - минимальная и максимальная дата:', messages['message_date'].min(),messages['message_date'].max())"
   ]
  },
  {
   "cell_type": "code",
   "execution_count": 7,
   "metadata": {},
   "outputs": [],
   "source": [
    "# создание столбцов 'месяц'\n",
    "calls['month'] = pd.DatetimeIndex(calls['call_date']).month\n",
    "sessions['month'] = pd.DatetimeIndex(sessions['session_date']).month\n",
    "messages['month'] = pd.DatetimeIndex(messages['message_date']).month"
   ]
  },
  {
   "cell_type": "markdown",
   "metadata": {},
   "source": [
    "### Анализ данных"
   ]
  },
  {
   "cell_type": "markdown",
   "metadata": {},
   "source": [
    "<b>/ Агрегация данных </b>"
   ]
  },
  {
   "cell_type": "code",
   "execution_count": 8,
   "metadata": {},
   "outputs": [
    {
     "data": {
      "text/html": [
       "<div>\n",
       "<style scoped>\n",
       "    .dataframe tbody tr th:only-of-type {\n",
       "        vertical-align: middle;\n",
       "    }\n",
       "\n",
       "    .dataframe tbody tr th {\n",
       "        vertical-align: top;\n",
       "    }\n",
       "\n",
       "    .dataframe thead th {\n",
       "        text-align: right;\n",
       "    }\n",
       "</style>\n",
       "<table border=\"1\" class=\"dataframe\">\n",
       "  <thead>\n",
       "    <tr style=\"text-align: right;\">\n",
       "      <th></th>\n",
       "      <th></th>\n",
       "      <th>calls</th>\n",
       "    </tr>\n",
       "    <tr>\n",
       "      <th>user_id</th>\n",
       "      <th>month</th>\n",
       "      <th></th>\n",
       "    </tr>\n",
       "  </thead>\n",
       "  <tbody>\n",
       "    <tr>\n",
       "      <th>1000</th>\n",
       "      <th>5</th>\n",
       "      <td>22</td>\n",
       "    </tr>\n",
       "  </tbody>\n",
       "</table>\n",
       "</div>"
      ],
      "text/plain": [
       "               calls\n",
       "user_id month       \n",
       "1000    5         22"
      ]
     },
     "metadata": {},
     "output_type": "display_data"
    },
    {
     "data": {
      "text/html": [
       "<div>\n",
       "<style scoped>\n",
       "    .dataframe tbody tr th:only-of-type {\n",
       "        vertical-align: middle;\n",
       "    }\n",
       "\n",
       "    .dataframe tbody tr th {\n",
       "        vertical-align: top;\n",
       "    }\n",
       "\n",
       "    .dataframe thead th {\n",
       "        text-align: right;\n",
       "    }\n",
       "</style>\n",
       "<table border=\"1\" class=\"dataframe\">\n",
       "  <thead>\n",
       "    <tr style=\"text-align: right;\">\n",
       "      <th></th>\n",
       "      <th></th>\n",
       "      <th>minutes</th>\n",
       "    </tr>\n",
       "    <tr>\n",
       "      <th>user_id</th>\n",
       "      <th>month</th>\n",
       "      <th></th>\n",
       "    </tr>\n",
       "  </thead>\n",
       "  <tbody>\n",
       "    <tr>\n",
       "      <th>1000</th>\n",
       "      <th>5</th>\n",
       "      <td>159</td>\n",
       "    </tr>\n",
       "  </tbody>\n",
       "</table>\n",
       "</div>"
      ],
      "text/plain": [
       "               minutes\n",
       "user_id month         \n",
       "1000    5          159"
      ]
     },
     "metadata": {},
     "output_type": "display_data"
    },
    {
     "data": {
      "text/html": [
       "<div>\n",
       "<style scoped>\n",
       "    .dataframe tbody tr th:only-of-type {\n",
       "        vertical-align: middle;\n",
       "    }\n",
       "\n",
       "    .dataframe tbody tr th {\n",
       "        vertical-align: top;\n",
       "    }\n",
       "\n",
       "    .dataframe thead th {\n",
       "        text-align: right;\n",
       "    }\n",
       "</style>\n",
       "<table border=\"1\" class=\"dataframe\">\n",
       "  <thead>\n",
       "    <tr style=\"text-align: right;\">\n",
       "      <th></th>\n",
       "      <th></th>\n",
       "      <th>mb_used</th>\n",
       "    </tr>\n",
       "    <tr>\n",
       "      <th>user_id</th>\n",
       "      <th>month</th>\n",
       "      <th></th>\n",
       "    </tr>\n",
       "  </thead>\n",
       "  <tbody>\n",
       "    <tr>\n",
       "      <th>1000</th>\n",
       "      <th>5</th>\n",
       "      <td>2253.49</td>\n",
       "    </tr>\n",
       "  </tbody>\n",
       "</table>\n",
       "</div>"
      ],
      "text/plain": [
       "               mb_used\n",
       "user_id month         \n",
       "1000    5      2253.49"
      ]
     },
     "metadata": {},
     "output_type": "display_data"
    },
    {
     "data": {
      "text/html": [
       "<div>\n",
       "<style scoped>\n",
       "    .dataframe tbody tr th:only-of-type {\n",
       "        vertical-align: middle;\n",
       "    }\n",
       "\n",
       "    .dataframe tbody tr th {\n",
       "        vertical-align: top;\n",
       "    }\n",
       "\n",
       "    .dataframe thead th {\n",
       "        text-align: right;\n",
       "    }\n",
       "</style>\n",
       "<table border=\"1\" class=\"dataframe\">\n",
       "  <thead>\n",
       "    <tr style=\"text-align: right;\">\n",
       "      <th></th>\n",
       "      <th></th>\n",
       "      <th>messages</th>\n",
       "    </tr>\n",
       "    <tr>\n",
       "      <th>user_id</th>\n",
       "      <th>month</th>\n",
       "      <th></th>\n",
       "    </tr>\n",
       "  </thead>\n",
       "  <tbody>\n",
       "    <tr>\n",
       "      <th>1000</th>\n",
       "      <th>5</th>\n",
       "      <td>22</td>\n",
       "    </tr>\n",
       "  </tbody>\n",
       "</table>\n",
       "</div>"
      ],
      "text/plain": [
       "               messages\n",
       "user_id month          \n",
       "1000    5            22"
      ]
     },
     "metadata": {},
     "output_type": "display_data"
    }
   ],
   "source": [
    "# группировка данных по месяцам\n",
    "calls_per_month = calls.groupby(['user_id','month']).agg(calls=('duration', 'count'))\n",
    "display(calls_per_month.head(1))\n",
    "minutes_per_month = calls.groupby(['user_id','month']).agg(minutes=('duration', 'sum'))\n",
    "display(minutes_per_month.head(1))\n",
    "sessions_per_month = sessions.groupby(['user_id','month']).agg({'mb_used': 'sum'})\n",
    "display(sessions_per_month.head(1))\n",
    "messages_per_month = messages.groupby(['user_id','month']).agg(messages=('message_date', 'count'))\n",
    "display(messages_per_month.head(1))"
   ]
  },
  {
   "cell_type": "code",
   "execution_count": 9,
   "metadata": {},
   "outputs": [
    {
     "data": {
      "text/html": [
       "<div>\n",
       "<style scoped>\n",
       "    .dataframe tbody tr th:only-of-type {\n",
       "        vertical-align: middle;\n",
       "    }\n",
       "\n",
       "    .dataframe tbody tr th {\n",
       "        vertical-align: top;\n",
       "    }\n",
       "\n",
       "    .dataframe thead th {\n",
       "        text-align: right;\n",
       "    }\n",
       "</style>\n",
       "<table border=\"1\" class=\"dataframe\">\n",
       "  <thead>\n",
       "    <tr style=\"text-align: right;\">\n",
       "      <th></th>\n",
       "      <th>user_id</th>\n",
       "      <th>month</th>\n",
       "      <th>calls</th>\n",
       "      <th>messages</th>\n",
       "      <th>mb_used</th>\n",
       "      <th>minutes</th>\n",
       "      <th>age</th>\n",
       "      <th>churn_date</th>\n",
       "      <th>city</th>\n",
       "      <th>reg_date</th>\n",
       "      <th>tariff</th>\n",
       "      <th>messages_included</th>\n",
       "      <th>mb_per_month_included</th>\n",
       "      <th>minutes_included</th>\n",
       "      <th>rub_monthly_fee</th>\n",
       "      <th>rub_per_gb</th>\n",
       "      <th>rub_per_message</th>\n",
       "      <th>rub_per_minute</th>\n",
       "    </tr>\n",
       "  </thead>\n",
       "  <tbody>\n",
       "    <tr>\n",
       "      <th>0</th>\n",
       "      <td>1000</td>\n",
       "      <td>5</td>\n",
       "      <td>22.0</td>\n",
       "      <td>22.0</td>\n",
       "      <td>2253.49</td>\n",
       "      <td>159.0</td>\n",
       "      <td>52</td>\n",
       "      <td>0</td>\n",
       "      <td>Краснодар</td>\n",
       "      <td>2018-05-25</td>\n",
       "      <td>ultra</td>\n",
       "      <td>1000</td>\n",
       "      <td>30720</td>\n",
       "      <td>3000</td>\n",
       "      <td>1950</td>\n",
       "      <td>150</td>\n",
       "      <td>1</td>\n",
       "      <td>1</td>\n",
       "    </tr>\n",
       "  </tbody>\n",
       "</table>\n",
       "</div>"
      ],
      "text/plain": [
       "   user_id  month  calls  messages  mb_used  minutes  age churn_date  \\\n",
       "0     1000      5   22.0      22.0  2253.49    159.0   52          0   \n",
       "\n",
       "        city   reg_date tariff  messages_included  mb_per_month_included  \\\n",
       "0  Краснодар 2018-05-25  ultra               1000                  30720   \n",
       "\n",
       "   minutes_included  rub_monthly_fee  rub_per_gb  rub_per_message  \\\n",
       "0              3000             1950         150                1   \n",
       "\n",
       "   rub_per_minute  \n",
       "0               1  "
      ]
     },
     "metadata": {},
     "output_type": "display_data"
    }
   ],
   "source": [
    "# создание таблицы со всеми данными по месяцам\n",
    "user_behavior = calls_per_month.merge(\n",
    "    messages_per_month, left_index=True, right_index=True, how='outer'\n",
    "    ).merge(\n",
    "    sessions_per_month, left_index=True, right_index=True, how='outer'\n",
    "    ).merge(\n",
    "    minutes_per_month, left_index=True, right_index=True, how='outer'\n",
    "    ).reset_index().merge(\n",
    "    users, how='left', left_on='user_id', right_on='user_id'\n",
    "    )\n",
    "# заменим пропуски на нули\n",
    "user_behavior = user_behavior.fillna(0)\n",
    "# добавим данные по тарифам\n",
    "tariffs = tariffs.rename(columns={'tariff_name': 'tariff'})\n",
    "user_behavior = user_behavior.merge(tariffs, on='tariff')\n",
    "# проверка корректности объединения\n",
    "display(user_behavior.head(1))"
   ]
  },
  {
   "cell_type": "code",
   "execution_count": 10,
   "metadata": {},
   "outputs": [
    {
     "data": {
      "text/html": [
       "<div>\n",
       "<style scoped>\n",
       "    .dataframe tbody tr th:only-of-type {\n",
       "        vertical-align: middle;\n",
       "    }\n",
       "\n",
       "    .dataframe tbody tr th {\n",
       "        vertical-align: top;\n",
       "    }\n",
       "\n",
       "    .dataframe thead th {\n",
       "        text-align: right;\n",
       "    }\n",
       "</style>\n",
       "<table border=\"1\" class=\"dataframe\">\n",
       "  <thead>\n",
       "    <tr style=\"text-align: right;\">\n",
       "      <th></th>\n",
       "      <th>user_id</th>\n",
       "      <th>month</th>\n",
       "      <th>calls</th>\n",
       "      <th>messages</th>\n",
       "      <th>mb_used</th>\n",
       "      <th>minutes</th>\n",
       "      <th>age</th>\n",
       "      <th>churn_date</th>\n",
       "      <th>city</th>\n",
       "      <th>reg_date</th>\n",
       "      <th>tariff</th>\n",
       "      <th>messages_included</th>\n",
       "      <th>mb_per_month_included</th>\n",
       "      <th>minutes_included</th>\n",
       "      <th>rub_monthly_fee</th>\n",
       "      <th>rub_per_gb</th>\n",
       "      <th>rub_per_message</th>\n",
       "      <th>rub_per_minute</th>\n",
       "      <th>paid_minutes</th>\n",
       "      <th>paid_messages</th>\n",
       "      <th>paid_mb</th>\n",
       "      <th>paid_gb</th>\n",
       "      <th>cost_minutes</th>\n",
       "      <th>cost_messages</th>\n",
       "      <th>cost_gb</th>\n",
       "      <th>total_cost</th>\n",
       "    </tr>\n",
       "  </thead>\n",
       "  <tbody>\n",
       "    <tr>\n",
       "      <th>0</th>\n",
       "      <td>1000</td>\n",
       "      <td>5</td>\n",
       "      <td>22.0</td>\n",
       "      <td>22.0</td>\n",
       "      <td>2253.49</td>\n",
       "      <td>159.0</td>\n",
       "      <td>52</td>\n",
       "      <td>0</td>\n",
       "      <td>Краснодар</td>\n",
       "      <td>2018-05-25</td>\n",
       "      <td>ultra</td>\n",
       "      <td>1000</td>\n",
       "      <td>30720</td>\n",
       "      <td>3000</td>\n",
       "      <td>1950</td>\n",
       "      <td>150</td>\n",
       "      <td>1</td>\n",
       "      <td>1</td>\n",
       "      <td>0.0</td>\n",
       "      <td>0.0</td>\n",
       "      <td>0.0</td>\n",
       "      <td>0</td>\n",
       "      <td>0.0</td>\n",
       "      <td>0.0</td>\n",
       "      <td>0</td>\n",
       "      <td>1950.0</td>\n",
       "    </tr>\n",
       "    <tr>\n",
       "      <th>1</th>\n",
       "      <td>1000</td>\n",
       "      <td>6</td>\n",
       "      <td>43.0</td>\n",
       "      <td>60.0</td>\n",
       "      <td>23233.77</td>\n",
       "      <td>172.0</td>\n",
       "      <td>52</td>\n",
       "      <td>0</td>\n",
       "      <td>Краснодар</td>\n",
       "      <td>2018-05-25</td>\n",
       "      <td>ultra</td>\n",
       "      <td>1000</td>\n",
       "      <td>30720</td>\n",
       "      <td>3000</td>\n",
       "      <td>1950</td>\n",
       "      <td>150</td>\n",
       "      <td>1</td>\n",
       "      <td>1</td>\n",
       "      <td>0.0</td>\n",
       "      <td>0.0</td>\n",
       "      <td>0.0</td>\n",
       "      <td>0</td>\n",
       "      <td>0.0</td>\n",
       "      <td>0.0</td>\n",
       "      <td>0</td>\n",
       "      <td>1950.0</td>\n",
       "    </tr>\n",
       "    <tr>\n",
       "      <th>2</th>\n",
       "      <td>1000</td>\n",
       "      <td>7</td>\n",
       "      <td>47.0</td>\n",
       "      <td>75.0</td>\n",
       "      <td>14003.64</td>\n",
       "      <td>340.0</td>\n",
       "      <td>52</td>\n",
       "      <td>0</td>\n",
       "      <td>Краснодар</td>\n",
       "      <td>2018-05-25</td>\n",
       "      <td>ultra</td>\n",
       "      <td>1000</td>\n",
       "      <td>30720</td>\n",
       "      <td>3000</td>\n",
       "      <td>1950</td>\n",
       "      <td>150</td>\n",
       "      <td>1</td>\n",
       "      <td>1</td>\n",
       "      <td>0.0</td>\n",
       "      <td>0.0</td>\n",
       "      <td>0.0</td>\n",
       "      <td>0</td>\n",
       "      <td>0.0</td>\n",
       "      <td>0.0</td>\n",
       "      <td>0</td>\n",
       "      <td>1950.0</td>\n",
       "    </tr>\n",
       "  </tbody>\n",
       "</table>\n",
       "</div>"
      ],
      "text/plain": [
       "   user_id  month  calls  messages   mb_used  minutes  age churn_date  \\\n",
       "0     1000      5   22.0      22.0   2253.49    159.0   52          0   \n",
       "1     1000      6   43.0      60.0  23233.77    172.0   52          0   \n",
       "2     1000      7   47.0      75.0  14003.64    340.0   52          0   \n",
       "\n",
       "        city   reg_date tariff  messages_included  mb_per_month_included  \\\n",
       "0  Краснодар 2018-05-25  ultra               1000                  30720   \n",
       "1  Краснодар 2018-05-25  ultra               1000                  30720   \n",
       "2  Краснодар 2018-05-25  ultra               1000                  30720   \n",
       "\n",
       "   minutes_included  rub_monthly_fee  rub_per_gb  rub_per_message  \\\n",
       "0              3000             1950         150                1   \n",
       "1              3000             1950         150                1   \n",
       "2              3000             1950         150                1   \n",
       "\n",
       "   rub_per_minute  paid_minutes  paid_messages  paid_mb  paid_gb  \\\n",
       "0               1           0.0            0.0      0.0        0   \n",
       "1               1           0.0            0.0      0.0        0   \n",
       "2               1           0.0            0.0      0.0        0   \n",
       "\n",
       "   cost_minutes  cost_messages  cost_gb  total_cost  \n",
       "0           0.0            0.0        0      1950.0  \n",
       "1           0.0            0.0        0      1950.0  \n",
       "2           0.0            0.0        0      1950.0  "
      ]
     },
     "metadata": {},
     "output_type": "display_data"
    }
   ],
   "source": [
    "# рассчитаем количество минут разговора, сообщений и мегабайт, превышающих включенные в тариф\n",
    "user_behavior['paid_minutes'] = user_behavior['minutes'] - user_behavior['minutes_included']\n",
    "user_behavior['paid_messages'] = user_behavior['messages'] - user_behavior['messages_included']\n",
    "user_behavior['paid_mb'] = user_behavior['mb_used'] - user_behavior['mb_per_month_included']\n",
    "# где нет превышения добавим нули\n",
    "for col in ['paid_messages', 'paid_minutes', 'paid_mb']:\n",
    "    user_behavior.loc[user_behavior[col] < 0, col] = 0\n",
    "# переводим мегабайты превышения в гигабайты с  округлением вверх\n",
    "user_behavior['paid_gb'] = np.ceil(user_behavior['paid_mb'] / 1024).astype(int)\n",
    "# добавим расчетные столбцы с суммой переплаты\n",
    "user_behavior['cost_minutes'] = user_behavior['paid_minutes'] * user_behavior['rub_per_minute']\n",
    "user_behavior['cost_messages'] = user_behavior['paid_messages'] * user_behavior['rub_per_message']\n",
    "user_behavior['cost_gb'] = user_behavior['paid_gb'] * user_behavior['rub_per_gb']\n",
    "# считаем выручку на пользователя из стоимости оптаты тарифа + переплата\n",
    "user_behavior['total_cost'] = user_behavior['rub_monthly_fee'] + user_behavior['cost_minutes'] + user_behavior['cost_messages']  + user_behavior['cost_gb']\n",
    "display(user_behavior.head(3))"
   ]
  },
  {
   "cell_type": "code",
   "execution_count": 11,
   "metadata": {},
   "outputs": [
    {
     "data": {
      "text/html": [
       "<div>\n",
       "<style scoped>\n",
       "    .dataframe tbody tr th:only-of-type {\n",
       "        vertical-align: middle;\n",
       "    }\n",
       "\n",
       "    .dataframe tbody tr th {\n",
       "        vertical-align: top;\n",
       "    }\n",
       "\n",
       "    .dataframe thead th {\n",
       "        text-align: right;\n",
       "    }\n",
       "</style>\n",
       "<table border=\"1\" class=\"dataframe\">\n",
       "  <thead>\n",
       "    <tr style=\"text-align: right;\">\n",
       "      <th></th>\n",
       "      <th>month</th>\n",
       "      <th>tariff</th>\n",
       "      <th>calls_mean</th>\n",
       "      <th>sessions_mean</th>\n",
       "      <th>messages_mean</th>\n",
       "      <th>minutes_mean</th>\n",
       "      <th>calls_std</th>\n",
       "      <th>sessions_std</th>\n",
       "      <th>messages_std</th>\n",
       "      <th>minutes_std</th>\n",
       "      <th>calls_median</th>\n",
       "      <th>sessions_median</th>\n",
       "      <th>messages_median</th>\n",
       "      <th>minutes_median</th>\n",
       "    </tr>\n",
       "  </thead>\n",
       "  <tbody>\n",
       "    <tr>\n",
       "      <th>0</th>\n",
       "      <td>1</td>\n",
       "      <td>smart</td>\n",
       "      <td>27.68</td>\n",
       "      <td>8513.72</td>\n",
       "      <td>18.24</td>\n",
       "      <td>203.85</td>\n",
       "      <td>20.81</td>\n",
       "      <td>6444.68</td>\n",
       "      <td>16.20</td>\n",
       "      <td>154.23</td>\n",
       "      <td>20.5</td>\n",
       "      <td>7096.18</td>\n",
       "      <td>15.0</td>\n",
       "      <td>162.5</td>\n",
       "    </tr>\n",
       "    <tr>\n",
       "      <th>1</th>\n",
       "      <td>1</td>\n",
       "      <td>ultra</td>\n",
       "      <td>59.44</td>\n",
       "      <td>13140.68</td>\n",
       "      <td>33.78</td>\n",
       "      <td>428.11</td>\n",
       "      <td>41.64</td>\n",
       "      <td>6865.35</td>\n",
       "      <td>30.67</td>\n",
       "      <td>269.76</td>\n",
       "      <td>51.0</td>\n",
       "      <td>14791.37</td>\n",
       "      <td>32.0</td>\n",
       "      <td>382.0</td>\n",
       "    </tr>\n",
       "    <tr>\n",
       "      <th>2</th>\n",
       "      <td>2</td>\n",
       "      <td>smart</td>\n",
       "      <td>40.19</td>\n",
       "      <td>11597.05</td>\n",
       "      <td>24.09</td>\n",
       "      <td>298.69</td>\n",
       "      <td>25.39</td>\n",
       "      <td>6247.35</td>\n",
       "      <td>21.75</td>\n",
       "      <td>190.82</td>\n",
       "      <td>38.5</td>\n",
       "      <td>12553.71</td>\n",
       "      <td>20.0</td>\n",
       "      <td>258.0</td>\n",
       "    </tr>\n",
       "  </tbody>\n",
       "</table>\n",
       "</div>"
      ],
      "text/plain": [
       "   month tariff  calls_mean  sessions_mean  messages_mean  minutes_mean  \\\n",
       "0      1  smart       27.68        8513.72          18.24        203.85   \n",
       "1      1  ultra       59.44       13140.68          33.78        428.11   \n",
       "2      2  smart       40.19       11597.05          24.09        298.69   \n",
       "\n",
       "   calls_std  sessions_std  messages_std  minutes_std  calls_median  \\\n",
       "0      20.81       6444.68         16.20       154.23          20.5   \n",
       "1      41.64       6865.35         30.67       269.76          51.0   \n",
       "2      25.39       6247.35         21.75       190.82          38.5   \n",
       "\n",
       "   sessions_median  messages_median  minutes_median  \n",
       "0          7096.18             15.0           162.5  \n",
       "1         14791.37             32.0           382.0  \n",
       "2         12553.71             20.0           258.0  "
      ]
     },
     "metadata": {},
     "output_type": "display_data"
    }
   ],
   "source": [
    "# сохранение статистических метрик для пары месяц-тариф (среднее значение, стандартное отклонение, медиана)\n",
    "stats_by_month = user_behavior.pivot_table(\n",
    "            index=['month', 'tariff'],\n",
    "            values=['calls', 'minutes', 'messages', 'mb_used'],\n",
    "            aggfunc=['mean', 'std', 'median']\n",
    "    ).round(2).reset_index()\n",
    "stats_by_month.columns=['month', 'tariff', 'calls_mean', 'sessions_mean', 'messages_mean', 'minutes_mean',\n",
    "                                     'calls_std',  'sessions_std', 'messages_std', 'minutes_std', \n",
    "                                     'calls_median', 'sessions_median', 'messages_median',  'minutes_median']\n",
    "display(stats_by_month.head(3))"
   ]
  },
  {
   "cell_type": "code",
   "execution_count": 12,
   "metadata": {},
   "outputs": [
    {
     "data": {
      "text/html": [
       "<div>\n",
       "<style scoped>\n",
       "    .dataframe tbody tr th:only-of-type {\n",
       "        vertical-align: middle;\n",
       "    }\n",
       "\n",
       "    .dataframe tbody tr th {\n",
       "        vertical-align: top;\n",
       "    }\n",
       "\n",
       "    .dataframe thead th {\n",
       "        text-align: right;\n",
       "    }\n",
       "</style>\n",
       "<table border=\"1\" class=\"dataframe\">\n",
       "  <thead>\n",
       "    <tr style=\"text-align: right;\">\n",
       "      <th></th>\n",
       "      <th>user_id</th>\n",
       "      <th>tariff</th>\n",
       "      <th>calls_mean</th>\n",
       "      <th>sessions_mean</th>\n",
       "      <th>messages_mean</th>\n",
       "      <th>minutes_mean</th>\n",
       "    </tr>\n",
       "  </thead>\n",
       "  <tbody>\n",
       "    <tr>\n",
       "      <th>0</th>\n",
       "      <td>1000</td>\n",
       "      <td>ultra</td>\n",
       "      <td>46.0</td>\n",
       "      <td>13424.04</td>\n",
       "      <td>62.0</td>\n",
       "      <td>320.75</td>\n",
       "    </tr>\n",
       "    <tr>\n",
       "      <th>1</th>\n",
       "      <td>1001</td>\n",
       "      <td>smart</td>\n",
       "      <td>61.0</td>\n",
       "      <td>16233.00</td>\n",
       "      <td>0.0</td>\n",
       "      <td>422.00</td>\n",
       "    </tr>\n",
       "    <tr>\n",
       "      <th>2</th>\n",
       "      <td>1002</td>\n",
       "      <td>smart</td>\n",
       "      <td>31.0</td>\n",
       "      <td>16576.65</td>\n",
       "      <td>10.0</td>\n",
       "      <td>216.71</td>\n",
       "    </tr>\n",
       "  </tbody>\n",
       "</table>\n",
       "</div>"
      ],
      "text/plain": [
       "   user_id tariff  calls_mean  sessions_mean  messages_mean  minutes_mean\n",
       "0     1000  ultra        46.0       13424.04           62.0        320.75\n",
       "1     1001  smart        61.0       16233.00            0.0        422.00\n",
       "2     1002  smart        31.0       16576.65           10.0        216.71"
      ]
     },
     "metadata": {},
     "output_type": "display_data"
    }
   ],
   "source": [
    "# нахождение средних значений по году для каждого пользователя\n",
    "user_behavior_total = user_behavior.pivot_table(\n",
    "            index=['user_id','tariff'],\n",
    "            values=['calls', 'minutes', 'messages', 'mb_used'],\n",
    "            aggfunc=['mean']\n",
    "    ).round(2).reset_index()\n",
    "user_behavior_total.columns=['user_id','tariff', 'calls_mean', 'sessions_mean', 'messages_mean', 'minutes_mean']\n",
    "display(user_behavior_total.head(3))"
   ]
  },
  {
   "cell_type": "markdown",
   "metadata": {},
   "source": [
    "<b>/ Визуализация агрегированных данных </b>"
   ]
  },
  {
   "cell_type": "markdown",
   "metadata": {},
   "source": [
    "<b>/ Кол-во звонков</b>"
   ]
  },
  {
   "cell_type": "code",
   "execution_count": 13,
   "metadata": {},
   "outputs": [
    {
     "data": {
      "image/png": "[encoded data removed]",
      "text/plain": [
       "<Figure size 864x360 with 1 Axes>"
      ]
     },
     "metadata": {
      "needs_background": "light"
     },
     "output_type": "display_data"
    },
    {
     "data": {
      "image/png": "[encoded data removed]",
      "text/plain": [
       "<Figure size 576x360 with 1 Axes>"
      ]
     },
     "metadata": {
      "needs_background": "light"
     },
     "output_type": "display_data"
    },
    {
     "name": "stdout",
     "output_type": "stream",
     "text": [
      "Среднее по году:\n",
      "Smart: 58.65\n",
      "Ultra: 73.44\n"
     ]
    }
   ],
   "source": [
    "# распределение среднего количества звонков по тарифам по месяцам\n",
    "plt.figure(figsize=(12, 5))\n",
    "sns.barplot(x='month',\n",
    "            y='calls_mean',\n",
    "            hue=\"tariff\",\n",
    "            data=stats_by_month,\n",
    "            palette=['lightblue', 'orange'])\n",
    "plt.title('Распределение среднего количества звонков на абонента по видам тарифов и месяцам', size = 15, y= 1.02)\n",
    "plt.xlabel('номер месяца', size = 12)\n",
    "plt.ylabel('среднее количество звонков в месяц', size = 12)\n",
    "plt.show()\n",
    "# гистограмма распределения\n",
    "plt.figure(figsize=(8, 5))\n",
    "user_behavior.groupby('tariff')['calls'].plot(kind='hist', bins=35, alpha=0.5)\n",
    "plt.legend(['Smart', 'Ultra'])\n",
    "plt.title('Распределение среднего количества звонков на абонента по видам тарифов', size = 15, y= 1.02)\n",
    "plt.xlabel('среднее количество звонков в месяц', size = 12)\n",
    "plt.ylabel('распределение по клиентам', size = 12)\n",
    "plt.show()\n",
    "# распределение среднего количества звонков по тарифам по году\n",
    "print('Среднее по году:')\n",
    "print('Smart:',round(user_behavior_total[user_behavior_total['tariff'] == 'smart']['calls_mean'].mean(),2))\n",
    "print('Ultra:',round(user_behavior_total[user_behavior_total['tariff'] == 'ultra']['calls_mean'].mean(),2))"
   ]
  },
  {
   "cell_type": "markdown",
   "metadata": {},
   "source": [
    "<b> Выводы:</b> <br>\n",
    "Среднее кол-во звонков у абонентов тарифа «Ультра» больше, чем у абонентов тарифа «Смарт». В течение года пользователи обоих тарифов незначительно увеличивают кол-во звонков в месяц. "
   ]
  },
  {
   "cell_type": "markdown",
   "metadata": {},
   "source": [
    "<b>/ Длительность звонков</b>"
   ]
  },
  {
   "cell_type": "code",
   "execution_count": 14,
   "metadata": {},
   "outputs": [
    {
     "data": {
      "image/png": "[encoded data removed]",
      "text/plain": [
       "<Figure size 864x360 with 1 Axes>"
      ]
     },
     "metadata": {
      "needs_background": "light"
     },
     "output_type": "display_data"
    },
    {
     "data": {
      "image/png": "[encoded data removed]",
      "text/plain": [
       "<Figure size 576x360 with 1 Axes>"
      ]
     },
     "metadata": {
      "needs_background": "light"
     },
     "output_type": "display_data"
    },
    {
     "name": "stdout",
     "output_type": "stream",
     "text": [
      "Среднее по году:\n",
      "Smart: 419.63\n",
      "Ultra: 527.82\n"
     ]
    }
   ],
   "source": [
    "# распределение средней продолжительности звонков по тарифам и месяцам\n",
    "plt.figure(figsize=(12, 5))\n",
    "sns.barplot(x='month',\n",
    "            y='minutes_mean',\n",
    "            hue=\"tariff\",\n",
    "            data=stats_by_month,\n",
    "            palette=['lightblue', 'orange'])\n",
    "plt.title('Распределение продолжительности звонков по видам тарифов и месяцам', size = 15, y= 1.02)\n",
    "plt.xlabel('номер месяца', size = 12)\n",
    "plt.ylabel('средняя продолжительность звонков', size = 12)\n",
    "plt.show()\n",
    "# гистограмма распределения\n",
    "plt.figure(figsize=(8, 5))\n",
    "user_behavior.groupby('tariff')['minutes'].plot(kind='hist', bins=35, alpha=0.5)\n",
    "plt.legend(['Smart', 'Ultra'])\n",
    "plt.title('Распределение средней продолжительности звонков по видам тарифов', size = 15, y= 1.02)\n",
    "plt.xlabel('средняя продолжительность звонков в месяц', size = 12)\n",
    "plt.ylabel('распределение по клиентам', size = 12)\n",
    "plt.show()\n",
    "# распределение средней продолжительности звонков по тарифам по году\n",
    "print('Среднее по году:')\n",
    "print('Smart:',round(user_behavior_total[user_behavior_total['tariff'] == 'smart']['minutes_mean'].mean(),2))\n",
    "print('Ultra:',round(user_behavior_total[user_behavior_total['tariff'] == 'ultra']['minutes_mean'].mean(),2))"
   ]
  },
  {
   "cell_type": "markdown",
   "metadata": {},
   "source": [
    "<b> Выводы:</b> <br>\n",
    "Средняя длительность разговоров у абонентов тарифа «Ультра» больше, чем у абонентов тарифа «Смарт». В течение года пользователи обоих тарифов увеличивают среднюю продолжительность своих разговоров. "
   ]
  },
  {
   "cell_type": "markdown",
   "metadata": {},
   "source": [
    "<b>/ Кол-во сообщений </b>"
   ]
  },
  {
   "cell_type": "code",
   "execution_count": 15,
   "metadata": {},
   "outputs": [
    {
     "data": {
      "image/png": "[encoded data removed]",
      "text/plain": [
       "<Figure size 864x360 with 1 Axes>"
      ]
     },
     "metadata": {
      "needs_background": "light"
     },
     "output_type": "display_data"
    },
    {
     "data": {
      "image/png": "[encoded data removed]",
      "text/plain": [
       "<Figure size 576x360 with 1 Axes>"
      ]
     },
     "metadata": {
      "needs_background": "light"
     },
     "output_type": "display_data"
    },
    {
     "name": "stdout",
     "output_type": "stream",
     "text": [
      "Среднее по году:\n",
      "Smart: 32.35\n",
      "Ultra: 54.03\n"
     ]
    }
   ],
   "source": [
    "# распределение среднего количества сообщений по тарифам по месяцам\n",
    "plt.figure(figsize=(12, 5))\n",
    "sns.barplot(x='month',\n",
    "            y='messages_mean',\n",
    "            hue=\"tariff\",\n",
    "            data=stats_by_month,\n",
    "            palette=['lightblue', 'orange'])\n",
    "plt.title('Распределение среднего количества сообщений на абонента по видам тарифов и месяцам', size = 15, y= 1.02)\n",
    "plt.xlabel('номер месяца', size = 12)\n",
    "plt.ylabel('среднее количество сообщений в месяц', size = 12)\n",
    "plt.show()\n",
    "# гистограмма распределения\n",
    "plt.figure(figsize=(8, 5))\n",
    "user_behavior.groupby('tariff')['messages'].plot(kind='hist', bins=35, alpha=0.5)\n",
    "plt.legend(['Smart', 'Ultra'])\n",
    "plt.title('Распределение среднего количества сообщений на абонента по видам тарифов', size = 15, y= 1.02)\n",
    "plt.xlabel('среднее количество сообщений в месяц', size = 12)\n",
    "plt.ylabel('распределение по клиентам', size = 12)\n",
    "plt.show()\n",
    "# распределение среднего количества сообщений по тарифам по году\n",
    "print('Среднее по году:')\n",
    "print('Smart:',round(user_behavior_total[user_behavior_total['tariff'] == 'smart']['messages_mean'].mean(),2))\n",
    "print('Ultra:',round(user_behavior_total[user_behavior_total['tariff'] == 'ultra']['messages_mean'].mean(),2))"
   ]
  },
  {
   "cell_type": "markdown",
   "metadata": {},
   "source": [
    "<b> Выводы:</b> <br>\n",
    "Пользователи тарифа «Ультра» отправляют в среднем почти на 20 сообщений больше, чем пользователи тарифа «Смарт». Количество сообщений в течение года на обоих тарифак растет."
   ]
  },
  {
   "cell_type": "markdown",
   "metadata": {},
   "source": [
    "<b>/ Кол-во мегабайт </b>"
   ]
  },
  {
   "cell_type": "code",
   "execution_count": 16,
   "metadata": {},
   "outputs": [
    {
     "data": {
      "image/png": "[encoded data removed]",
      "text/plain": [
       "<Figure size 864x360 with 1 Axes>"
      ]
     },
     "metadata": {
      "needs_background": "light"
     },
     "output_type": "display_data"
    },
    {
     "data": {
      "image/png": "[encoded data removed]",
      "text/plain": [
       "<Figure size 576x360 with 1 Axes>"
      ]
     },
     "metadata": {
      "needs_background": "light"
     },
     "output_type": "display_data"
    },
    {
     "name": "stdout",
     "output_type": "stream",
     "text": [
      "Среднее по году:\n",
      "Smart: 16180.61\n",
      "Ultra: 19574.64\n"
     ]
    }
   ],
   "source": [
    "# распределение среднего количества мегабайт по тарифам по месяцам\n",
    "plt.figure(figsize=(12, 5))\n",
    "sns.barplot(x='month',\n",
    "            y='sessions_mean',\n",
    "            hue=\"tariff\",\n",
    "            data=stats_by_month,\n",
    "            palette=['lightblue', 'orange'])\n",
    "plt.title('Распределение количества потраченного трафика (Мб) по видам тарифов и месяцам', size = 15, y= 1.02)\n",
    "plt.xlabel('номер месяца', size = 12)\n",
    "plt.ylabel('среднее количество мегабайт в месяц', size = 12)\n",
    "plt.show()\n",
    "# гистограмма распределения\n",
    "plt.figure(figsize=(8, 5))\n",
    "user_behavior.groupby('tariff')['mb_used'].plot(kind='hist', bins=35, alpha=0.5)\n",
    "plt.legend(['Smart', 'Ultra'])\n",
    "plt.title('Распределение среднего количества сообщений на абонента по видам тарифов', size = 15, y= 1.02)\n",
    "plt.xlabel('среднее количество мегабайт в месяц', size = 12)\n",
    "plt.ylabel('распределение по клиентам', size = 12)\n",
    "plt.show()\n",
    "# распределение среднего количества мегабайт по тарифам по году\n",
    "print('Среднее по году:')\n",
    "print('Smart:',round(user_behavior_total[user_behavior_total['tariff'] == 'smart']['sessions_mean'].mean(),2))\n",
    "print('Ultra:',round(user_behavior_total[user_behavior_total['tariff'] == 'ultra']['sessions_mean'].mean(),2))"
   ]
  },
  {
   "cell_type": "markdown",
   "metadata": {},
   "source": [
    "<b> Выводы:</b> <br>\n",
    "Меньше всего пользователи использовали интернет в январе, феврале и апреле. Чаще всего абоненты тарифа «Смарт» тратят 15-17 Гб, а абоненты тарифного плана «Ультра» - 19-21 ГБ."
   ]
  },
  {
   "cell_type": "markdown",
   "metadata": {},
   "source": [
    "### Проверка гипотез"
   ]
  },
  {
   "cell_type": "markdown",
   "metadata": {},
   "source": [
    "<b> Гипотеза №1: </b> средняя выручка пользователей тарифов «Ультра» и «Смарт» различаются <br>\n",
    "<br>\n",
    "H_0: Выручка (total_cost) пользователей \"Ультра\" = выручка (total_cost) пользователей \"Смарт\"<br>\n",
    "H_1: Выручка (total_cost) пользователей \"Ультра\" ≠ выручка (total_cost) пользователей \"Смарт\"<br>\n",
    "<br>\n",
    "Уровень статистической значимости alpha = 0.05<br>\n",
    "<br>\n",
    "Результат нахождения p-значения:<br>\n",
    "-p-value > значения alpha => нулевая гипотеза верна, выручка по тарифам \"Смарт\" и \"Ультра\" одинаковая <br>\n",
    "-p-value < значения alpha => нулевую гипотезу отвергаем, выручка пользователей тарифов \"Смарт\" и \"Ультра\" отличается"
   ]
  },
  {
   "cell_type": "code",
   "execution_count": 17,
   "metadata": {},
   "outputs": [
    {
     "name": "stdout",
     "output_type": "stream",
     "text": [
      "p-значение:  0.0\n",
      "Отвергаем нулевую гипотезу\n"
     ]
    }
   ],
   "source": [
    "# вызов метода для проверки гипотезы\n",
    "results = st.ttest_ind((user_behavior[user_behavior['tariff'] == 'smart']['total_cost']),(user_behavior[user_behavior['tariff'] == 'ultra']['total_cost']),equal_var=False)\n",
    "alpha = 0.05   \n",
    "print('p-значение: ', round(results.pvalue,5))\n",
    "if results.pvalue < alpha:\n",
    "    print(\"Отвергаем нулевую гипотезу\")\n",
    "else:\n",
    "    print(\"Не получилось отвергнуть нулевую гипотезу\") "
   ]
  },
  {
   "cell_type": "markdown",
   "metadata": {},
   "source": [
    "<b> Выводы по оценке гипотезы №1: </b><br>\n",
    "Гипотеза Н0 не верна: выручка пользователей тарифов \"Смарт\" и \"Ультра\" отличается с вероятной долей ошибки в 5%."
   ]
  },
  {
   "cell_type": "markdown",
   "metadata": {},
   "source": [
    "<b> Гипотеза №2: </b> пользователи из Москвы приносят больше выручки, чем пользователи из других городов<br>\n",
    "<br>\n",
    "H_0: Выручка (total_cost) пользователей из Москвы = выручка (total_cost) пользователей не из Москвы<br>\n",
    "H_1: Выручка (total_cost) пользователей из Москвы ≠ выручка (total_cost) пользователей не из Москвы<br>\n",
    "<br>\n",
    "Уровень статистической значимости alpha = 0.05<br>\n",
    "<br>\n",
    "Результат нахождения p-значения:<br>\n",
    "-p-value > значения alpha => нулевая гипотеза верна, пользователи из Москвы и регионов приносят одинаковую выручку <br>\n",
    "-p-value < значения alpha => нулевую гипотезу отвергаем, выручка пользователей из Москвы и не из Москвы разная"
   ]
  },
  {
   "cell_type": "code",
   "execution_count": 18,
   "metadata": {},
   "outputs": [
    {
     "name": "stdout",
     "output_type": "stream",
     "text": [
      "p-значение:  0.52574\n",
      "Не получилось отвергнуть нулевую гипотезу\n"
     ]
    }
   ],
   "source": [
    "# вызов метода для проверки гипотезы\n",
    "results = st.ttest_ind((user_behavior[user_behavior['city'] == 'Москва']['total_cost']),(user_behavior[user_behavior['city'] != 'Москва']['total_cost']),equal_var=False)\n",
    "alpha = 0.05 \n",
    "print('p-значение: ', round(results.pvalue,5))\n",
    "if results.pvalue < alpha:\n",
    "    print(\"Отвергаем нулевую гипотезу\")\n",
    "else:\n",
    "    print(\"Не получилось отвергнуть нулевую гипотезу\") "
   ]
  },
  {
   "cell_type": "markdown",
   "metadata": {},
   "source": [
    "<b> Выводы по гипотезе №2: </b><br>\n",
    "Гипотеза Н0 верна: пользователи из Москвы и регионов приносят одинаковую выручку с вероятной долей ошибки в 5%."
   ]
  },
  {
   "cell_type": "markdown",
   "metadata": {},
   "source": [
    "<b> Гипотеза №3: </b> пользователи из Москвы и не из Москвы имеют разную продолжительность разговоров <br>\n",
    "<br>\n",
    "H_0: Среднее время разговора (minutes) пользователей из Москвы = среднее время разговора (minutes) пользователей не из Москвы<br>\n",
    "H_1: Среднее время разговора (minutes) пользователей из Москвы ≠ среднее время разговора (minutes) пользователей не из Москвы<br>\n",
    "<br>\n",
    "Уровень статистической значимости alpha = 0.05<br>\n",
    "<br>\n",
    "Результат нахождения p-значения:<br>\n",
    "-p-value > значения alpha => нулевая гипотеза верна, пользователи из Москвы и не из Москвы имеют одинаковую продолжительность звонков <br>\n",
    "-p-value < значения alpha => нулевую гипотезу отвергаем, пользователи из Москвы и не из Москвы имеют разную продолжительность звонков "
   ]
  },
  {
   "cell_type": "code",
   "execution_count": 19,
   "metadata": {},
   "outputs": [
    {
     "name": "stdout",
     "output_type": "stream",
     "text": [
      "p-значение:  0.04207\n",
      "Отвергаем нулевую гипотезу\n"
     ]
    }
   ],
   "source": [
    "# вызов метода для проверки гипотезы\n",
    "results = st.ttest_ind((user_behavior[user_behavior['city'] == 'Москва']['minutes']),(user_behavior[user_behavior['city'] != 'Москва']['minutes']),equal_var=False)\n",
    "alpha = 0.05 \n",
    "print('p-значение: ', round(results.pvalue,5))\n",
    "if results.pvalue < alpha:\n",
    "    print(\"Отвергаем нулевую гипотезу\")\n",
    "else:\n",
    "    print(\"Не получилось отвергнуть нулевую гипотезу\") "
   ]
  },
  {
   "cell_type": "markdown",
   "metadata": {},
   "source": [
    "<b> Выводы по гипотезе №3: </b><br>\n",
    "Гипотеза Н0 не верна: пользователи из Москвы и не из Москвы имеют разную продолжительность звонков с вероятной долей ошибки в 5%."
   ]
  },
  {
   "cell_type": "markdown",
   "metadata": {},
   "source": [
    "### Общий вывод"
   ]
  },
  {
   "cell_type": "markdown",
   "metadata": {},
   "source": [
    "В рамках проекта по анализу данных пользователей оператора сотовой связи была проведена следующая работа: <br>\n",
    "1. Проведена предобработка датасета на предмет форматов данных, добавлены дополнительные столбцы. <br>\n",
    " <br>\n",
    "2. Проведена агрегация данных по месяцам и подготовлена визуализация результатов пользования 2-х тарифных планов. <br>\n",
    "Краткие выводы:<br>\n",
    "- среднее кол-во звонков у абонентов тарифа «Ультра» больше, чем у абонентов тарифа «Смарт», в течение года пользователи обоих тарифов незначительно увеличивают кол-во звонков в месяц; <br>\n",
    "- средняя длительность разговоров у абонентов тарифа «Ультра» больше, чем у абонентов тарифа «Смарт», в течение года пользователи обоих тарифов увеличивают среднюю продолжительность своих разговоров;<br>\n",
    "- пользователи тарифа «Ультра» отправляют в среднем почти на 20 сообщений больше, чем пользователи тарифа «Смарт», количество сообщений в течение года на обоих тарифак растет;\n",
    "- чаще всего абоненты тарифа «Смарт» тратят 15-17 Гб, а абоненты тарифного плана «Ультра» - 19-21 ГБ.\n",
    "<br>\n",
    "3. Проведен анализ трех гипотез о различии выручки и длительности звонков абонентов разных тарифных планов и регионов <br>\n",
    "Краткие выводы:<br>\n",
    "- Гипотеза №1 не верна: выручка пользователей тарифов \"Смарт\" и \"Ультра\" отличается с вероятной долей ошибки в 5%;<br>\n",
    "- Гипотеза №2 верна: пользователи из Москвы и регионов приносят одинаковую выручку с вероятной долей ошибки в 5%<br>\n",
    "- Гипотеза №3 не верна: пользователи из Москвы и не из Москвы имеют разную продолжительность звонков с вероятной долей ошибки в 5%."
   ]
  },
  {
   "cell_type": "code",
   "execution_count": null,
   "metadata": {},
   "outputs": [],
   "source": []
  }
 ],
 "metadata": {
  "ExecuteTimeLog": [
   {
    "duration": 52,
    "start_time": "2022-11-28T09:35:34.620Z"
   },
   {
    "duration": 511,
    "start_time": "2022-11-28T09:35:36.574Z"
   },
   {
    "duration": 21,
    "start_time": "2022-11-28T09:35:37.188Z"
   },
   {
    "duration": 1189,
    "start_time": "2023-02-17T09:03:34.375Z"
   },
   {
    "duration": 503,
    "start_time": "2023-02-17T09:03:35.566Z"
   },
   {
    "duration": 5,
    "start_time": "2023-02-17T09:03:36.071Z"
   },
   {
    "duration": 18,
    "start_time": "2023-02-17T09:03:36.078Z"
   },
   {
    "duration": 19,
    "start_time": "2023-02-17T09:03:36.097Z"
   },
   {
    "duration": 247,
    "start_time": "2023-02-17T09:03:36.117Z"
   },
   {
    "duration": 94,
    "start_time": "2023-02-17T09:03:36.365Z"
   },
   {
    "duration": 56,
    "start_time": "2023-02-17T09:03:36.461Z"
   },
   {
    "duration": 51,
    "start_time": "2023-02-17T09:03:36.520Z"
   },
   {
    "duration": 487,
    "start_time": "2023-02-17T09:03:36.573Z"
   },
   {
    "duration": 35,
    "start_time": "2023-02-17T09:03:37.062Z"
   },
   {
    "duration": 397,
    "start_time": "2023-02-17T09:03:37.099Z"
   },
   {
    "duration": 47,
    "start_time": "2023-02-17T09:03:37.497Z"
   },
   {
    "duration": 116,
    "start_time": "2023-02-17T09:03:37.545Z"
   },
   {
    "duration": 11,
    "start_time": "2023-02-17T09:03:37.662Z"
   },
   {
    "duration": 19,
    "start_time": "2023-02-17T09:03:37.674Z"
   },
   {
    "duration": 100,
    "start_time": "2023-02-17T09:03:37.694Z"
   },
   {
    "duration": 168,
    "start_time": "2023-02-17T09:03:37.796Z"
   },
   {
    "duration": 4,
    "start_time": "2023-02-17T09:03:37.965Z"
   },
   {
    "duration": 9,
    "start_time": "2023-02-17T09:03:37.970Z"
   },
   {
    "duration": 8,
    "start_time": "2023-02-17T09:03:37.981Z"
   },
   {
    "duration": 33,
    "start_time": "2023-02-17T09:03:37.991Z"
   },
   {
    "duration": 23,
    "start_time": "2023-02-17T09:03:38.026Z"
   },
   {
    "duration": 28,
    "start_time": "2023-02-17T09:03:38.051Z"
   },
   {
    "duration": 18,
    "start_time": "2023-02-17T09:03:38.080Z"
   },
   {
    "duration": 23,
    "start_time": "2023-02-17T09:03:38.099Z"
   },
   {
    "duration": 10,
    "start_time": "2023-02-17T09:03:38.123Z"
   },
   {
    "duration": 17,
    "start_time": "2023-02-17T09:03:38.135Z"
   },
   {
    "duration": 1074,
    "start_time": "2023-02-17T09:05:23.466Z"
   },
   {
    "duration": 161,
    "start_time": "2023-02-17T09:05:24.541Z"
   },
   {
    "duration": 6,
    "start_time": "2023-02-17T09:05:24.704Z"
   },
   {
    "duration": 23,
    "start_time": "2023-02-17T09:05:24.712Z"
   },
   {
    "duration": 22,
    "start_time": "2023-02-17T09:05:24.738Z"
   },
   {
    "duration": 248,
    "start_time": "2023-02-17T09:05:24.761Z"
   },
   {
    "duration": 86,
    "start_time": "2023-02-17T09:05:25.010Z"
   },
   {
    "duration": 43,
    "start_time": "2023-02-17T09:05:25.098Z"
   },
   {
    "duration": 77,
    "start_time": "2023-02-17T09:05:25.142Z"
   },
   {
    "duration": 547,
    "start_time": "2023-02-17T09:05:25.221Z"
   },
   {
    "duration": 34,
    "start_time": "2023-02-17T09:05:25.769Z"
   },
   {
    "duration": 416,
    "start_time": "2023-02-17T09:05:25.805Z"
   },
   {
    "duration": 53,
    "start_time": "2023-02-17T09:05:26.222Z"
   },
   {
    "duration": 159,
    "start_time": "2023-02-17T09:05:26.291Z"
   },
   {
    "duration": 16,
    "start_time": "2023-02-17T09:05:26.452Z"
   },
   {
    "duration": 29,
    "start_time": "2023-02-17T09:05:26.470Z"
   },
   {
    "duration": 117,
    "start_time": "2023-02-17T09:05:26.501Z"
   },
   {
    "duration": 193,
    "start_time": "2023-02-17T09:05:26.621Z"
   },
   {
    "duration": 4,
    "start_time": "2023-02-17T09:05:26.815Z"
   },
   {
    "duration": 8,
    "start_time": "2023-02-17T09:05:26.820Z"
   },
   {
    "duration": 10,
    "start_time": "2023-02-17T09:05:26.829Z"
   },
   {
    "duration": 29,
    "start_time": "2023-02-17T09:05:26.840Z"
   },
   {
    "duration": 25,
    "start_time": "2023-02-17T09:05:26.871Z"
   },
   {
    "duration": 18,
    "start_time": "2023-02-17T09:05:26.898Z"
   },
   {
    "duration": 13,
    "start_time": "2023-02-17T09:05:26.918Z"
   },
   {
    "duration": 16,
    "start_time": "2023-02-17T09:05:26.933Z"
   },
   {
    "duration": 7,
    "start_time": "2023-02-17T09:05:26.950Z"
   },
   {
    "duration": 40,
    "start_time": "2023-02-17T09:05:26.959Z"
   },
   {
    "duration": 1079,
    "start_time": "2023-02-17T09:13:10.182Z"
   },
   {
    "duration": 165,
    "start_time": "2023-02-17T09:13:11.263Z"
   },
   {
    "duration": 5,
    "start_time": "2023-02-17T09:13:11.430Z"
   },
   {
    "duration": 18,
    "start_time": "2023-02-17T09:13:11.437Z"
   },
   {
    "duration": 35,
    "start_time": "2023-02-17T09:13:11.456Z"
   },
   {
    "duration": 218,
    "start_time": "2023-02-17T09:13:11.493Z"
   },
   {
    "duration": 90,
    "start_time": "2023-02-17T09:13:11.712Z"
   },
   {
    "duration": 38,
    "start_time": "2023-02-17T09:13:11.804Z"
   },
   {
    "duration": 79,
    "start_time": "2023-02-17T09:13:11.844Z"
   },
   {
    "duration": 523,
    "start_time": "2023-02-17T09:13:11.925Z"
   },
   {
    "duration": 44,
    "start_time": "2023-02-17T09:13:12.449Z"
   },
   {
    "duration": 403,
    "start_time": "2023-02-17T09:13:12.495Z"
   },
   {
    "duration": 60,
    "start_time": "2023-02-17T09:13:12.900Z"
   },
   {
    "duration": 142,
    "start_time": "2023-02-17T09:13:12.961Z"
   },
   {
    "duration": 12,
    "start_time": "2023-02-17T09:13:13.105Z"
   },
   {
    "duration": 9,
    "start_time": "2023-02-17T09:13:13.119Z"
   },
   {
    "duration": 110,
    "start_time": "2023-02-17T09:13:13.129Z"
   },
   {
    "duration": 183,
    "start_time": "2023-02-17T09:13:13.241Z"
   },
   {
    "duration": 3,
    "start_time": "2023-02-17T09:13:13.425Z"
   },
   {
    "duration": 7,
    "start_time": "2023-02-17T09:13:13.430Z"
   },
   {
    "duration": 8,
    "start_time": "2023-02-17T09:13:13.438Z"
   },
   {
    "duration": 27,
    "start_time": "2023-02-17T09:13:13.447Z"
   },
   {
    "duration": 25,
    "start_time": "2023-02-17T09:13:13.476Z"
   },
   {
    "duration": 15,
    "start_time": "2023-02-17T09:13:13.503Z"
   },
   {
    "duration": 11,
    "start_time": "2023-02-17T09:13:13.520Z"
   },
   {
    "duration": 11,
    "start_time": "2023-02-17T09:13:13.533Z"
   },
   {
    "duration": 5,
    "start_time": "2023-02-17T09:13:13.545Z"
   },
   {
    "duration": 49,
    "start_time": "2023-02-17T09:13:13.552Z"
   },
   {
    "duration": 1105,
    "start_time": "2023-02-17T09:15:47.651Z"
   },
   {
    "duration": 175,
    "start_time": "2023-02-17T09:15:48.759Z"
   },
   {
    "duration": 6,
    "start_time": "2023-02-17T09:15:48.936Z"
   },
   {
    "duration": 26,
    "start_time": "2023-02-17T09:15:48.944Z"
   },
   {
    "duration": 30,
    "start_time": "2023-02-17T09:15:48.975Z"
   },
   {
    "duration": 234,
    "start_time": "2023-02-17T09:15:49.006Z"
   },
   {
    "duration": 91,
    "start_time": "2023-02-17T09:15:49.241Z"
   },
   {
    "duration": 65,
    "start_time": "2023-02-17T09:15:49.333Z"
   },
   {
    "duration": 76,
    "start_time": "2023-02-17T09:15:49.400Z"
   },
   {
    "duration": 571,
    "start_time": "2023-02-17T09:15:49.478Z"
   },
   {
    "duration": 43,
    "start_time": "2023-02-17T09:15:50.050Z"
   },
   {
    "duration": 409,
    "start_time": "2023-02-17T09:15:50.095Z"
   },
   {
    "duration": 61,
    "start_time": "2023-02-17T09:15:50.506Z"
   },
   {
    "duration": 140,
    "start_time": "2023-02-17T09:15:50.591Z"
   },
   {
    "duration": 12,
    "start_time": "2023-02-17T09:15:50.733Z"
   },
   {
    "duration": 19,
    "start_time": "2023-02-17T09:15:50.746Z"
   },
   {
    "duration": 112,
    "start_time": "2023-02-17T09:15:50.767Z"
   },
   {
    "duration": 214,
    "start_time": "2023-02-17T09:15:50.880Z"
   },
   {
    "duration": 5,
    "start_time": "2023-02-17T09:15:51.095Z"
   },
   {
    "duration": 13,
    "start_time": "2023-02-17T09:15:51.102Z"
   },
   {
    "duration": 12,
    "start_time": "2023-02-17T09:15:51.117Z"
   },
   {
    "duration": 33,
    "start_time": "2023-02-17T09:15:51.131Z"
   },
   {
    "duration": 35,
    "start_time": "2023-02-17T09:15:51.167Z"
   },
   {
    "duration": 17,
    "start_time": "2023-02-17T09:15:51.204Z"
   },
   {
    "duration": 18,
    "start_time": "2023-02-17T09:15:51.223Z"
   },
   {
    "duration": 53,
    "start_time": "2023-02-17T09:15:51.243Z"
   },
   {
    "duration": 11,
    "start_time": "2023-02-17T09:15:51.298Z"
   },
   {
    "duration": 19,
    "start_time": "2023-02-17T09:15:51.311Z"
   },
   {
    "duration": 1242,
    "start_time": "2023-02-17T22:53:45.231Z"
   },
   {
    "duration": 171,
    "start_time": "2023-02-17T22:53:46.475Z"
   },
   {
    "duration": 7,
    "start_time": "2023-02-17T22:53:46.647Z"
   },
   {
    "duration": 28,
    "start_time": "2023-02-17T22:53:46.655Z"
   },
   {
    "duration": 23,
    "start_time": "2023-02-17T22:53:46.686Z"
   },
   {
    "duration": 256,
    "start_time": "2023-02-17T22:53:46.711Z"
   },
   {
    "duration": 91,
    "start_time": "2023-02-17T22:53:46.969Z"
   },
   {
    "duration": 50,
    "start_time": "2023-02-17T22:53:47.061Z"
   },
   {
    "duration": 58,
    "start_time": "2023-02-17T22:53:47.113Z"
   },
   {
    "duration": 577,
    "start_time": "2023-02-17T22:53:47.173Z"
   },
   {
    "duration": 44,
    "start_time": "2023-02-17T22:53:47.752Z"
   },
   {
    "duration": 440,
    "start_time": "2023-02-17T22:53:47.798Z"
   },
   {
    "duration": 67,
    "start_time": "2023-02-17T22:53:48.240Z"
   },
   {
    "duration": 140,
    "start_time": "2023-02-17T22:53:48.310Z"
   },
   {
    "duration": 13,
    "start_time": "2023-02-17T22:53:48.452Z"
   },
   {
    "duration": 12,
    "start_time": "2023-02-17T22:53:48.467Z"
   },
   {
    "duration": 109,
    "start_time": "2023-02-17T22:53:48.493Z"
   },
   {
    "duration": 192,
    "start_time": "2023-02-17T22:53:48.604Z"
   },
   {
    "duration": 4,
    "start_time": "2023-02-17T22:53:48.797Z"
   },
   {
    "duration": 19,
    "start_time": "2023-02-17T22:53:48.803Z"
   },
   {
    "duration": 8,
    "start_time": "2023-02-17T22:53:48.824Z"
   },
   {
    "duration": 32,
    "start_time": "2023-02-17T22:53:48.834Z"
   },
   {
    "duration": 23,
    "start_time": "2023-02-17T22:53:48.868Z"
   },
   {
    "duration": 15,
    "start_time": "2023-02-17T22:53:48.893Z"
   },
   {
    "duration": 18,
    "start_time": "2023-02-17T22:53:48.910Z"
   },
   {
    "duration": 16,
    "start_time": "2023-02-17T22:53:48.931Z"
   },
   {
    "duration": 8,
    "start_time": "2023-02-17T22:53:48.949Z"
   },
   {
    "duration": 47,
    "start_time": "2023-02-17T22:53:48.958Z"
   },
   {
    "duration": 20,
    "start_time": "2023-02-17T22:59:39.993Z"
   },
   {
    "duration": 58,
    "start_time": "2023-02-17T22:59:44.148Z"
   },
   {
    "duration": 1151,
    "start_time": "2023-02-18T14:23:17.738Z"
   },
   {
    "duration": 542,
    "start_time": "2023-02-18T14:23:19.629Z"
   },
   {
    "duration": 6,
    "start_time": "2023-02-18T14:23:25.829Z"
   },
   {
    "duration": 14,
    "start_time": "2023-02-18T14:23:26.827Z"
   },
   {
    "duration": 18,
    "start_time": "2023-02-18T14:23:28.442Z"
   },
   {
    "duration": 208,
    "start_time": "2023-02-18T14:23:30.573Z"
   },
   {
    "duration": 133,
    "start_time": "2023-02-18T14:23:32.159Z"
   },
   {
    "duration": 116,
    "start_time": "2023-02-18T14:23:47.038Z"
   },
   {
    "duration": 118,
    "start_time": "2023-02-18T14:24:14.864Z"
   },
   {
    "duration": 85,
    "start_time": "2023-02-18T14:25:04.090Z"
   },
   {
    "duration": 38,
    "start_time": "2023-02-18T14:25:18.735Z"
   },
   {
    "duration": 1022,
    "start_time": "2023-02-18T14:25:29.026Z"
   },
   {
    "duration": 209,
    "start_time": "2023-02-18T14:25:30.050Z"
   },
   {
    "duration": 7,
    "start_time": "2023-02-18T14:25:31.479Z"
   },
   {
    "duration": 15,
    "start_time": "2023-02-18T14:25:31.717Z"
   },
   {
    "duration": 19,
    "start_time": "2023-02-18T14:25:31.943Z"
   },
   {
    "duration": 205,
    "start_time": "2023-02-18T14:25:32.558Z"
   },
   {
    "duration": 148,
    "start_time": "2023-02-18T14:25:32.947Z"
   },
   {
    "duration": 80,
    "start_time": "2023-02-18T14:25:36.446Z"
   },
   {
    "duration": 37,
    "start_time": "2023-02-18T14:25:41.025Z"
   },
   {
    "duration": 35,
    "start_time": "2023-02-18T14:25:55.520Z"
   },
   {
    "duration": 49,
    "start_time": "2023-02-18T14:26:05.952Z"
   },
   {
    "duration": 25,
    "start_time": "2023-02-18T14:27:05.596Z"
   },
   {
    "duration": 28,
    "start_time": "2023-02-18T14:27:22.244Z"
   },
   {
    "duration": 195,
    "start_time": "2023-02-18T14:31:25.301Z"
   },
   {
    "duration": 167,
    "start_time": "2023-02-18T14:33:54.069Z"
   },
   {
    "duration": 150,
    "start_time": "2023-02-18T14:33:59.241Z"
   },
   {
    "duration": 472,
    "start_time": "2023-02-18T14:38:20.254Z"
   },
   {
    "duration": 396,
    "start_time": "2023-02-18T14:39:16.802Z"
   },
   {
    "duration": 427,
    "start_time": "2023-02-18T14:39:47.189Z"
   },
   {
    "duration": 417,
    "start_time": "2023-02-18T14:40:03.050Z"
   },
   {
    "duration": 406,
    "start_time": "2023-02-18T14:40:09.027Z"
   },
   {
    "duration": 404,
    "start_time": "2023-02-18T14:40:23.482Z"
   },
   {
    "duration": 515,
    "start_time": "2023-02-18T14:40:36.066Z"
   },
   {
    "duration": 431,
    "start_time": "2023-02-18T14:40:51.665Z"
   },
   {
    "duration": 425,
    "start_time": "2023-02-18T14:42:53.598Z"
   },
   {
    "duration": 6,
    "start_time": "2023-02-18T14:44:00.472Z"
   },
   {
    "duration": 102,
    "start_time": "2023-02-18T14:45:20.852Z"
   },
   {
    "duration": 13,
    "start_time": "2023-02-18T14:45:27.497Z"
   },
   {
    "duration": 78,
    "start_time": "2023-02-18T14:45:34.677Z"
   },
   {
    "duration": 8,
    "start_time": "2023-02-18T14:45:52.501Z"
   },
   {
    "duration": 10,
    "start_time": "2023-02-18T14:46:05.841Z"
   },
   {
    "duration": 13,
    "start_time": "2023-02-18T14:46:25.240Z"
   },
   {
    "duration": 21,
    "start_time": "2023-02-18T14:48:21.728Z"
   },
   {
    "duration": 33,
    "start_time": "2023-02-18T14:49:13.333Z"
   },
   {
    "duration": 44,
    "start_time": "2023-02-18T14:51:04.471Z"
   },
   {
    "duration": 353,
    "start_time": "2023-02-18T14:51:06.106Z"
   },
   {
    "duration": 34,
    "start_time": "2023-02-18T14:55:50.466Z"
   },
   {
    "duration": 46,
    "start_time": "2023-02-18T14:55:54.479Z"
   },
   {
    "duration": 1039,
    "start_time": "2023-02-18T14:57:29.134Z"
   },
   {
    "duration": 214,
    "start_time": "2023-02-18T14:57:30.175Z"
   },
   {
    "duration": 6,
    "start_time": "2023-02-18T14:57:30.391Z"
   },
   {
    "duration": 46,
    "start_time": "2023-02-18T14:57:30.399Z"
   },
   {
    "duration": 31,
    "start_time": "2023-02-18T14:57:30.447Z"
   },
   {
    "duration": 231,
    "start_time": "2023-02-18T14:57:30.479Z"
   },
   {
    "duration": 168,
    "start_time": "2023-02-18T14:57:30.712Z"
   },
   {
    "duration": 110,
    "start_time": "2023-02-18T14:57:30.882Z"
   },
   {
    "duration": 34,
    "start_time": "2023-02-18T14:57:30.994Z"
   },
   {
    "duration": 70,
    "start_time": "2023-02-18T14:57:31.031Z"
   },
   {
    "duration": 29,
    "start_time": "2023-02-18T14:57:31.103Z"
   },
   {
    "duration": 227,
    "start_time": "2023-02-18T14:57:31.134Z"
   },
   {
    "duration": 10,
    "start_time": "2023-02-18T14:57:31.363Z"
   },
   {
    "duration": 524,
    "start_time": "2023-02-18T14:57:31.374Z"
   },
   {
    "duration": 52,
    "start_time": "2023-02-18T14:57:31.900Z"
   },
   {
    "duration": 46,
    "start_time": "2023-02-18T14:57:31.954Z"
   },
   {
    "duration": 371,
    "start_time": "2023-02-18T14:57:32.002Z"
   },
   {
    "duration": 48,
    "start_time": "2023-02-18T14:57:32.375Z"
   },
   {
    "duration": 109,
    "start_time": "2023-02-18T14:57:32.424Z"
   },
   {
    "duration": 11,
    "start_time": "2023-02-18T14:57:32.548Z"
   },
   {
    "duration": 27,
    "start_time": "2023-02-18T14:57:32.560Z"
   },
   {
    "duration": 80,
    "start_time": "2023-02-18T14:57:32.589Z"
   },
   {
    "duration": 189,
    "start_time": "2023-02-18T14:57:32.670Z"
   },
   {
    "duration": 4,
    "start_time": "2023-02-18T14:57:32.862Z"
   },
   {
    "duration": 29,
    "start_time": "2023-02-18T14:57:32.868Z"
   },
   {
    "duration": 32,
    "start_time": "2023-02-18T14:57:32.900Z"
   },
   {
    "duration": 47,
    "start_time": "2023-02-18T14:57:32.934Z"
   },
   {
    "duration": 19,
    "start_time": "2023-02-18T14:57:32.984Z"
   },
   {
    "duration": 23,
    "start_time": "2023-02-18T14:57:33.005Z"
   },
   {
    "duration": 26,
    "start_time": "2023-02-18T14:57:33.031Z"
   },
   {
    "duration": 26,
    "start_time": "2023-02-18T14:57:33.059Z"
   },
   {
    "duration": 14,
    "start_time": "2023-02-18T14:57:33.087Z"
   },
   {
    "duration": 18,
    "start_time": "2023-02-18T14:57:33.103Z"
   },
   {
    "duration": 334,
    "start_time": "2023-02-18T15:02:15.466Z"
   },
   {
    "duration": 994,
    "start_time": "2023-02-18T15:11:28.058Z"
   },
   {
    "duration": 208,
    "start_time": "2023-02-18T15:11:29.054Z"
   },
   {
    "duration": 6,
    "start_time": "2023-02-18T15:11:29.263Z"
   },
   {
    "duration": 18,
    "start_time": "2023-02-18T15:11:29.271Z"
   },
   {
    "duration": 18,
    "start_time": "2023-02-18T15:11:29.291Z"
   },
   {
    "duration": 230,
    "start_time": "2023-02-18T15:11:29.310Z"
   },
   {
    "duration": 153,
    "start_time": "2023-02-18T15:11:29.541Z"
   },
   {
    "duration": 103,
    "start_time": "2023-02-18T15:11:29.696Z"
   },
   {
    "duration": 34,
    "start_time": "2023-02-18T15:11:29.801Z"
   },
   {
    "duration": 52,
    "start_time": "2023-02-18T15:11:29.849Z"
   },
   {
    "duration": 27,
    "start_time": "2023-02-18T15:11:29.902Z"
   },
   {
    "duration": 183,
    "start_time": "2023-02-18T15:11:29.949Z"
   },
   {
    "duration": 21,
    "start_time": "2023-02-18T15:11:30.134Z"
   },
   {
    "duration": 523,
    "start_time": "2023-02-18T15:11:30.156Z"
   },
   {
    "duration": 33,
    "start_time": "2023-02-18T15:11:30.682Z"
   },
   {
    "duration": 88,
    "start_time": "2023-02-18T15:11:30.717Z"
   },
   {
    "duration": 358,
    "start_time": "2023-02-18T15:11:30.806Z"
   },
   {
    "duration": 43,
    "start_time": "2023-02-18T15:11:31.166Z"
   },
   {
    "duration": 107,
    "start_time": "2023-02-18T15:11:31.211Z"
   },
   {
    "duration": 28,
    "start_time": "2023-02-18T15:11:31.320Z"
   },
   {
    "duration": 11,
    "start_time": "2023-02-18T15:11:31.350Z"
   },
   {
    "duration": 154,
    "start_time": "2023-02-18T15:11:31.363Z"
   },
   {
    "duration": 139,
    "start_time": "2023-02-18T15:11:31.519Z"
   },
   {
    "duration": 171,
    "start_time": "2023-02-18T15:11:31.660Z"
   },
   {
    "duration": 4,
    "start_time": "2023-02-18T15:11:31.833Z"
   },
   {
    "duration": 5,
    "start_time": "2023-02-18T15:11:31.848Z"
   },
   {
    "duration": 12,
    "start_time": "2023-02-18T15:11:31.855Z"
   },
   {
    "duration": 232,
    "start_time": "2023-02-18T15:11:31.871Z"
   },
   {
    "duration": 17,
    "start_time": "2023-02-18T15:11:32.105Z"
   },
   {
    "duration": 27,
    "start_time": "2023-02-18T15:11:32.124Z"
   },
   {
    "duration": 19,
    "start_time": "2023-02-18T15:11:32.152Z"
   },
   {
    "duration": 11,
    "start_time": "2023-02-18T15:11:32.173Z"
   },
   {
    "duration": 9,
    "start_time": "2023-02-18T15:11:32.186Z"
   },
   {
    "duration": 10,
    "start_time": "2023-02-18T15:11:32.196Z"
   },
   {
    "duration": 994,
    "start_time": "2023-02-18T15:23:54.085Z"
   },
   {
    "duration": 243,
    "start_time": "2023-02-18T15:23:55.081Z"
   },
   {
    "duration": 9,
    "start_time": "2023-02-18T15:23:55.326Z"
   },
   {
    "duration": 32,
    "start_time": "2023-02-18T15:23:55.337Z"
   },
   {
    "duration": 25,
    "start_time": "2023-02-18T15:23:55.371Z"
   },
   {
    "duration": 246,
    "start_time": "2023-02-18T15:23:55.398Z"
   },
   {
    "duration": 154,
    "start_time": "2023-02-18T15:23:55.647Z"
   },
   {
    "duration": 103,
    "start_time": "2023-02-18T15:23:55.803Z"
   },
   {
    "duration": 49,
    "start_time": "2023-02-18T15:23:55.907Z"
   },
   {
    "duration": 51,
    "start_time": "2023-02-18T15:23:55.959Z"
   },
   {
    "duration": 43,
    "start_time": "2023-02-18T15:23:56.012Z"
   },
   {
    "duration": 172,
    "start_time": "2023-02-18T15:23:56.056Z"
   },
   {
    "duration": 20,
    "start_time": "2023-02-18T15:23:56.229Z"
   },
   {
    "duration": 500,
    "start_time": "2023-02-18T15:23:56.250Z"
   },
   {
    "duration": 31,
    "start_time": "2023-02-18T15:23:56.752Z"
   },
   {
    "duration": 64,
    "start_time": "2023-02-18T15:23:56.785Z"
   },
   {
    "duration": 356,
    "start_time": "2023-02-18T15:23:56.850Z"
   },
   {
    "duration": 52,
    "start_time": "2023-02-18T15:23:57.208Z"
   },
   {
    "duration": 101,
    "start_time": "2023-02-18T15:23:57.262Z"
   },
   {
    "duration": 11,
    "start_time": "2023-02-18T15:23:57.364Z"
   },
   {
    "duration": 9,
    "start_time": "2023-02-18T15:23:57.376Z"
   },
   {
    "duration": 172,
    "start_time": "2023-02-18T15:23:57.387Z"
   },
   {
    "duration": 118,
    "start_time": "2023-02-18T15:23:57.561Z"
   },
   {
    "duration": 194,
    "start_time": "2023-02-18T15:23:57.680Z"
   },
   {
    "duration": 4,
    "start_time": "2023-02-18T15:23:57.876Z"
   },
   {
    "duration": 7,
    "start_time": "2023-02-18T15:23:57.882Z"
   },
   {
    "duration": 16,
    "start_time": "2023-02-18T15:23:57.891Z"
   },
   {
    "duration": 196,
    "start_time": "2023-02-18T15:23:57.911Z"
   },
   {
    "duration": 13,
    "start_time": "2023-02-18T15:23:58.108Z"
   },
   {
    "duration": 27,
    "start_time": "2023-02-18T15:23:58.124Z"
   },
   {
    "duration": 13,
    "start_time": "2023-02-18T15:23:58.152Z"
   },
   {
    "duration": 17,
    "start_time": "2023-02-18T15:23:58.166Z"
   },
   {
    "duration": 4,
    "start_time": "2023-02-18T15:23:58.185Z"
   },
   {
    "duration": 18,
    "start_time": "2023-02-18T15:23:58.191Z"
   },
   {
    "duration": 36,
    "start_time": "2023-02-18T15:25:54.051Z"
   },
   {
    "duration": 33,
    "start_time": "2023-02-18T15:26:04.204Z"
   },
   {
    "duration": 25,
    "start_time": "2023-02-18T15:27:33.633Z"
   },
   {
    "duration": 170,
    "start_time": "2023-02-18T15:27:42.031Z"
   },
   {
    "duration": 945,
    "start_time": "2023-02-18T15:29:06.103Z"
   },
   {
    "duration": 208,
    "start_time": "2023-02-18T15:29:07.049Z"
   },
   {
    "duration": 5,
    "start_time": "2023-02-18T15:29:07.258Z"
   },
   {
    "duration": 16,
    "start_time": "2023-02-18T15:29:07.265Z"
   },
   {
    "duration": 19,
    "start_time": "2023-02-18T15:29:07.282Z"
   },
   {
    "duration": 223,
    "start_time": "2023-02-18T15:29:07.303Z"
   },
   {
    "duration": 150,
    "start_time": "2023-02-18T15:29:07.528Z"
   },
   {
    "duration": 91,
    "start_time": "2023-02-18T15:29:07.679Z"
   },
   {
    "duration": 32,
    "start_time": "2023-02-18T15:29:07.771Z"
   },
   {
    "duration": 63,
    "start_time": "2023-02-18T15:29:07.806Z"
   },
   {
    "duration": 22,
    "start_time": "2023-02-18T15:29:07.870Z"
   },
   {
    "duration": 190,
    "start_time": "2023-02-18T15:29:07.894Z"
   },
   {
    "duration": 91,
    "start_time": "2023-02-18T15:29:08.085Z"
   },
   {
    "duration": 0,
    "start_time": "2023-02-18T15:29:08.178Z"
   },
   {
    "duration": 0,
    "start_time": "2023-02-18T15:29:08.179Z"
   },
   {
    "duration": 0,
    "start_time": "2023-02-18T15:29:08.180Z"
   },
   {
    "duration": 0,
    "start_time": "2023-02-18T15:29:08.180Z"
   },
   {
    "duration": 0,
    "start_time": "2023-02-18T15:29:08.181Z"
   },
   {
    "duration": 0,
    "start_time": "2023-02-18T15:29:08.182Z"
   },
   {
    "duration": 0,
    "start_time": "2023-02-18T15:29:08.183Z"
   },
   {
    "duration": 0,
    "start_time": "2023-02-18T15:29:08.185Z"
   },
   {
    "duration": 0,
    "start_time": "2023-02-18T15:29:08.185Z"
   },
   {
    "duration": 0,
    "start_time": "2023-02-18T15:29:08.186Z"
   },
   {
    "duration": 0,
    "start_time": "2023-02-18T15:29:08.187Z"
   },
   {
    "duration": 0,
    "start_time": "2023-02-18T15:29:08.188Z"
   },
   {
    "duration": 0,
    "start_time": "2023-02-18T15:29:08.189Z"
   },
   {
    "duration": 0,
    "start_time": "2023-02-18T15:29:08.190Z"
   },
   {
    "duration": 0,
    "start_time": "2023-02-18T15:29:08.191Z"
   },
   {
    "duration": 0,
    "start_time": "2023-02-18T15:29:08.192Z"
   },
   {
    "duration": 0,
    "start_time": "2023-02-18T15:29:08.194Z"
   },
   {
    "duration": 0,
    "start_time": "2023-02-18T15:29:08.195Z"
   },
   {
    "duration": 0,
    "start_time": "2023-02-18T15:29:08.195Z"
   },
   {
    "duration": 0,
    "start_time": "2023-02-18T15:29:08.197Z"
   },
   {
    "duration": 0,
    "start_time": "2023-02-18T15:29:08.197Z"
   },
   {
    "duration": 172,
    "start_time": "2023-02-18T15:30:01.947Z"
   },
   {
    "duration": 6,
    "start_time": "2023-02-18T15:30:15.273Z"
   },
   {
    "duration": 9,
    "start_time": "2023-02-18T15:30:18.551Z"
   },
   {
    "duration": 518,
    "start_time": "2023-02-18T15:30:55.318Z"
   },
   {
    "duration": 27,
    "start_time": "2023-02-18T15:31:16.095Z"
   },
   {
    "duration": 28,
    "start_time": "2023-02-18T15:31:49.535Z"
   },
   {
    "duration": 48,
    "start_time": "2023-02-18T15:31:50.336Z"
   },
   {
    "duration": 329,
    "start_time": "2023-02-18T15:32:20.874Z"
   },
   {
    "duration": 43,
    "start_time": "2023-02-18T15:32:32.334Z"
   },
   {
    "duration": 81,
    "start_time": "2023-02-18T15:34:11.493Z"
   },
   {
    "duration": 12,
    "start_time": "2023-02-18T15:34:51.066Z"
   },
   {
    "duration": 4,
    "start_time": "2023-02-18T15:34:55.255Z"
   },
   {
    "duration": 167,
    "start_time": "2023-02-18T15:37:13.277Z"
   },
   {
    "duration": 87,
    "start_time": "2023-02-18T15:38:58.201Z"
   },
   {
    "duration": 82,
    "start_time": "2023-02-18T15:39:11.799Z"
   },
   {
    "duration": 75,
    "start_time": "2023-02-18T15:40:12.359Z"
   },
   {
    "duration": 17,
    "start_time": "2023-02-18T15:40:18.046Z"
   },
   {
    "duration": 67,
    "start_time": "2023-02-18T15:40:57.788Z"
   },
   {
    "duration": 34,
    "start_time": "2023-02-18T15:41:07.337Z"
   },
   {
    "duration": 188,
    "start_time": "2023-02-18T15:41:13.524Z"
   },
   {
    "duration": 23,
    "start_time": "2023-02-18T15:44:57.042Z"
   },
   {
    "duration": 16,
    "start_time": "2023-02-18T15:47:11.697Z"
   },
   {
    "duration": 11,
    "start_time": "2023-02-18T15:47:19.326Z"
   },
   {
    "duration": 12,
    "start_time": "2023-02-18T15:47:24.550Z"
   },
   {
    "duration": 11,
    "start_time": "2023-02-18T15:48:38.670Z"
   },
   {
    "duration": 10,
    "start_time": "2023-02-18T15:48:50.060Z"
   },
   {
    "duration": 81,
    "start_time": "2023-02-18T15:49:00.352Z"
   },
   {
    "duration": 155,
    "start_time": "2023-02-18T15:49:05.980Z"
   },
   {
    "duration": 5,
    "start_time": "2023-02-18T15:49:16.600Z"
   },
   {
    "duration": 3,
    "start_time": "2023-02-18T15:49:17.139Z"
   },
   {
    "duration": 3,
    "start_time": "2023-02-18T15:49:18.205Z"
   },
   {
    "duration": 214,
    "start_time": "2023-02-18T15:49:21.816Z"
   },
   {
    "duration": 12,
    "start_time": "2023-02-18T15:50:38.720Z"
   },
   {
    "duration": 11,
    "start_time": "2023-02-18T15:50:51.804Z"
   },
   {
    "duration": 12,
    "start_time": "2023-02-18T15:50:52.457Z"
   },
   {
    "duration": 12,
    "start_time": "2023-02-18T15:50:53.421Z"
   },
   {
    "duration": 4,
    "start_time": "2023-02-18T15:50:54.364Z"
   },
   {
    "duration": 13,
    "start_time": "2023-02-18T15:50:56.305Z"
   },
   {
    "duration": 1025,
    "start_time": "2023-02-18T15:53:43.521Z"
   },
   {
    "duration": 212,
    "start_time": "2023-02-18T15:53:44.547Z"
   },
   {
    "duration": 6,
    "start_time": "2023-02-18T15:53:44.760Z"
   },
   {
    "duration": 22,
    "start_time": "2023-02-18T15:53:44.768Z"
   },
   {
    "duration": 17,
    "start_time": "2023-02-18T15:53:44.792Z"
   },
   {
    "duration": 216,
    "start_time": "2023-02-18T15:53:44.811Z"
   },
   {
    "duration": 142,
    "start_time": "2023-02-18T15:53:45.029Z"
   },
   {
    "duration": 82,
    "start_time": "2023-02-18T15:53:45.173Z"
   },
   {
    "duration": 34,
    "start_time": "2023-02-18T15:53:45.257Z"
   },
   {
    "duration": 67,
    "start_time": "2023-02-18T15:53:45.293Z"
   },
   {
    "duration": 21,
    "start_time": "2023-02-18T15:53:45.362Z"
   },
   {
    "duration": 209,
    "start_time": "2023-02-18T15:53:45.384Z"
   },
   {
    "duration": 11,
    "start_time": "2023-02-18T15:53:45.595Z"
   },
   {
    "duration": 497,
    "start_time": "2023-02-18T15:53:45.607Z"
   },
   {
    "duration": 28,
    "start_time": "2023-02-18T15:53:46.105Z"
   },
   {
    "duration": 57,
    "start_time": "2023-02-18T15:53:46.134Z"
   },
   {
    "duration": 335,
    "start_time": "2023-02-18T15:53:46.193Z"
   },
   {
    "duration": 49,
    "start_time": "2023-02-18T15:53:46.529Z"
   },
   {
    "duration": 93,
    "start_time": "2023-02-18T15:53:46.579Z"
   },
   {
    "duration": 10,
    "start_time": "2023-02-18T15:53:46.674Z"
   },
   {
    "duration": 91,
    "start_time": "2023-02-18T15:53:46.685Z"
   },
   {
    "duration": 141,
    "start_time": "2023-02-18T15:53:46.777Z"
   },
   {
    "duration": 129,
    "start_time": "2023-02-18T15:53:46.920Z"
   },
   {
    "duration": 160,
    "start_time": "2023-02-18T15:53:47.051Z"
   },
   {
    "duration": 5,
    "start_time": "2023-02-18T15:53:47.213Z"
   },
   {
    "duration": 8,
    "start_time": "2023-02-18T15:53:47.219Z"
   },
   {
    "duration": 8,
    "start_time": "2023-02-18T15:53:47.228Z"
   },
   {
    "duration": 192,
    "start_time": "2023-02-18T15:53:47.247Z"
   },
   {
    "duration": 17,
    "start_time": "2023-02-18T15:53:47.440Z"
   },
   {
    "duration": 15,
    "start_time": "2023-02-18T15:53:47.460Z"
   },
   {
    "duration": 14,
    "start_time": "2023-02-18T15:53:47.476Z"
   },
   {
    "duration": 12,
    "start_time": "2023-02-18T15:53:47.491Z"
   },
   {
    "duration": 8,
    "start_time": "2023-02-18T15:53:47.504Z"
   },
   {
    "duration": 38,
    "start_time": "2023-02-18T15:53:47.514Z"
   },
   {
    "duration": 1079,
    "start_time": "2023-02-18T15:54:35.203Z"
   },
   {
    "duration": 215,
    "start_time": "2023-02-18T15:54:36.284Z"
   },
   {
    "duration": 6,
    "start_time": "2023-02-18T15:54:36.500Z"
   },
   {
    "duration": 17,
    "start_time": "2023-02-18T15:54:36.508Z"
   },
   {
    "duration": 29,
    "start_time": "2023-02-18T15:54:36.527Z"
   },
   {
    "duration": 232,
    "start_time": "2023-02-18T15:54:36.557Z"
   },
   {
    "duration": 168,
    "start_time": "2023-02-18T15:54:36.790Z"
   },
   {
    "duration": 109,
    "start_time": "2023-02-18T15:54:36.960Z"
   },
   {
    "duration": 36,
    "start_time": "2023-02-18T15:54:37.071Z"
   },
   {
    "duration": 72,
    "start_time": "2023-02-18T15:54:37.109Z"
   },
   {
    "duration": 24,
    "start_time": "2023-02-18T15:54:37.182Z"
   },
   {
    "duration": 185,
    "start_time": "2023-02-18T15:54:37.208Z"
   },
   {
    "duration": 11,
    "start_time": "2023-02-18T15:54:37.394Z"
   },
   {
    "duration": 526,
    "start_time": "2023-02-18T15:54:37.409Z"
   },
   {
    "duration": 30,
    "start_time": "2023-02-18T15:54:37.937Z"
   },
   {
    "duration": 51,
    "start_time": "2023-02-18T15:54:37.969Z"
   },
   {
    "duration": 380,
    "start_time": "2023-02-18T15:54:38.022Z"
   },
   {
    "duration": 54,
    "start_time": "2023-02-18T15:54:38.404Z"
   },
   {
    "duration": 100,
    "start_time": "2023-02-18T15:54:38.460Z"
   },
   {
    "duration": 11,
    "start_time": "2023-02-18T15:54:38.561Z"
   },
   {
    "duration": 40,
    "start_time": "2023-02-18T15:54:38.574Z"
   },
   {
    "duration": 164,
    "start_time": "2023-02-18T15:54:38.615Z"
   },
   {
    "duration": 101,
    "start_time": "2023-02-18T15:54:38.780Z"
   },
   {
    "duration": 203,
    "start_time": "2023-02-18T15:54:38.883Z"
   },
   {
    "duration": 6,
    "start_time": "2023-02-18T15:54:39.088Z"
   },
   {
    "duration": 4,
    "start_time": "2023-02-18T15:54:39.096Z"
   },
   {
    "duration": 32,
    "start_time": "2023-02-18T15:54:39.101Z"
   },
   {
    "duration": 194,
    "start_time": "2023-02-18T15:54:39.134Z"
   },
   {
    "duration": 11,
    "start_time": "2023-02-18T15:54:39.330Z"
   },
   {
    "duration": 18,
    "start_time": "2023-02-18T15:54:39.348Z"
   },
   {
    "duration": 12,
    "start_time": "2023-02-18T15:54:39.368Z"
   },
   {
    "duration": 16,
    "start_time": "2023-02-18T15:54:39.381Z"
   },
   {
    "duration": 6,
    "start_time": "2023-02-18T15:54:39.398Z"
   },
   {
    "duration": 42,
    "start_time": "2023-02-18T15:54:39.406Z"
   },
   {
    "duration": 1058,
    "start_time": "2023-02-18T16:00:38.239Z"
   },
   {
    "duration": 219,
    "start_time": "2023-02-18T16:00:39.299Z"
   },
   {
    "duration": 5,
    "start_time": "2023-02-18T16:00:39.519Z"
   },
   {
    "duration": 22,
    "start_time": "2023-02-18T16:00:39.526Z"
   },
   {
    "duration": 18,
    "start_time": "2023-02-18T16:00:39.549Z"
   },
   {
    "duration": 218,
    "start_time": "2023-02-18T16:00:39.568Z"
   },
   {
    "duration": 154,
    "start_time": "2023-02-18T16:00:39.788Z"
   },
   {
    "duration": 92,
    "start_time": "2023-02-18T16:00:39.948Z"
   },
   {
    "duration": 33,
    "start_time": "2023-02-18T16:00:40.048Z"
   },
   {
    "duration": 66,
    "start_time": "2023-02-18T16:00:40.084Z"
   },
   {
    "duration": 21,
    "start_time": "2023-02-18T16:00:40.152Z"
   },
   {
    "duration": 174,
    "start_time": "2023-02-18T16:00:40.175Z"
   },
   {
    "duration": 8,
    "start_time": "2023-02-18T16:00:40.351Z"
   },
   {
    "duration": 485,
    "start_time": "2023-02-18T16:00:40.361Z"
   },
   {
    "duration": 41,
    "start_time": "2023-02-18T16:00:40.848Z"
   },
   {
    "duration": 70,
    "start_time": "2023-02-18T16:00:40.890Z"
   },
   {
    "duration": 336,
    "start_time": "2023-02-18T16:00:40.962Z"
   },
   {
    "duration": 54,
    "start_time": "2023-02-18T16:00:41.299Z"
   },
   {
    "duration": 94,
    "start_time": "2023-02-18T16:00:41.354Z"
   },
   {
    "duration": 12,
    "start_time": "2023-02-18T16:00:41.450Z"
   },
   {
    "duration": 38,
    "start_time": "2023-02-18T16:00:41.463Z"
   },
   {
    "duration": 171,
    "start_time": "2023-02-18T16:00:41.502Z"
   },
   {
    "duration": 174,
    "start_time": "2023-02-18T16:00:41.675Z"
   },
   {
    "duration": 178,
    "start_time": "2023-02-18T16:00:41.851Z"
   },
   {
    "duration": 4,
    "start_time": "2023-02-18T16:00:42.030Z"
   },
   {
    "duration": 18,
    "start_time": "2023-02-18T16:00:42.036Z"
   },
   {
    "duration": 14,
    "start_time": "2023-02-18T16:00:42.056Z"
   },
   {
    "duration": 180,
    "start_time": "2023-02-18T16:00:42.074Z"
   },
   {
    "duration": 14,
    "start_time": "2023-02-18T16:00:42.256Z"
   },
   {
    "duration": 27,
    "start_time": "2023-02-18T16:00:42.272Z"
   },
   {
    "duration": 26,
    "start_time": "2023-02-18T16:00:42.301Z"
   },
   {
    "duration": 12,
    "start_time": "2023-02-18T16:00:42.328Z"
   },
   {
    "duration": 8,
    "start_time": "2023-02-18T16:00:42.341Z"
   },
   {
    "duration": 12,
    "start_time": "2023-02-18T16:00:42.351Z"
   },
   {
    "duration": 1252,
    "start_time": "2023-02-19T09:14:33.290Z"
   },
   {
    "duration": 178,
    "start_time": "2023-02-19T09:14:34.545Z"
   },
   {
    "duration": 16,
    "start_time": "2023-02-19T09:14:34.725Z"
   },
   {
    "duration": 34,
    "start_time": "2023-02-19T09:14:34.743Z"
   },
   {
    "duration": 36,
    "start_time": "2023-02-19T09:14:34.780Z"
   },
   {
    "duration": 234,
    "start_time": "2023-02-19T09:14:34.839Z"
   },
   {
    "duration": 159,
    "start_time": "2023-02-19T09:14:35.075Z"
   },
   {
    "duration": 81,
    "start_time": "2023-02-19T09:14:35.240Z"
   },
   {
    "duration": 43,
    "start_time": "2023-02-19T09:14:35.323Z"
   },
   {
    "duration": 77,
    "start_time": "2023-02-19T09:14:35.368Z"
   },
   {
    "duration": 27,
    "start_time": "2023-02-19T09:14:35.447Z"
   },
   {
    "duration": 199,
    "start_time": "2023-02-19T09:14:35.477Z"
   },
   {
    "duration": 8,
    "start_time": "2023-02-19T09:14:35.678Z"
   },
   {
    "duration": 488,
    "start_time": "2023-02-19T09:14:35.690Z"
   },
   {
    "duration": 28,
    "start_time": "2023-02-19T09:14:36.180Z"
   },
   {
    "duration": 72,
    "start_time": "2023-02-19T09:14:36.209Z"
   },
   {
    "duration": 459,
    "start_time": "2023-02-19T09:14:36.283Z"
   },
   {
    "duration": 51,
    "start_time": "2023-02-19T09:14:36.744Z"
   },
   {
    "duration": 113,
    "start_time": "2023-02-19T09:14:36.797Z"
   },
   {
    "duration": 29,
    "start_time": "2023-02-19T09:14:36.913Z"
   },
   {
    "duration": 51,
    "start_time": "2023-02-19T09:14:36.944Z"
   },
   {
    "duration": 255,
    "start_time": "2023-02-19T09:14:36.996Z"
   },
   {
    "duration": 190,
    "start_time": "2023-02-19T09:14:37.254Z"
   },
   {
    "duration": 197,
    "start_time": "2023-02-19T09:14:37.445Z"
   },
   {
    "duration": 4,
    "start_time": "2023-02-19T09:14:37.644Z"
   },
   {
    "duration": 22,
    "start_time": "2023-02-19T09:14:37.650Z"
   },
   {
    "duration": 11,
    "start_time": "2023-02-19T09:14:37.675Z"
   },
   {
    "duration": 236,
    "start_time": "2023-02-19T09:14:37.688Z"
   },
   {
    "duration": 17,
    "start_time": "2023-02-19T09:14:37.926Z"
   },
   {
    "duration": 20,
    "start_time": "2023-02-19T09:14:37.946Z"
   },
   {
    "duration": 18,
    "start_time": "2023-02-19T09:14:37.968Z"
   },
   {
    "duration": 24,
    "start_time": "2023-02-19T09:14:37.988Z"
   },
   {
    "duration": 11,
    "start_time": "2023-02-19T09:14:38.014Z"
   },
   {
    "duration": 17,
    "start_time": "2023-02-19T09:14:38.027Z"
   },
   {
    "duration": 1171,
    "start_time": "2023-02-19T10:03:30.350Z"
   },
   {
    "duration": 729,
    "start_time": "2023-02-19T10:03:31.523Z"
   },
   {
    "duration": 6,
    "start_time": "2023-02-19T10:03:32.254Z"
   },
   {
    "duration": 20,
    "start_time": "2023-02-19T10:03:32.263Z"
   },
   {
    "duration": 26,
    "start_time": "2023-02-19T10:03:32.285Z"
   },
   {
    "duration": 223,
    "start_time": "2023-02-19T10:03:32.313Z"
   },
   {
    "duration": 150,
    "start_time": "2023-02-19T10:03:32.538Z"
   },
   {
    "duration": 90,
    "start_time": "2023-02-19T10:03:32.690Z"
   },
   {
    "duration": 45,
    "start_time": "2023-02-19T10:03:32.781Z"
   },
   {
    "duration": 55,
    "start_time": "2023-02-19T10:03:32.829Z"
   },
   {
    "duration": 33,
    "start_time": "2023-02-19T10:03:32.885Z"
   },
   {
    "duration": 194,
    "start_time": "2023-02-19T10:03:32.919Z"
   },
   {
    "duration": 9,
    "start_time": "2023-02-19T10:03:33.115Z"
   },
   {
    "duration": 522,
    "start_time": "2023-02-19T10:03:33.125Z"
   },
   {
    "duration": 28,
    "start_time": "2023-02-19T10:03:33.648Z"
   },
   {
    "duration": 58,
    "start_time": "2023-02-19T10:03:33.677Z"
   },
   {
    "duration": 365,
    "start_time": "2023-02-19T10:03:33.737Z"
   },
   {
    "duration": 45,
    "start_time": "2023-02-19T10:03:34.110Z"
   },
   {
    "duration": 105,
    "start_time": "2023-02-19T10:03:34.157Z"
   },
   {
    "duration": 10,
    "start_time": "2023-02-19T10:03:34.264Z"
   },
   {
    "duration": 52,
    "start_time": "2023-02-19T10:03:34.275Z"
   },
   {
    "duration": 151,
    "start_time": "2023-02-19T10:03:34.329Z"
   },
   {
    "duration": 141,
    "start_time": "2023-02-19T10:03:34.481Z"
   },
   {
    "duration": 192,
    "start_time": "2023-02-19T10:03:34.624Z"
   },
   {
    "duration": 4,
    "start_time": "2023-02-19T10:03:34.818Z"
   },
   {
    "duration": 4,
    "start_time": "2023-02-19T10:03:34.823Z"
   },
   {
    "duration": 8,
    "start_time": "2023-02-19T10:03:34.829Z"
   },
   {
    "duration": 196,
    "start_time": "2023-02-19T10:03:34.840Z"
   },
   {
    "duration": 14,
    "start_time": "2023-02-19T10:03:35.037Z"
   },
   {
    "duration": 29,
    "start_time": "2023-02-19T10:03:35.053Z"
   },
   {
    "duration": 12,
    "start_time": "2023-02-19T10:03:35.083Z"
   },
   {
    "duration": 21,
    "start_time": "2023-02-19T10:03:35.096Z"
   },
   {
    "duration": 4,
    "start_time": "2023-02-19T10:03:35.119Z"
   },
   {
    "duration": 13,
    "start_time": "2023-02-19T10:03:35.124Z"
   }
  ],
  "kernelspec": {
   "display_name": "Python 3 (ipykernel)",
   "language": "python",
   "name": "python3"
  },
  "language_info": {
   "codemirror_mode": {
    "name": "ipython",
    "version": 3
   },
   "file_extension": ".py",
   "mimetype": "text/x-python",
   "name": "python",
   "nbconvert_exporter": "python",
   "pygments_lexer": "ipython3",
   "version": "3.9.12"
  },
  "toc": {
   "base_numbering": 1,
   "nav_menu": {},
   "number_sections": true,
   "sideBar": true,
   "skip_h1_title": true,
   "title_cell": "Table of Contents",
   "title_sidebar": "Contents",
   "toc_cell": false,
   "toc_position": {
    "height": "calc(100% - 180px)",
    "left": "10px",
    "top": "150px",
    "width": "175.167px"
   },
   "toc_section_display": true,
   "toc_window_display": true
  }
 },
 "nbformat": 4,
 "nbformat_minor": 2
}
